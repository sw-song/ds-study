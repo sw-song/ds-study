{
 "cells": [
  {
   "cell_type": "markdown",
   "id": "0b71fd19",
   "metadata": {},
   "source": [
    "# 넷플릭스의 콘텐츠 보유 현황과 수급 전략 분석\n",
    "\n",
    "- 분석 목표 : 넷플릭스에서 보유한 콘텐츠 현황과 최근 집중하는 콘텐츠 유형을 파악해 넷플릭스의 시장 점유를 위한 콘텐츠 수급 전략을 분석한다.\n",
    "- 데이터 출처 : [Netflix Movies and TV Shows | Kaggle](https://www.kaggle.com/shivamb/netflix-shows)\n",
    "- 참고 사이트 : [영화, TV 관람 등급 표](https://www.primevideo.com/help/ref=atv_hp_nd_cnt?language=ko_KR&nodeId=GFGQU3WYEG6FSJFJ)"
   ]
  },
  {
   "cell_type": "markdown",
   "id": "374431cc",
   "metadata": {},
   "source": [
    "```\n",
    "Step 1. 가설 설정\n",
    "Step 2. 기본 전처리\n",
    "     2-1. 불필요한 컬럼 제거\n",
    "     2-2. 불필요한 행 제거\n",
    "     2-3. 데이터 타입 변환\n",
    "     2-4. 시계열 데이터 변환\n",
    "     2-5. 데이터 구간(시간) 분할\n",
    "Step 3. 가설 검정\n",
    "     3-1. 특정 콘텐츠 유형에 대한 집중 수급 여부 분석\n",
    "     3-2. 특정 국가를 겨냥한 콘텐츠 현황 분석\n",
    "     3-3. 콘텐츠 수급 대상 연도 분석\n",
    "     3-4. 넷플릭스의 주요 소비자 타겟(연령대) 분석\n",
    "     3-5. 콘텐츠 평균 재생 시간 분석\n",
    "     3-5. 넷플릭스에서 주로 수급하는 콘텐츠 장르 분석\n",
    "Step 4. 종합 결론\n",
    "```"
   ]
  },
  {
   "cell_type": "markdown",
   "id": "bd12fec1",
   "metadata": {},
   "source": [
    "---\n",
    "## 1. 가설 설정"
   ]
  },
  {
   "cell_type": "markdown",
   "id": "e8e75ba9",
   "metadata": {},
   "source": [
    "각 컬럼별 유효 데이터와 결측치 분포를 확인하고, 이에 따라 분석 목표에 도달하기 위한 가설을 설정합니다."
   ]
  },
  {
   "cell_type": "code",
   "execution_count": 6,
   "id": "f59ed4c0",
   "metadata": {},
   "outputs": [],
   "source": [
    "import pandas as pd\n",
    "import numpy as np\n",
    "\n",
    "import plotly.express as px\n",
    "import plotly.graph_objects as go\n",
    "from plotly.subplots import make_subplots\n",
    "\n",
    "import matplotlib.pyplot as plt\n",
    "import seaborn as sns\n",
    "\n",
    "import warnings\n",
    "warnings.filterwarnings(action='ignore')"
   ]
  },
  {
   "cell_type": "code",
   "execution_count": 7,
   "id": "1ffe93af",
   "metadata": {},
   "outputs": [
    {
     "data": {
      "text/html": [
       "<div>\n",
       "<style scoped>\n",
       "    .dataframe tbody tr th:only-of-type {\n",
       "        vertical-align: middle;\n",
       "    }\n",
       "\n",
       "    .dataframe tbody tr th {\n",
       "        vertical-align: top;\n",
       "    }\n",
       "\n",
       "    .dataframe thead th {\n",
       "        text-align: right;\n",
       "    }\n",
       "</style>\n",
       "<table border=\"1\" class=\"dataframe\">\n",
       "  <thead>\n",
       "    <tr style=\"text-align: right;\">\n",
       "      <th></th>\n",
       "      <th>show_id</th>\n",
       "      <th>type</th>\n",
       "      <th>title</th>\n",
       "      <th>director</th>\n",
       "      <th>cast</th>\n",
       "      <th>country</th>\n",
       "      <th>date_added</th>\n",
       "      <th>release_year</th>\n",
       "      <th>rating</th>\n",
       "      <th>duration</th>\n",
       "      <th>listed_in</th>\n",
       "      <th>description</th>\n",
       "    </tr>\n",
       "  </thead>\n",
       "  <tbody>\n",
       "    <tr>\n",
       "      <th>0</th>\n",
       "      <td>s1</td>\n",
       "      <td>TV Show</td>\n",
       "      <td>3%</td>\n",
       "      <td>NaN</td>\n",
       "      <td>João Miguel, Bianca Comparato, Michel Gomes, R...</td>\n",
       "      <td>Brazil</td>\n",
       "      <td>August 14, 2020</td>\n",
       "      <td>2020</td>\n",
       "      <td>TV-MA</td>\n",
       "      <td>4 Seasons</td>\n",
       "      <td>International TV Shows, TV Dramas, TV Sci-Fi &amp;...</td>\n",
       "      <td>In a future where the elite inhabit an island ...</td>\n",
       "    </tr>\n",
       "    <tr>\n",
       "      <th>1</th>\n",
       "      <td>s2</td>\n",
       "      <td>Movie</td>\n",
       "      <td>7:19</td>\n",
       "      <td>Jorge Michel Grau</td>\n",
       "      <td>Demián Bichir, Héctor Bonilla, Oscar Serrano, ...</td>\n",
       "      <td>Mexico</td>\n",
       "      <td>December 23, 2016</td>\n",
       "      <td>2016</td>\n",
       "      <td>TV-MA</td>\n",
       "      <td>93 min</td>\n",
       "      <td>Dramas, International Movies</td>\n",
       "      <td>After a devastating earthquake hits Mexico Cit...</td>\n",
       "    </tr>\n",
       "    <tr>\n",
       "      <th>2</th>\n",
       "      <td>s3</td>\n",
       "      <td>Movie</td>\n",
       "      <td>23:59</td>\n",
       "      <td>Gilbert Chan</td>\n",
       "      <td>Tedd Chan, Stella Chung, Henley Hii, Lawrence ...</td>\n",
       "      <td>Singapore</td>\n",
       "      <td>December 20, 2018</td>\n",
       "      <td>2011</td>\n",
       "      <td>R</td>\n",
       "      <td>78 min</td>\n",
       "      <td>Horror Movies, International Movies</td>\n",
       "      <td>When an army recruit is found dead, his fellow...</td>\n",
       "    </tr>\n",
       "    <tr>\n",
       "      <th>3</th>\n",
       "      <td>s4</td>\n",
       "      <td>Movie</td>\n",
       "      <td>9</td>\n",
       "      <td>Shane Acker</td>\n",
       "      <td>Elijah Wood, John C. Reilly, Jennifer Connelly...</td>\n",
       "      <td>United States</td>\n",
       "      <td>November 16, 2017</td>\n",
       "      <td>2009</td>\n",
       "      <td>PG-13</td>\n",
       "      <td>80 min</td>\n",
       "      <td>Action &amp; Adventure, Independent Movies, Sci-Fi...</td>\n",
       "      <td>In a postapocalyptic world, rag-doll robots hi...</td>\n",
       "    </tr>\n",
       "    <tr>\n",
       "      <th>4</th>\n",
       "      <td>s5</td>\n",
       "      <td>Movie</td>\n",
       "      <td>21</td>\n",
       "      <td>Robert Luketic</td>\n",
       "      <td>Jim Sturgess, Kevin Spacey, Kate Bosworth, Aar...</td>\n",
       "      <td>United States</td>\n",
       "      <td>January 1, 2020</td>\n",
       "      <td>2008</td>\n",
       "      <td>PG-13</td>\n",
       "      <td>123 min</td>\n",
       "      <td>Dramas</td>\n",
       "      <td>A brilliant group of students become card-coun...</td>\n",
       "    </tr>\n",
       "    <tr>\n",
       "      <th>...</th>\n",
       "      <td>...</td>\n",
       "      <td>...</td>\n",
       "      <td>...</td>\n",
       "      <td>...</td>\n",
       "      <td>...</td>\n",
       "      <td>...</td>\n",
       "      <td>...</td>\n",
       "      <td>...</td>\n",
       "      <td>...</td>\n",
       "      <td>...</td>\n",
       "      <td>...</td>\n",
       "      <td>...</td>\n",
       "    </tr>\n",
       "    <tr>\n",
       "      <th>7782</th>\n",
       "      <td>s7783</td>\n",
       "      <td>Movie</td>\n",
       "      <td>Zozo</td>\n",
       "      <td>Josef Fares</td>\n",
       "      <td>Imad Creidi, Antoinette Turk, Elias Gergi, Car...</td>\n",
       "      <td>Sweden, Czech Republic, United Kingdom, Denmar...</td>\n",
       "      <td>October 19, 2020</td>\n",
       "      <td>2005</td>\n",
       "      <td>TV-MA</td>\n",
       "      <td>99 min</td>\n",
       "      <td>Dramas, International Movies</td>\n",
       "      <td>When Lebanon's Civil War deprives Zozo of his ...</td>\n",
       "    </tr>\n",
       "    <tr>\n",
       "      <th>7783</th>\n",
       "      <td>s7784</td>\n",
       "      <td>Movie</td>\n",
       "      <td>Zubaan</td>\n",
       "      <td>Mozez Singh</td>\n",
       "      <td>Vicky Kaushal, Sarah-Jane Dias, Raaghav Chanan...</td>\n",
       "      <td>India</td>\n",
       "      <td>March 2, 2019</td>\n",
       "      <td>2015</td>\n",
       "      <td>TV-14</td>\n",
       "      <td>111 min</td>\n",
       "      <td>Dramas, International Movies, Music &amp; Musicals</td>\n",
       "      <td>A scrappy but poor boy worms his way into a ty...</td>\n",
       "    </tr>\n",
       "    <tr>\n",
       "      <th>7784</th>\n",
       "      <td>s7785</td>\n",
       "      <td>Movie</td>\n",
       "      <td>Zulu Man in Japan</td>\n",
       "      <td>NaN</td>\n",
       "      <td>Nasty C</td>\n",
       "      <td>NaN</td>\n",
       "      <td>September 25, 2020</td>\n",
       "      <td>2019</td>\n",
       "      <td>TV-MA</td>\n",
       "      <td>44 min</td>\n",
       "      <td>Documentaries, International Movies, Music &amp; M...</td>\n",
       "      <td>In this documentary, South African rapper Nast...</td>\n",
       "    </tr>\n",
       "    <tr>\n",
       "      <th>7785</th>\n",
       "      <td>s7786</td>\n",
       "      <td>TV Show</td>\n",
       "      <td>Zumbo's Just Desserts</td>\n",
       "      <td>NaN</td>\n",
       "      <td>Adriano Zumbo, Rachel Khoo</td>\n",
       "      <td>Australia</td>\n",
       "      <td>October 31, 2020</td>\n",
       "      <td>2019</td>\n",
       "      <td>TV-PG</td>\n",
       "      <td>1 Season</td>\n",
       "      <td>International TV Shows, Reality TV</td>\n",
       "      <td>Dessert wizard Adriano Zumbo looks for the nex...</td>\n",
       "    </tr>\n",
       "    <tr>\n",
       "      <th>7786</th>\n",
       "      <td>s7787</td>\n",
       "      <td>Movie</td>\n",
       "      <td>ZZ TOP: THAT LITTLE OL' BAND FROM TEXAS</td>\n",
       "      <td>Sam Dunn</td>\n",
       "      <td>NaN</td>\n",
       "      <td>United Kingdom, Canada, United States</td>\n",
       "      <td>March 1, 2020</td>\n",
       "      <td>2019</td>\n",
       "      <td>TV-MA</td>\n",
       "      <td>90 min</td>\n",
       "      <td>Documentaries, Music &amp; Musicals</td>\n",
       "      <td>This documentary delves into the mystique behi...</td>\n",
       "    </tr>\n",
       "  </tbody>\n",
       "</table>\n",
       "<p>7787 rows × 12 columns</p>\n",
       "</div>"
      ],
      "text/plain": [
       "     show_id     type                                    title  \\\n",
       "0         s1  TV Show                                       3%   \n",
       "1         s2    Movie                                     7:19   \n",
       "2         s3    Movie                                    23:59   \n",
       "3         s4    Movie                                        9   \n",
       "4         s5    Movie                                       21   \n",
       "...      ...      ...                                      ...   \n",
       "7782   s7783    Movie                                     Zozo   \n",
       "7783   s7784    Movie                                   Zubaan   \n",
       "7784   s7785    Movie                        Zulu Man in Japan   \n",
       "7785   s7786  TV Show                    Zumbo's Just Desserts   \n",
       "7786   s7787    Movie  ZZ TOP: THAT LITTLE OL' BAND FROM TEXAS   \n",
       "\n",
       "               director                                               cast  \\\n",
       "0                   NaN  João Miguel, Bianca Comparato, Michel Gomes, R...   \n",
       "1     Jorge Michel Grau  Demián Bichir, Héctor Bonilla, Oscar Serrano, ...   \n",
       "2          Gilbert Chan  Tedd Chan, Stella Chung, Henley Hii, Lawrence ...   \n",
       "3           Shane Acker  Elijah Wood, John C. Reilly, Jennifer Connelly...   \n",
       "4        Robert Luketic  Jim Sturgess, Kevin Spacey, Kate Bosworth, Aar...   \n",
       "...                 ...                                                ...   \n",
       "7782        Josef Fares  Imad Creidi, Antoinette Turk, Elias Gergi, Car...   \n",
       "7783        Mozez Singh  Vicky Kaushal, Sarah-Jane Dias, Raaghav Chanan...   \n",
       "7784                NaN                                            Nasty C   \n",
       "7785                NaN                         Adriano Zumbo, Rachel Khoo   \n",
       "7786           Sam Dunn                                                NaN   \n",
       "\n",
       "                                                country          date_added  \\\n",
       "0                                                Brazil     August 14, 2020   \n",
       "1                                                Mexico   December 23, 2016   \n",
       "2                                             Singapore   December 20, 2018   \n",
       "3                                         United States   November 16, 2017   \n",
       "4                                         United States     January 1, 2020   \n",
       "...                                                 ...                 ...   \n",
       "7782  Sweden, Czech Republic, United Kingdom, Denmar...    October 19, 2020   \n",
       "7783                                              India       March 2, 2019   \n",
       "7784                                                NaN  September 25, 2020   \n",
       "7785                                          Australia    October 31, 2020   \n",
       "7786              United Kingdom, Canada, United States       March 1, 2020   \n",
       "\n",
       "      release_year rating   duration  \\\n",
       "0             2020  TV-MA  4 Seasons   \n",
       "1             2016  TV-MA     93 min   \n",
       "2             2011      R     78 min   \n",
       "3             2009  PG-13     80 min   \n",
       "4             2008  PG-13    123 min   \n",
       "...            ...    ...        ...   \n",
       "7782          2005  TV-MA     99 min   \n",
       "7783          2015  TV-14    111 min   \n",
       "7784          2019  TV-MA     44 min   \n",
       "7785          2019  TV-PG   1 Season   \n",
       "7786          2019  TV-MA     90 min   \n",
       "\n",
       "                                              listed_in  \\\n",
       "0     International TV Shows, TV Dramas, TV Sci-Fi &...   \n",
       "1                          Dramas, International Movies   \n",
       "2                   Horror Movies, International Movies   \n",
       "3     Action & Adventure, Independent Movies, Sci-Fi...   \n",
       "4                                                Dramas   \n",
       "...                                                 ...   \n",
       "7782                       Dramas, International Movies   \n",
       "7783     Dramas, International Movies, Music & Musicals   \n",
       "7784  Documentaries, International Movies, Music & M...   \n",
       "7785                 International TV Shows, Reality TV   \n",
       "7786                    Documentaries, Music & Musicals   \n",
       "\n",
       "                                            description  \n",
       "0     In a future where the elite inhabit an island ...  \n",
       "1     After a devastating earthquake hits Mexico Cit...  \n",
       "2     When an army recruit is found dead, his fellow...  \n",
       "3     In a postapocalyptic world, rag-doll robots hi...  \n",
       "4     A brilliant group of students become card-coun...  \n",
       "...                                                 ...  \n",
       "7782  When Lebanon's Civil War deprives Zozo of his ...  \n",
       "7783  A scrappy but poor boy worms his way into a ty...  \n",
       "7784  In this documentary, South African rapper Nast...  \n",
       "7785  Dessert wizard Adriano Zumbo looks for the nex...  \n",
       "7786  This documentary delves into the mystique behi...  \n",
       "\n",
       "[7787 rows x 12 columns]"
      ]
     },
     "execution_count": 7,
     "metadata": {},
     "output_type": "execute_result"
    }
   ],
   "source": [
    "netflix_r = pd.read_csv('./data/netflix_titles.csv')\n",
    "netflix_r"
   ]
  },
  {
   "cell_type": "code",
   "execution_count": 8,
   "id": "1b39d1e2",
   "metadata": {},
   "outputs": [
    {
     "data": {
      "text/plain": [
       "show_id            0\n",
       "type               0\n",
       "title              0\n",
       "director        2389\n",
       "cast             718\n",
       "country          507\n",
       "date_added        10\n",
       "release_year       0\n",
       "rating             7\n",
       "duration           0\n",
       "listed_in          0\n",
       "description        0\n",
       "dtype: int64"
      ]
     },
     "execution_count": 8,
     "metadata": {},
     "output_type": "execute_result"
    }
   ],
   "source": [
    "netflix_r.isnull().sum()"
   ]
  },
  {
   "cell_type": "code",
   "execution_count": 150,
   "id": "a76d31bb",
   "metadata": {},
   "outputs": [
    {
     "data": {
      "image/png": "[encoded data removed]",
      "text/plain": [
       "<Figure size 864x288 with 2 Axes>"
      ]
     },
     "metadata": {},
     "output_type": "display_data"
    }
   ],
   "source": [
    "plt.style.use('seaborn')\n",
    "\n",
    "plt.figure(figsize=(12,4))\n",
    "sns.heatmap(netflix_r.isnull().T, cmap='YlOrBr')\n",
    "plt.show()"
   ]
  },
  {
   "cell_type": "markdown",
   "id": "10308a88",
   "metadata": {},
   "source": [
    "- `show_id` : 해당 데이터셋 이외에 병합할 테이블이 없기 때문에 id 컬럼은 제거할 것입니다.\n",
    "- `director`: 감독에 대한 정보는 고려하지 않겠습니다.\n",
    "- `cast`: 배우 역시 고려하지 않겠습니다.\n",
    "\n",
    "\n",
    "본 데이터에서 검증하고자 하는 가설은 아래와 같습니다.(H1 = 연구가설)\n",
    "\n",
    "1. H1 : 최근 특정 콘텐츠 유형(TV show or Movie)이 늘고 있다. (주요 컬럼 : type)\n",
    "2. H1 : 최근 특정 국가의 콘텐츠 비중이 늘고 있다. (주요 컬럼 : country)\n",
    "3. H1 : 최근 옛날(오래된) 콘텐츠 수급 비중이 늘고 있다. (주요 컬럼 : release_year)\n",
    "4. H1 : 최근 타겟층(관람등급)이 명확한 콘텐츠 비중이 늘고 있다. (주요 컬럼 : rating)\n",
    "5. H1 : 최근 길이(시리즈, 시간)가 짧은 콘텐츠 비중이 늘고 있다. (주요 컬럼 : duration)\n",
    "6. H1 : 최근 유통하는 콘텐츠 장르가 더 다양해지고 있다. (주요 컬럼 : listed_in, description)\n",
    "\n",
    "\n",
    "위 순서로 가설을 검증해나가며 넷플릭스의 시장 점유 전략에 대한 최종 결론을 도출하고자 합니다.\n",
    "<br><br>\n"
   ]
  },
  {
   "cell_type": "markdown",
   "id": "d339100b",
   "metadata": {},
   "source": [
    "---\n",
    "## 2. 기본 전처리"
   ]
  },
  {
   "cell_type": "markdown",
   "id": "39eeaeef",
   "metadata": {},
   "source": [
    "본격적인 분석에 앞서 미리 처리해야할 사항은 아래와 같습니다.\n",
    "\n",
    "1. 분석에 사용할 컬럼만 가져온다.\n",
    "2. 사용하지 않을 행은 제거한다.(시간 누락)\n",
    "3. 추세 확인을 위해 시계열 데이터로 변환한다.\n",
    "4. 과거와 현재를 상대적으로 비교하기 위해 구간(시간)을 분할한다."
   ]
  },
  {
   "cell_type": "code",
   "execution_count": 10,
   "id": "e5a04041",
   "metadata": {},
   "outputs": [
    {
     "data": {
      "text/html": [
       "<div>\n",
       "<style scoped>\n",
       "    .dataframe tbody tr th:only-of-type {\n",
       "        vertical-align: middle;\n",
       "    }\n",
       "\n",
       "    .dataframe tbody tr th {\n",
       "        vertical-align: top;\n",
       "    }\n",
       "\n",
       "    .dataframe thead th {\n",
       "        text-align: right;\n",
       "    }\n",
       "</style>\n",
       "<table border=\"1\" class=\"dataframe\">\n",
       "  <thead>\n",
       "    <tr style=\"text-align: right;\">\n",
       "      <th></th>\n",
       "      <th>show_id</th>\n",
       "      <th>type</th>\n",
       "      <th>title</th>\n",
       "      <th>director</th>\n",
       "      <th>cast</th>\n",
       "      <th>country</th>\n",
       "      <th>date_added</th>\n",
       "      <th>release_year</th>\n",
       "      <th>rating</th>\n",
       "      <th>duration</th>\n",
       "      <th>listed_in</th>\n",
       "      <th>description</th>\n",
       "    </tr>\n",
       "  </thead>\n",
       "  <tbody>\n",
       "    <tr>\n",
       "      <th>0</th>\n",
       "      <td>s1</td>\n",
       "      <td>TV Show</td>\n",
       "      <td>3%</td>\n",
       "      <td>NaN</td>\n",
       "      <td>João Miguel, Bianca Comparato, Michel Gomes, R...</td>\n",
       "      <td>Brazil</td>\n",
       "      <td>August 14, 2020</td>\n",
       "      <td>2020</td>\n",
       "      <td>TV-MA</td>\n",
       "      <td>4 Seasons</td>\n",
       "      <td>International TV Shows, TV Dramas, TV Sci-Fi &amp;...</td>\n",
       "      <td>In a future where the elite inhabit an island ...</td>\n",
       "    </tr>\n",
       "    <tr>\n",
       "      <th>1</th>\n",
       "      <td>s2</td>\n",
       "      <td>Movie</td>\n",
       "      <td>7:19</td>\n",
       "      <td>Jorge Michel Grau</td>\n",
       "      <td>Demián Bichir, Héctor Bonilla, Oscar Serrano, ...</td>\n",
       "      <td>Mexico</td>\n",
       "      <td>December 23, 2016</td>\n",
       "      <td>2016</td>\n",
       "      <td>TV-MA</td>\n",
       "      <td>93 min</td>\n",
       "      <td>Dramas, International Movies</td>\n",
       "      <td>After a devastating earthquake hits Mexico Cit...</td>\n",
       "    </tr>\n",
       "    <tr>\n",
       "      <th>2</th>\n",
       "      <td>s3</td>\n",
       "      <td>Movie</td>\n",
       "      <td>23:59</td>\n",
       "      <td>Gilbert Chan</td>\n",
       "      <td>Tedd Chan, Stella Chung, Henley Hii, Lawrence ...</td>\n",
       "      <td>Singapore</td>\n",
       "      <td>December 20, 2018</td>\n",
       "      <td>2011</td>\n",
       "      <td>R</td>\n",
       "      <td>78 min</td>\n",
       "      <td>Horror Movies, International Movies</td>\n",
       "      <td>When an army recruit is found dead, his fellow...</td>\n",
       "    </tr>\n",
       "  </tbody>\n",
       "</table>\n",
       "</div>"
      ],
      "text/plain": [
       "  show_id     type  title           director  \\\n",
       "0      s1  TV Show     3%                NaN   \n",
       "1      s2    Movie   7:19  Jorge Michel Grau   \n",
       "2      s3    Movie  23:59       Gilbert Chan   \n",
       "\n",
       "                                                cast    country  \\\n",
       "0  João Miguel, Bianca Comparato, Michel Gomes, R...     Brazil   \n",
       "1  Demián Bichir, Héctor Bonilla, Oscar Serrano, ...     Mexico   \n",
       "2  Tedd Chan, Stella Chung, Henley Hii, Lawrence ...  Singapore   \n",
       "\n",
       "          date_added  release_year rating   duration  \\\n",
       "0    August 14, 2020          2020  TV-MA  4 Seasons   \n",
       "1  December 23, 2016          2016  TV-MA     93 min   \n",
       "2  December 20, 2018          2011      R     78 min   \n",
       "\n",
       "                                           listed_in  \\\n",
       "0  International TV Shows, TV Dramas, TV Sci-Fi &...   \n",
       "1                       Dramas, International Movies   \n",
       "2                Horror Movies, International Movies   \n",
       "\n",
       "                                         description  \n",
       "0  In a future where the elite inhabit an island ...  \n",
       "1  After a devastating earthquake hits Mexico Cit...  \n",
       "2  When an army recruit is found dead, his fellow...  "
      ]
     },
     "execution_count": 10,
     "metadata": {},
     "output_type": "execute_result"
    }
   ],
   "source": [
    "netflix_r.head(3)"
   ]
  },
  {
   "cell_type": "markdown",
   "id": "7a04c4bf",
   "metadata": {},
   "source": [
    "<br>\n",
    "\n",
    "### 2-1. 불필요한 컬럼 제거\n",
    "\n",
    "사용하지 않을 아래 컬럼들을 제거합니다.\n",
    "- `show_id`\n",
    "- `director`\n",
    "- `cast`"
   ]
  },
  {
   "cell_type": "code",
   "execution_count": 11,
   "id": "878dd76a",
   "metadata": {},
   "outputs": [
    {
     "data": {
      "text/html": [
       "<div>\n",
       "<style scoped>\n",
       "    .dataframe tbody tr th:only-of-type {\n",
       "        vertical-align: middle;\n",
       "    }\n",
       "\n",
       "    .dataframe tbody tr th {\n",
       "        vertical-align: top;\n",
       "    }\n",
       "\n",
       "    .dataframe thead th {\n",
       "        text-align: right;\n",
       "    }\n",
       "</style>\n",
       "<table border=\"1\" class=\"dataframe\">\n",
       "  <thead>\n",
       "    <tr style=\"text-align: right;\">\n",
       "      <th></th>\n",
       "      <th>type</th>\n",
       "      <th>title</th>\n",
       "      <th>country</th>\n",
       "      <th>date_added</th>\n",
       "      <th>release_year</th>\n",
       "      <th>rating</th>\n",
       "      <th>duration</th>\n",
       "      <th>listed_in</th>\n",
       "      <th>description</th>\n",
       "    </tr>\n",
       "  </thead>\n",
       "  <tbody>\n",
       "    <tr>\n",
       "      <th>0</th>\n",
       "      <td>TV Show</td>\n",
       "      <td>3%</td>\n",
       "      <td>Brazil</td>\n",
       "      <td>August 14, 2020</td>\n",
       "      <td>2020</td>\n",
       "      <td>TV-MA</td>\n",
       "      <td>4 Seasons</td>\n",
       "      <td>International TV Shows, TV Dramas, TV Sci-Fi &amp;...</td>\n",
       "      <td>In a future where the elite inhabit an island ...</td>\n",
       "    </tr>\n",
       "    <tr>\n",
       "      <th>1</th>\n",
       "      <td>Movie</td>\n",
       "      <td>7:19</td>\n",
       "      <td>Mexico</td>\n",
       "      <td>December 23, 2016</td>\n",
       "      <td>2016</td>\n",
       "      <td>TV-MA</td>\n",
       "      <td>93 min</td>\n",
       "      <td>Dramas, International Movies</td>\n",
       "      <td>After a devastating earthquake hits Mexico Cit...</td>\n",
       "    </tr>\n",
       "    <tr>\n",
       "      <th>2</th>\n",
       "      <td>Movie</td>\n",
       "      <td>23:59</td>\n",
       "      <td>Singapore</td>\n",
       "      <td>December 20, 2018</td>\n",
       "      <td>2011</td>\n",
       "      <td>R</td>\n",
       "      <td>78 min</td>\n",
       "      <td>Horror Movies, International Movies</td>\n",
       "      <td>When an army recruit is found dead, his fellow...</td>\n",
       "    </tr>\n",
       "  </tbody>\n",
       "</table>\n",
       "</div>"
      ],
      "text/plain": [
       "      type  title    country         date_added  release_year rating  \\\n",
       "0  TV Show     3%     Brazil    August 14, 2020          2020  TV-MA   \n",
       "1    Movie   7:19     Mexico  December 23, 2016          2016  TV-MA   \n",
       "2    Movie  23:59  Singapore  December 20, 2018          2011      R   \n",
       "\n",
       "    duration                                          listed_in  \\\n",
       "0  4 Seasons  International TV Shows, TV Dramas, TV Sci-Fi &...   \n",
       "1     93 min                       Dramas, International Movies   \n",
       "2     78 min                Horror Movies, International Movies   \n",
       "\n",
       "                                         description  \n",
       "0  In a future where the elite inhabit an island ...  \n",
       "1  After a devastating earthquake hits Mexico Cit...  \n",
       "2  When an army recruit is found dead, his fellow...  "
      ]
     },
     "execution_count": 11,
     "metadata": {},
     "output_type": "execute_result"
    }
   ],
   "source": [
    "nflx = netflix_r.copy()\n",
    "nflx.drop(['show_id','director','cast'], axis=1, inplace=True)\n",
    "nflx.head(3)"
   ]
  },
  {
   "cell_type": "markdown",
   "id": "c026eaea",
   "metadata": {},
   "source": [
    "<br>\n",
    "\n",
    "### 2-2. 불필요한 행 제거"
   ]
  },
  {
   "cell_type": "code",
   "execution_count": 12,
   "id": "ea701700",
   "metadata": {},
   "outputs": [
    {
     "data": {
      "text/plain": [
       "type              0\n",
       "title             0\n",
       "country         507\n",
       "date_added       10\n",
       "release_year      0\n",
       "rating            7\n",
       "duration          0\n",
       "listed_in         0\n",
       "description       0\n",
       "dtype: int64"
      ]
     },
     "execution_count": 12,
     "metadata": {},
     "output_type": "execute_result"
    }
   ],
   "source": [
    "nflx.isnull().sum()"
   ]
  },
  {
   "cell_type": "markdown",
   "id": "1a456b1e",
   "metadata": {},
   "source": [
    "모든 가설은 넷플릭스에 콘텐츠가 올라간 시간에 기준을 두고 있고, 최근 전략을 파악하고자 하는 것이 분석 목표이므로 시간 정보(date_added)가 없는 행은 과감하게 삭제하도록 합니다."
   ]
  },
  {
   "cell_type": "code",
   "execution_count": 13,
   "id": "8977a218",
   "metadata": {},
   "outputs": [
    {
     "data": {
      "text/plain": [
       "10"
      ]
     },
     "execution_count": 13,
     "metadata": {},
     "output_type": "execute_result"
    }
   ],
   "source": [
    "nflx['date_added'].isnull().sum()"
   ]
  },
  {
   "cell_type": "code",
   "execution_count": 14,
   "id": "523f9e8e",
   "metadata": {},
   "outputs": [
    {
     "data": {
      "text/plain": [
       "0"
      ]
     },
     "execution_count": 14,
     "metadata": {},
     "output_type": "execute_result"
    }
   ],
   "source": [
    "nflx = nflx.loc[nflx['date_added'].isnull()==False]\n",
    "nflx['date_added'].isnull().sum()"
   ]
  },
  {
   "cell_type": "markdown",
   "id": "10b1ef08",
   "metadata": {},
   "source": [
    "<br>\n",
    "\n",
    "### 2-3. 데이터 타입 변환"
   ]
  },
  {
   "cell_type": "code",
   "execution_count": 15,
   "id": "9110ba4a",
   "metadata": {},
   "outputs": [
    {
     "data": {
      "text/plain": [
       "type            object\n",
       "title           object\n",
       "country         object\n",
       "date_added      object\n",
       "release_year     int64\n",
       "rating          object\n",
       "duration        object\n",
       "listed_in       object\n",
       "description     object\n",
       "dtype: object"
      ]
     },
     "execution_count": 15,
     "metadata": {},
     "output_type": "execute_result"
    }
   ],
   "source": [
    "nflx.dtypes"
   ]
  },
  {
   "cell_type": "markdown",
   "id": "853b7067",
   "metadata": {},
   "source": [
    "날짜 데이터는 datetime 타입으로, 콘텐츠 길이(n부작, 시간)는 숫자로 변환합니다.\n",
    "- `date_added`, `release_year` -> datetime\n",
    "- `duration` -> int"
   ]
  },
  {
   "cell_type": "code",
   "execution_count": 16,
   "id": "12fb5de9",
   "metadata": {},
   "outputs": [
    {
     "data": {
      "text/plain": [
       "0      2020-08-14\n",
       "1      2016-12-23\n",
       "2      2018-12-20\n",
       "3      2017-11-16\n",
       "4      2020-01-01\n",
       "          ...    \n",
       "7782   2020-10-19\n",
       "7783   2019-03-02\n",
       "7784   2020-09-25\n",
       "7785   2020-10-31\n",
       "7786   2020-03-01\n",
       "Name: date_added, Length: 7777, dtype: datetime64[ns]"
      ]
     },
     "execution_count": 16,
     "metadata": {},
     "output_type": "execute_result"
    }
   ],
   "source": [
    "nflx['date_added'] = nflx['date_added'].astype('datetime64')\n",
    "nflx['date_added']\n"
   ]
  },
  {
   "cell_type": "code",
   "execution_count": 17,
   "id": "fed15d71",
   "metadata": {},
   "outputs": [
    {
     "data": {
      "text/plain": [
       "0      2020-01-01\n",
       "1      2016-01-01\n",
       "2      2011-01-01\n",
       "3      2009-01-01\n",
       "4      2008-01-01\n",
       "          ...    \n",
       "7782   2005-01-01\n",
       "7783   2015-01-01\n",
       "7784   2019-01-01\n",
       "7785   2019-01-01\n",
       "7786   2019-01-01\n",
       "Name: release_year, Length: 7777, dtype: datetime64[ns]"
      ]
     },
     "execution_count": 17,
     "metadata": {},
     "output_type": "execute_result"
    }
   ],
   "source": [
    "# 최초 출시일에 월/일 정보가 누락되어 있으므로 1월 1일로 일괄 대체한다.(넷플릭스에서 유통된 연도가 같은 경우 시간상 역행이 발생하지 않도록 하기 위함)\n",
    "nflx['release_year'] = pd.to_datetime(nflx['release_year'], format='%Y')\n",
    "nflx['release_year']"
   ]
  },
  {
   "cell_type": "markdown",
   "id": "5f4df27a",
   "metadata": {},
   "source": [
    "콘텐츠 길이는 콘텐츠 타입에 따라 형식이 다릅니다.\n",
    "- `type`이 TV Show라면 단일 시리즈인 경우 1 Season, 연속 시리즈인 경우 N Seasons로 표기된다.\n",
    "- `type`이 TV Show지만 `duration` 단위가 Season 혹은 Seasons가 아닌 예외 케이스는 없다."
   ]
  },
  {
   "cell_type": "code",
   "execution_count": 18,
   "id": "ee9c8507",
   "metadata": {},
   "outputs": [
    {
     "data": {
      "text/plain": [
       "0       4 Seasons\n",
       "5        1 Season\n",
       "11       1 Season\n",
       "12       1 Season\n",
       "16       1 Season\n",
       "          ...    \n",
       "7767     1 Season\n",
       "7775     1 Season\n",
       "7777    2 Seasons\n",
       "7779     1 Season\n",
       "7785     1 Season\n",
       "Name: duration, Length: 2400, dtype: object"
      ]
     },
     "execution_count": 18,
     "metadata": {},
     "output_type": "execute_result"
    }
   ],
   "source": [
    "nflx.loc[nflx['type']=='TV Show','duration']"
   ]
  },
  {
   "cell_type": "code",
   "execution_count": 19,
   "id": "1cfbfed3",
   "metadata": {},
   "outputs": [
    {
     "data": {
      "text/plain": [
       "0"
      ]
     },
     "execution_count": 19,
     "metadata": {},
     "output_type": "execute_result"
    }
   ],
   "source": [
    "# 1 Season 혹은 N Seasons로 표기되지 않은 예외케이스 갯수 확인\n",
    "(nflx.loc[nflx['type']=='TV Show','duration'].str.contains('Season')==False).sum()"
   ]
  },
  {
   "cell_type": "code",
   "execution_count": 20,
   "id": "0000ad32",
   "metadata": {},
   "outputs": [
    {
     "data": {
      "text/plain": [
       "0       4\n",
       "5       1\n",
       "11      1\n",
       "12      1\n",
       "16      1\n",
       "       ..\n",
       "7767    1\n",
       "7775    1\n",
       "7777    2\n",
       "7779    1\n",
       "7785    1\n",
       "Name: duration, Length: 2400, dtype: object"
      ]
     },
     "execution_count": 20,
     "metadata": {},
     "output_type": "execute_result"
    }
   ],
   "source": [
    "# 단위(Seasons, Season) 제거\n",
    "nflx.loc[nflx['type']=='TV Show','duration'] = nflx.loc[nflx['type']=='TV Show','duration'].apply(lambda x : x.split(\" \")[0])\n",
    "nflx.loc[nflx['type']=='TV Show','duration']"
   ]
  },
  {
   "cell_type": "markdown",
   "id": "461c981b",
   "metadata": {},
   "source": [
    "- `type`이 Movie라면 모두 min으로 표기한다.\n",
    "- `type`이 Movie이지만 `duration` 단위가 min이 아닌 예외 케이스는 없다."
   ]
  },
  {
   "cell_type": "code",
   "execution_count": 21,
   "id": "f10847c0",
   "metadata": {},
   "outputs": [
    {
     "data": {
      "text/plain": [
       "1        93 min\n",
       "2        78 min\n",
       "3        80 min\n",
       "4       123 min\n",
       "6        95 min\n",
       "         ...   \n",
       "7781     88 min\n",
       "7782     99 min\n",
       "7783    111 min\n",
       "7784     44 min\n",
       "7786     90 min\n",
       "Name: duration, Length: 5377, dtype: object"
      ]
     },
     "execution_count": 21,
     "metadata": {},
     "output_type": "execute_result"
    }
   ],
   "source": [
    "nflx.loc[nflx['type']=='Movie','duration']"
   ]
  },
  {
   "cell_type": "code",
   "execution_count": 22,
   "id": "be6de277",
   "metadata": {},
   "outputs": [
    {
     "data": {
      "text/plain": [
       "0"
      ]
     },
     "execution_count": 22,
     "metadata": {},
     "output_type": "execute_result"
    }
   ],
   "source": [
    "# min으로 표기되지 않은 예외케이스 갯수 확인\n",
    "(nflx.loc[nflx['type']=='Movie','duration'].str.contains('min')==False).sum()"
   ]
  },
  {
   "cell_type": "code",
   "execution_count": 23,
   "id": "388dc8f0",
   "metadata": {},
   "outputs": [
    {
     "data": {
      "text/plain": [
       "1        93\n",
       "2        78\n",
       "3        80\n",
       "4       123\n",
       "6        95\n",
       "       ... \n",
       "7781     88\n",
       "7782     99\n",
       "7783    111\n",
       "7784     44\n",
       "7786     90\n",
       "Name: duration, Length: 5377, dtype: object"
      ]
     },
     "execution_count": 23,
     "metadata": {},
     "output_type": "execute_result"
    }
   ],
   "source": [
    "# 단위(min) 제거\n",
    "nflx.loc[nflx['type']=='Movie','duration'] = nflx.loc[nflx['type']=='Movie','duration'].apply(lambda x : x.split(\" \")[0])\n",
    "nflx.loc[nflx['type']=='Movie','duration']"
   ]
  },
  {
   "cell_type": "code",
   "execution_count": 24,
   "id": "5edd431d",
   "metadata": {},
   "outputs": [],
   "source": [
    "nflx['duration'] = nflx['duration'].astype('int64')"
   ]
  },
  {
   "cell_type": "code",
   "execution_count": 25,
   "id": "f7ecf1e0",
   "metadata": {},
   "outputs": [
    {
     "data": {
      "text/html": [
       "<div>\n",
       "<style scoped>\n",
       "    .dataframe tbody tr th:only-of-type {\n",
       "        vertical-align: middle;\n",
       "    }\n",
       "\n",
       "    .dataframe tbody tr th {\n",
       "        vertical-align: top;\n",
       "    }\n",
       "\n",
       "    .dataframe thead th {\n",
       "        text-align: right;\n",
       "    }\n",
       "</style>\n",
       "<table border=\"1\" class=\"dataframe\">\n",
       "  <thead>\n",
       "    <tr style=\"text-align: right;\">\n",
       "      <th></th>\n",
       "      <th>type</th>\n",
       "      <th>title</th>\n",
       "      <th>country</th>\n",
       "      <th>date_added</th>\n",
       "      <th>release_year</th>\n",
       "      <th>rating</th>\n",
       "      <th>duration</th>\n",
       "      <th>listed_in</th>\n",
       "      <th>description</th>\n",
       "    </tr>\n",
       "  </thead>\n",
       "  <tbody>\n",
       "    <tr>\n",
       "      <th>0</th>\n",
       "      <td>TV Show</td>\n",
       "      <td>3%</td>\n",
       "      <td>Brazil</td>\n",
       "      <td>2020-08-14</td>\n",
       "      <td>2020-01-01</td>\n",
       "      <td>TV-MA</td>\n",
       "      <td>4</td>\n",
       "      <td>International TV Shows, TV Dramas, TV Sci-Fi &amp;...</td>\n",
       "      <td>In a future where the elite inhabit an island ...</td>\n",
       "    </tr>\n",
       "    <tr>\n",
       "      <th>1</th>\n",
       "      <td>Movie</td>\n",
       "      <td>7:19</td>\n",
       "      <td>Mexico</td>\n",
       "      <td>2016-12-23</td>\n",
       "      <td>2016-01-01</td>\n",
       "      <td>TV-MA</td>\n",
       "      <td>93</td>\n",
       "      <td>Dramas, International Movies</td>\n",
       "      <td>After a devastating earthquake hits Mexico Cit...</td>\n",
       "    </tr>\n",
       "    <tr>\n",
       "      <th>2</th>\n",
       "      <td>Movie</td>\n",
       "      <td>23:59</td>\n",
       "      <td>Singapore</td>\n",
       "      <td>2018-12-20</td>\n",
       "      <td>2011-01-01</td>\n",
       "      <td>R</td>\n",
       "      <td>78</td>\n",
       "      <td>Horror Movies, International Movies</td>\n",
       "      <td>When an army recruit is found dead, his fellow...</td>\n",
       "    </tr>\n",
       "  </tbody>\n",
       "</table>\n",
       "</div>"
      ],
      "text/plain": [
       "      type  title    country date_added release_year rating  duration  \\\n",
       "0  TV Show     3%     Brazil 2020-08-14   2020-01-01  TV-MA         4   \n",
       "1    Movie   7:19     Mexico 2016-12-23   2016-01-01  TV-MA        93   \n",
       "2    Movie  23:59  Singapore 2018-12-20   2011-01-01      R        78   \n",
       "\n",
       "                                           listed_in  \\\n",
       "0  International TV Shows, TV Dramas, TV Sci-Fi &...   \n",
       "1                       Dramas, International Movies   \n",
       "2                Horror Movies, International Movies   \n",
       "\n",
       "                                         description  \n",
       "0  In a future where the elite inhabit an island ...  \n",
       "1  After a devastating earthquake hits Mexico Cit...  \n",
       "2  When an army recruit is found dead, his fellow...  "
      ]
     },
     "execution_count": 25,
     "metadata": {},
     "output_type": "execute_result"
    }
   ],
   "source": [
    "# 데이터 확인\n",
    "nflx.head(3)"
   ]
  },
  {
   "cell_type": "markdown",
   "id": "3e963c6b",
   "metadata": {},
   "source": [
    "### 2-3. 시계열 데이터 변환"
   ]
  },
  {
   "cell_type": "markdown",
   "id": "d843b637",
   "metadata": {},
   "source": [
    "앞서 설계한 모든 가설은 '최근'이라는 시간 축을 기준으로 하고 있습니다.<br>\n",
    "모든 분석 방향이 과거와 현재를 비교하는 과정이 될 것이므로 콘텐츠가 넷플릭스에 추가된 날짜를 인덱스로 하여 시계열 데이터로 변환합니다."
   ]
  },
  {
   "cell_type": "code",
   "execution_count": 26,
   "id": "95862c97",
   "metadata": {},
   "outputs": [
    {
     "data": {
      "text/html": [
       "<div>\n",
       "<style scoped>\n",
       "    .dataframe tbody tr th:only-of-type {\n",
       "        vertical-align: middle;\n",
       "    }\n",
       "\n",
       "    .dataframe tbody tr th {\n",
       "        vertical-align: top;\n",
       "    }\n",
       "\n",
       "    .dataframe thead th {\n",
       "        text-align: right;\n",
       "    }\n",
       "</style>\n",
       "<table border=\"1\" class=\"dataframe\">\n",
       "  <thead>\n",
       "    <tr style=\"text-align: right;\">\n",
       "      <th></th>\n",
       "      <th>type</th>\n",
       "      <th>title</th>\n",
       "      <th>country</th>\n",
       "      <th>release_year</th>\n",
       "      <th>rating</th>\n",
       "      <th>duration</th>\n",
       "      <th>listed_in</th>\n",
       "      <th>description</th>\n",
       "    </tr>\n",
       "    <tr>\n",
       "      <th>date_added</th>\n",
       "      <th></th>\n",
       "      <th></th>\n",
       "      <th></th>\n",
       "      <th></th>\n",
       "      <th></th>\n",
       "      <th></th>\n",
       "      <th></th>\n",
       "      <th></th>\n",
       "    </tr>\n",
       "  </thead>\n",
       "  <tbody>\n",
       "    <tr>\n",
       "      <th>2008-01-01</th>\n",
       "      <td>Movie</td>\n",
       "      <td>To and From New York</td>\n",
       "      <td>United States</td>\n",
       "      <td>2006-01-01</td>\n",
       "      <td>TV-MA</td>\n",
       "      <td>81</td>\n",
       "      <td>Dramas, Independent Movies, Thrillers</td>\n",
       "      <td>While covering a story in New York City, a Sea...</td>\n",
       "    </tr>\n",
       "    <tr>\n",
       "      <th>2008-02-04</th>\n",
       "      <td>TV Show</td>\n",
       "      <td>Dinner for Five</td>\n",
       "      <td>United States</td>\n",
       "      <td>2007-01-01</td>\n",
       "      <td>TV-MA</td>\n",
       "      <td>1</td>\n",
       "      <td>Stand-Up Comedy &amp; Talk Shows</td>\n",
       "      <td>In each episode, four celebrities join host Jo...</td>\n",
       "    </tr>\n",
       "    <tr>\n",
       "      <th>2009-05-05</th>\n",
       "      <td>Movie</td>\n",
       "      <td>Just Another Love Story</td>\n",
       "      <td>Denmark</td>\n",
       "      <td>2007-01-01</td>\n",
       "      <td>TV-MA</td>\n",
       "      <td>104</td>\n",
       "      <td>Dramas, International Movies</td>\n",
       "      <td>When he causes a car accident that leaves a yo...</td>\n",
       "    </tr>\n",
       "    <tr>\n",
       "      <th>2009-11-18</th>\n",
       "      <td>Movie</td>\n",
       "      <td>Splatter</td>\n",
       "      <td>United States</td>\n",
       "      <td>2009-01-01</td>\n",
       "      <td>TV-MA</td>\n",
       "      <td>29</td>\n",
       "      <td>Horror Movies</td>\n",
       "      <td>After committing suicide, a washed-up rocker r...</td>\n",
       "    </tr>\n",
       "    <tr>\n",
       "      <th>2010-11-01</th>\n",
       "      <td>Movie</td>\n",
       "      <td>Mad Ron's Prevues from Hell</td>\n",
       "      <td>United States</td>\n",
       "      <td>1987-01-01</td>\n",
       "      <td>NR</td>\n",
       "      <td>84</td>\n",
       "      <td>Cult Movies, Horror Movies</td>\n",
       "      <td>This collection cherry-picks trailers, forgott...</td>\n",
       "    </tr>\n",
       "    <tr>\n",
       "      <th>...</th>\n",
       "      <td>...</td>\n",
       "      <td>...</td>\n",
       "      <td>...</td>\n",
       "      <td>...</td>\n",
       "      <td>...</td>\n",
       "      <td>...</td>\n",
       "      <td>...</td>\n",
       "      <td>...</td>\n",
       "    </tr>\n",
       "    <tr>\n",
       "      <th>2021-01-15</th>\n",
       "      <td>Movie</td>\n",
       "      <td>Wish You</td>\n",
       "      <td>NaN</td>\n",
       "      <td>2021-01-01</td>\n",
       "      <td>TV-PG</td>\n",
       "      <td>102</td>\n",
       "      <td>Dramas, International Movies, LGBTQ Movies</td>\n",
       "      <td>Singing and dreaming together, a talented sing...</td>\n",
       "    </tr>\n",
       "    <tr>\n",
       "      <th>2021-01-15</th>\n",
       "      <td>TV Show</td>\n",
       "      <td>The Magicians</td>\n",
       "      <td>United States, Canada</td>\n",
       "      <td>2020-01-01</td>\n",
       "      <td>TV-MA</td>\n",
       "      <td>5</td>\n",
       "      <td>TV Dramas, TV Sci-Fi &amp; Fantasy</td>\n",
       "      <td>When grad student Quentin Coldwater enters a c...</td>\n",
       "    </tr>\n",
       "    <tr>\n",
       "      <th>2021-01-16</th>\n",
       "      <td>Movie</td>\n",
       "      <td>Death of Me</td>\n",
       "      <td>United States, Thailand</td>\n",
       "      <td>2020-01-01</td>\n",
       "      <td>R</td>\n",
       "      <td>94</td>\n",
       "      <td>Horror Movies</td>\n",
       "      <td>With no memory of the previous night, a vacati...</td>\n",
       "    </tr>\n",
       "    <tr>\n",
       "      <th>2021-01-16</th>\n",
       "      <td>Movie</td>\n",
       "      <td>Radium Girls</td>\n",
       "      <td>United States</td>\n",
       "      <td>2018-01-01</td>\n",
       "      <td>TV-14</td>\n",
       "      <td>103</td>\n",
       "      <td>Dramas, Independent Movies</td>\n",
       "      <td>When the women at a radium factory begin to fa...</td>\n",
       "    </tr>\n",
       "    <tr>\n",
       "      <th>2021-01-16</th>\n",
       "      <td>Movie</td>\n",
       "      <td>A Monster Calls</td>\n",
       "      <td>United Kingdom, Spain, United States</td>\n",
       "      <td>2016-01-01</td>\n",
       "      <td>PG-13</td>\n",
       "      <td>108</td>\n",
       "      <td>Dramas, Sci-Fi &amp; Fantasy</td>\n",
       "      <td>Overwhelmed by his mother’s illness, a young b...</td>\n",
       "    </tr>\n",
       "  </tbody>\n",
       "</table>\n",
       "<p>7777 rows × 8 columns</p>\n",
       "</div>"
      ],
      "text/plain": [
       "               type                        title  \\\n",
       "date_added                                         \n",
       "2008-01-01    Movie         To and From New York   \n",
       "2008-02-04  TV Show              Dinner for Five   \n",
       "2009-05-05    Movie      Just Another Love Story   \n",
       "2009-11-18    Movie                     Splatter   \n",
       "2010-11-01    Movie  Mad Ron's Prevues from Hell   \n",
       "...             ...                          ...   \n",
       "2021-01-15    Movie                     Wish You   \n",
       "2021-01-15  TV Show                The Magicians   \n",
       "2021-01-16    Movie                  Death of Me   \n",
       "2021-01-16    Movie                 Radium Girls   \n",
       "2021-01-16    Movie              A Monster Calls   \n",
       "\n",
       "                                         country release_year rating  \\\n",
       "date_added                                                             \n",
       "2008-01-01                         United States   2006-01-01  TV-MA   \n",
       "2008-02-04                         United States   2007-01-01  TV-MA   \n",
       "2009-05-05                               Denmark   2007-01-01  TV-MA   \n",
       "2009-11-18                         United States   2009-01-01  TV-MA   \n",
       "2010-11-01                         United States   1987-01-01     NR   \n",
       "...                                          ...          ...    ...   \n",
       "2021-01-15                                   NaN   2021-01-01  TV-PG   \n",
       "2021-01-15                 United States, Canada   2020-01-01  TV-MA   \n",
       "2021-01-16               United States, Thailand   2020-01-01      R   \n",
       "2021-01-16                         United States   2018-01-01  TV-14   \n",
       "2021-01-16  United Kingdom, Spain, United States   2016-01-01  PG-13   \n",
       "\n",
       "            duration                                   listed_in  \\\n",
       "date_added                                                         \n",
       "2008-01-01        81       Dramas, Independent Movies, Thrillers   \n",
       "2008-02-04         1                Stand-Up Comedy & Talk Shows   \n",
       "2009-05-05       104                Dramas, International Movies   \n",
       "2009-11-18        29                               Horror Movies   \n",
       "2010-11-01        84                  Cult Movies, Horror Movies   \n",
       "...              ...                                         ...   \n",
       "2021-01-15       102  Dramas, International Movies, LGBTQ Movies   \n",
       "2021-01-15         5              TV Dramas, TV Sci-Fi & Fantasy   \n",
       "2021-01-16        94                               Horror Movies   \n",
       "2021-01-16       103                  Dramas, Independent Movies   \n",
       "2021-01-16       108                    Dramas, Sci-Fi & Fantasy   \n",
       "\n",
       "                                                  description  \n",
       "date_added                                                     \n",
       "2008-01-01  While covering a story in New York City, a Sea...  \n",
       "2008-02-04  In each episode, four celebrities join host Jo...  \n",
       "2009-05-05  When he causes a car accident that leaves a yo...  \n",
       "2009-11-18  After committing suicide, a washed-up rocker r...  \n",
       "2010-11-01  This collection cherry-picks trailers, forgott...  \n",
       "...                                                       ...  \n",
       "2021-01-15  Singing and dreaming together, a talented sing...  \n",
       "2021-01-15  When grad student Quentin Coldwater enters a c...  \n",
       "2021-01-16  With no memory of the previous night, a vacati...  \n",
       "2021-01-16  When the women at a radium factory begin to fa...  \n",
       "2021-01-16  Overwhelmed by his mother’s illness, a young b...  \n",
       "\n",
       "[7777 rows x 8 columns]"
      ]
     },
     "execution_count": 26,
     "metadata": {},
     "output_type": "execute_result"
    }
   ],
   "source": [
    "nflx = nflx.set_index('date_added').sort_index()\n",
    "nflx"
   ]
  },
  {
   "cell_type": "code",
   "execution_count": 27,
   "id": "418230df",
   "metadata": {},
   "outputs": [
    {
     "data": {
      "text/plain": [
       "type                    object\n",
       "title                   object\n",
       "country                 object\n",
       "release_year    datetime64[ns]\n",
       "rating                  object\n",
       "duration                 int64\n",
       "listed_in               object\n",
       "description             object\n",
       "dtype: object"
      ]
     },
     "execution_count": 27,
     "metadata": {},
     "output_type": "execute_result"
    }
   ],
   "source": [
    "nflx.dtypes"
   ]
  },
  {
   "cell_type": "markdown",
   "id": "5dca6834",
   "metadata": {},
   "source": [
    "<br>\n",
    "\n",
    "### 2-4. 데이터 구간(시간) 분할"
   ]
  },
  {
   "cell_type": "code",
   "execution_count": 136,
   "id": "f6393282",
   "metadata": {},
   "outputs": [
    {
     "data": {
      "image/png": "[encoded data removed]",
      "text/plain": [
       "<Figure size 864x288 with 1 Axes>"
      ]
     },
     "metadata": {},
     "output_type": "display_data"
    }
   ],
   "source": [
    "plt.figure(figsize=(12,4))\n",
    "data = nflx['title'].resample('Q').count()\n",
    "\n",
    "plt.plot(data, linewidth=0.85)\n",
    "\n",
    "plt.show()"
   ]
  },
  {
   "cell_type": "code",
   "execution_count": 29,
   "id": "c9b0e2b3",
   "metadata": {},
   "outputs": [
    {
     "data": {
      "text/plain": [
       "date_added\n",
       "2008-12-31       2\n",
       "2009-12-31       2\n",
       "2010-12-31       1\n",
       "2011-12-31      13\n",
       "2012-12-31       3\n",
       "2013-12-31      11\n",
       "2014-12-31      25\n",
       "2015-12-31      88\n",
       "2016-12-31     443\n",
       "2017-12-31    1225\n",
       "2018-12-31    1685\n",
       "2019-12-31    2153\n",
       "2020-12-31    2009\n",
       "2021-12-31     117\n",
       "Freq: A-DEC, Name: title, dtype: int64"
      ]
     },
     "execution_count": 29,
     "metadata": {},
     "output_type": "execute_result"
    }
   ],
   "source": [
    "nflx['title'].resample('Y').count()"
   ]
  },
  {
   "cell_type": "markdown",
   "id": "fa7ef78e",
   "metadata": {},
   "source": [
    "넷플릭스는 초창기부터 서서히 콘텐츠를 늘려왔고, 2016년~2016년을 기점으로 폭발적으로 성장했습니다.<br>\n",
    "현재 데이터는 시간 별 분포 차이가 심하기 때문에 시간 축을 그대로 사용하는 것은 바람직하지 않습니다.<br>\n",
    "전체 기간을 몇 개의 구간으로 분할하여 위와 같이 구간(Y) 별로 너무 많은 데이터가 몰리거나, 너무 적은 데이터만 취합되지 않도록 합니다."
   ]
  },
  {
   "cell_type": "code",
   "execution_count": 30,
   "id": "f215fc6d",
   "metadata": {},
   "outputs": [
    {
     "name": "stdout",
     "output_type": "stream",
     "text": [
      "7777\n"
     ]
    }
   ],
   "source": [
    "# 0부터 7까지, 각각 1111개씩 채워진 리스트 생성\n",
    "seps = []\n",
    "for i in range(1,7+1):\n",
    "    sep = np.ones(1111,dtype=np.int8)*i\n",
    "    seps.extend(sep)\n",
    "print(len(seps))"
   ]
  },
  {
   "cell_type": "code",
   "execution_count": 31,
   "id": "2f863e43",
   "metadata": {},
   "outputs": [
    {
     "data": {
      "text/plain": [
       "type                    object\n",
       "title                   object\n",
       "country                 object\n",
       "release_year    datetime64[ns]\n",
       "rating                  object\n",
       "duration                 int64\n",
       "listed_in               object\n",
       "description             object\n",
       "seps                    object\n",
       "dtype: object"
      ]
     },
     "execution_count": 31,
     "metadata": {},
     "output_type": "execute_result"
    }
   ],
   "source": [
    "# seps는 숫자로서의 의미가 없다. string으로 변환한다.\n",
    "nflx['seps'] = seps\n",
    "nflx['seps'] = nflx['seps'].astype('str')\n",
    "nflx.dtypes"
   ]
  },
  {
   "cell_type": "code",
   "execution_count": 134,
   "id": "ff108f4e",
   "metadata": {},
   "outputs": [
    {
     "data": {
      "image/png": "[encoded data removed]",
      "text/plain": [
       "<Figure size 864x288 with 1 Axes>"
      ]
     },
     "metadata": {},
     "output_type": "display_data"
    }
   ],
   "source": [
    "count_seps = nflx.groupby('seps').count()['title']\n",
    "\n",
    "plt.figure(figsize=(12,4))\n",
    "plt.bar(x=count_seps.index ,height=count_seps.values, width=0.44, color='pink')\n",
    "\n",
    "plt.ylabel('count')\n",
    "plt.xlabel('period(past --> now)')\n",
    "plt.show()"
   ]
  },
  {
   "cell_type": "markdown",
   "id": "31199e10",
   "metadata": {},
   "source": [
    "총 7777개의 데이터를 시간 순으로 1111개씩 분할하였습니다. seps가 1에 가까울수록 최근으로부터 멀어집니다."
   ]
  },
  {
   "cell_type": "markdown",
   "id": "f3a2dd6a",
   "metadata": {},
   "source": [
    "<br>\n",
    "<br>\n",
    "\n",
    "---\n",
    "## 3. 가설 검정"
   ]
  },
  {
   "cell_type": "markdown",
   "id": "adab30c9",
   "metadata": {},
   "source": [
    "아래 6가지 가설에 대하여 순차적으로 검증하고, 넷플릭스의 수급 전략을 분석합니다.\n",
    "\n",
    "1. H1 : 최근 특정 콘텐츠 유형(TV show or Movie)이 늘고 있다. (주요 컬럼 : type)\n",
    "2. H1 : 최근 특정 국가의 콘텐츠 수급 비중이 늘고 있다. (주요 컬럼 : country)\n",
    "3. H1 : 최근 옛날(오래된) 콘텐츠 수급 비중이 늘고 있다. (주요 컬럼 : release_year)\n",
    "4. H1 : 최근 어린이 콘텐츠 비중이 줄고 있다. (주요 컬럼 : rating)\n",
    "5. H1 : 최근 길이(시리즈, 시간)가 짧은 콘텐츠 비중이 늘고 있다. (주요 컬럼 : duration)\n",
    "6. H1 : 최근 유통하는 콘텐츠 장르가 더 다양해지고 있다. (주요 컬럼 : listed_in, description)"
   ]
  },
  {
   "cell_type": "markdown",
   "id": "f5b773ef",
   "metadata": {},
   "source": [
    "<br>\n",
    "\n",
    "### 3-1. 특정 콘텐츠 유형에 대한 집중 수급 여부 분석"
   ]
  },
  {
   "cell_type": "markdown",
   "id": "13baba51",
   "metadata": {},
   "source": [
    "최근 TV 시리즈물의 퀄리티나 제작 속도는 영화 산업의 발전 속도를 따라잡고 있습니다.\n",
    "따라서 넷플릭스가 TV 시리즈물과 영화 중 어떤 콘텐츠에 더 집중하고 있는지 확인하고자 합니다.\n",
    "\n",
    "- H0 : 콘텐츠 유형(TV show or Movie)별 점유율은 전과 동일하다. \n",
    "- H1 : 최근 특정 콘텐츠 유형(TV show or Movie)이 늘고 있다."
   ]
  },
  {
   "cell_type": "code",
   "execution_count": 33,
   "id": "a37cf82b",
   "metadata": {},
   "outputs": [
    {
     "data": {
      "text/html": [
       "<div>\n",
       "<style scoped>\n",
       "    .dataframe tbody tr th:only-of-type {\n",
       "        vertical-align: middle;\n",
       "    }\n",
       "\n",
       "    .dataframe tbody tr th {\n",
       "        vertical-align: top;\n",
       "    }\n",
       "\n",
       "    .dataframe thead th {\n",
       "        text-align: right;\n",
       "    }\n",
       "</style>\n",
       "<table border=\"1\" class=\"dataframe\">\n",
       "  <thead>\n",
       "    <tr style=\"text-align: right;\">\n",
       "      <th></th>\n",
       "      <th>seps</th>\n",
       "      <th>type</th>\n",
       "      <th>title</th>\n",
       "    </tr>\n",
       "  </thead>\n",
       "  <tbody>\n",
       "    <tr>\n",
       "      <th>0</th>\n",
       "      <td>1</td>\n",
       "      <td>Movie</td>\n",
       "      <td>744</td>\n",
       "    </tr>\n",
       "    <tr>\n",
       "      <th>1</th>\n",
       "      <td>1</td>\n",
       "      <td>TV Show</td>\n",
       "      <td>367</td>\n",
       "    </tr>\n",
       "    <tr>\n",
       "      <th>2</th>\n",
       "      <td>2</td>\n",
       "      <td>Movie</td>\n",
       "      <td>802</td>\n",
       "    </tr>\n",
       "    <tr>\n",
       "      <th>3</th>\n",
       "      <td>2</td>\n",
       "      <td>TV Show</td>\n",
       "      <td>309</td>\n",
       "    </tr>\n",
       "    <tr>\n",
       "      <th>4</th>\n",
       "      <td>3</td>\n",
       "      <td>Movie</td>\n",
       "      <td>829</td>\n",
       "    </tr>\n",
       "    <tr>\n",
       "      <th>5</th>\n",
       "      <td>3</td>\n",
       "      <td>TV Show</td>\n",
       "      <td>282</td>\n",
       "    </tr>\n",
       "    <tr>\n",
       "      <th>6</th>\n",
       "      <td>4</td>\n",
       "      <td>Movie</td>\n",
       "      <td>779</td>\n",
       "    </tr>\n",
       "    <tr>\n",
       "      <th>7</th>\n",
       "      <td>4</td>\n",
       "      <td>TV Show</td>\n",
       "      <td>332</td>\n",
       "    </tr>\n",
       "    <tr>\n",
       "      <th>8</th>\n",
       "      <td>5</td>\n",
       "      <td>Movie</td>\n",
       "      <td>741</td>\n",
       "    </tr>\n",
       "    <tr>\n",
       "      <th>9</th>\n",
       "      <td>5</td>\n",
       "      <td>TV Show</td>\n",
       "      <td>370</td>\n",
       "    </tr>\n",
       "    <tr>\n",
       "      <th>10</th>\n",
       "      <td>6</td>\n",
       "      <td>Movie</td>\n",
       "      <td>764</td>\n",
       "    </tr>\n",
       "    <tr>\n",
       "      <th>11</th>\n",
       "      <td>6</td>\n",
       "      <td>TV Show</td>\n",
       "      <td>347</td>\n",
       "    </tr>\n",
       "    <tr>\n",
       "      <th>12</th>\n",
       "      <td>7</td>\n",
       "      <td>Movie</td>\n",
       "      <td>718</td>\n",
       "    </tr>\n",
       "    <tr>\n",
       "      <th>13</th>\n",
       "      <td>7</td>\n",
       "      <td>TV Show</td>\n",
       "      <td>393</td>\n",
       "    </tr>\n",
       "  </tbody>\n",
       "</table>\n",
       "</div>"
      ],
      "text/plain": [
       "   seps     type  title\n",
       "0     1    Movie    744\n",
       "1     1  TV Show    367\n",
       "2     2    Movie    802\n",
       "3     2  TV Show    309\n",
       "4     3    Movie    829\n",
       "5     3  TV Show    282\n",
       "6     4    Movie    779\n",
       "7     4  TV Show    332\n",
       "8     5    Movie    741\n",
       "9     5  TV Show    370\n",
       "10    6    Movie    764\n",
       "11    6  TV Show    347\n",
       "12    7    Movie    718\n",
       "13    7  TV Show    393"
      ]
     },
     "execution_count": 33,
     "metadata": {},
     "output_type": "execute_result"
    }
   ],
   "source": [
    "nflx.groupby(['seps','type'])['title'].count().reset_index()"
   ]
  },
  {
   "cell_type": "code",
   "execution_count": 34,
   "id": "e5fe3ee9",
   "metadata": {},
   "outputs": [
    {
     "data": {
      "text/html": [
       "<div>\n",
       "<style scoped>\n",
       "    .dataframe tbody tr th:only-of-type {\n",
       "        vertical-align: middle;\n",
       "    }\n",
       "\n",
       "    .dataframe tbody tr th {\n",
       "        vertical-align: top;\n",
       "    }\n",
       "\n",
       "    .dataframe thead th {\n",
       "        text-align: right;\n",
       "    }\n",
       "</style>\n",
       "<table border=\"1\" class=\"dataframe\">\n",
       "  <thead>\n",
       "    <tr style=\"text-align: right;\">\n",
       "      <th></th>\n",
       "      <th></th>\n",
       "      <th>count</th>\n",
       "    </tr>\n",
       "    <tr>\n",
       "      <th>seps</th>\n",
       "      <th>type</th>\n",
       "      <th></th>\n",
       "    </tr>\n",
       "  </thead>\n",
       "  <tbody>\n",
       "    <tr>\n",
       "      <th rowspan=\"2\" valign=\"top\">1</th>\n",
       "      <th>Movie</th>\n",
       "      <td>744</td>\n",
       "    </tr>\n",
       "    <tr>\n",
       "      <th>TV Show</th>\n",
       "      <td>367</td>\n",
       "    </tr>\n",
       "    <tr>\n",
       "      <th rowspan=\"2\" valign=\"top\">2</th>\n",
       "      <th>Movie</th>\n",
       "      <td>802</td>\n",
       "    </tr>\n",
       "    <tr>\n",
       "      <th>TV Show</th>\n",
       "      <td>309</td>\n",
       "    </tr>\n",
       "    <tr>\n",
       "      <th rowspan=\"2\" valign=\"top\">3</th>\n",
       "      <th>Movie</th>\n",
       "      <td>829</td>\n",
       "    </tr>\n",
       "    <tr>\n",
       "      <th>TV Show</th>\n",
       "      <td>282</td>\n",
       "    </tr>\n",
       "    <tr>\n",
       "      <th rowspan=\"2\" valign=\"top\">4</th>\n",
       "      <th>Movie</th>\n",
       "      <td>779</td>\n",
       "    </tr>\n",
       "    <tr>\n",
       "      <th>TV Show</th>\n",
       "      <td>332</td>\n",
       "    </tr>\n",
       "    <tr>\n",
       "      <th rowspan=\"2\" valign=\"top\">5</th>\n",
       "      <th>Movie</th>\n",
       "      <td>741</td>\n",
       "    </tr>\n",
       "    <tr>\n",
       "      <th>TV Show</th>\n",
       "      <td>370</td>\n",
       "    </tr>\n",
       "    <tr>\n",
       "      <th rowspan=\"2\" valign=\"top\">6</th>\n",
       "      <th>Movie</th>\n",
       "      <td>764</td>\n",
       "    </tr>\n",
       "    <tr>\n",
       "      <th>TV Show</th>\n",
       "      <td>347</td>\n",
       "    </tr>\n",
       "    <tr>\n",
       "      <th rowspan=\"2\" valign=\"top\">7</th>\n",
       "      <th>Movie</th>\n",
       "      <td>718</td>\n",
       "    </tr>\n",
       "    <tr>\n",
       "      <th>TV Show</th>\n",
       "      <td>393</td>\n",
       "    </tr>\n",
       "  </tbody>\n",
       "</table>\n",
       "</div>"
      ],
      "text/plain": [
       "              count\n",
       "seps type          \n",
       "1    Movie      744\n",
       "     TV Show    367\n",
       "2    Movie      802\n",
       "     TV Show    309\n",
       "3    Movie      829\n",
       "     TV Show    282\n",
       "4    Movie      779\n",
       "     TV Show    332\n",
       "5    Movie      741\n",
       "     TV Show    370\n",
       "6    Movie      764\n",
       "     TV Show    347\n",
       "7    Movie      718\n",
       "     TV Show    393"
      ]
     },
     "execution_count": 34,
     "metadata": {},
     "output_type": "execute_result"
    }
   ],
   "source": [
    "count_type = pd.DataFrame(nflx.groupby(['seps','type']).count()['title'])\n",
    "count_type.columns = ['count']\n",
    "count_type"
   ]
  },
  {
   "cell_type": "code",
   "execution_count": 35,
   "id": "93f3a342",
   "metadata": {},
   "outputs": [
    {
     "data": {
      "text/html": [
       "<div>\n",
       "<style scoped>\n",
       "    .dataframe tbody tr th:only-of-type {\n",
       "        vertical-align: middle;\n",
       "    }\n",
       "\n",
       "    .dataframe tbody tr th {\n",
       "        vertical-align: top;\n",
       "    }\n",
       "\n",
       "    .dataframe thead th {\n",
       "        text-align: right;\n",
       "    }\n",
       "</style>\n",
       "<table border=\"1\" class=\"dataframe\">\n",
       "  <thead>\n",
       "    <tr style=\"text-align: right;\">\n",
       "      <th></th>\n",
       "      <th>movie</th>\n",
       "      <th>tv</th>\n",
       "    </tr>\n",
       "    <tr>\n",
       "      <th>seps</th>\n",
       "      <th></th>\n",
       "      <th></th>\n",
       "    </tr>\n",
       "  </thead>\n",
       "  <tbody>\n",
       "    <tr>\n",
       "      <th>1</th>\n",
       "      <td>744</td>\n",
       "      <td>367</td>\n",
       "    </tr>\n",
       "    <tr>\n",
       "      <th>2</th>\n",
       "      <td>802</td>\n",
       "      <td>309</td>\n",
       "    </tr>\n",
       "    <tr>\n",
       "      <th>3</th>\n",
       "      <td>829</td>\n",
       "      <td>282</td>\n",
       "    </tr>\n",
       "    <tr>\n",
       "      <th>4</th>\n",
       "      <td>779</td>\n",
       "      <td>332</td>\n",
       "    </tr>\n",
       "    <tr>\n",
       "      <th>5</th>\n",
       "      <td>741</td>\n",
       "      <td>370</td>\n",
       "    </tr>\n",
       "    <tr>\n",
       "      <th>6</th>\n",
       "      <td>764</td>\n",
       "      <td>347</td>\n",
       "    </tr>\n",
       "    <tr>\n",
       "      <th>7</th>\n",
       "      <td>718</td>\n",
       "      <td>393</td>\n",
       "    </tr>\n",
       "  </tbody>\n",
       "</table>\n",
       "</div>"
      ],
      "text/plain": [
       "      movie   tv\n",
       "seps            \n",
       "1       744  367\n",
       "2       802  309\n",
       "3       829  282\n",
       "4       779  332\n",
       "5       741  370\n",
       "6       764  347\n",
       "7       718  393"
      ]
     },
     "execution_count": 35,
     "metadata": {},
     "output_type": "execute_result"
    }
   ],
   "source": [
    "count_type = pd.pivot_table(count_type, index='seps', columns='type')\n",
    "count_type.columns=['movie', 'tv']\n",
    "count_type"
   ]
  },
  {
   "cell_type": "code",
   "execution_count": 36,
   "id": "6da275e1",
   "metadata": {},
   "outputs": [
    {
     "data": {
      "text/plain": [
       "[1, 2, 3, 4, 5, 6, 7]"
      ]
     },
     "execution_count": 36,
     "metadata": {},
     "output_type": "execute_result"
    }
   ],
   "source": [
    "list(np.arange(1,8))"
   ]
  },
  {
   "cell_type": "code",
   "execution_count": 112,
   "id": "04e8b3f4",
   "metadata": {},
   "outputs": [
    {
     "data": {
      "image/png": "[encoded data removed]",
      "text/plain": [
       "<Figure size 864x288 with 1 Axes>"
      ]
     },
     "metadata": {},
     "output_type": "display_data"
    }
   ],
   "source": [
    "plt.figure(figsize=(12,4))\n",
    "\n",
    "sns.lineplot(data=count_type, x=count_type.index, y=count_type['movie'], label='Movie', linewidth=0.85)\n",
    "sns.lineplot(data=count_type, x=count_type.index, y=count_type['tv'], label='TV Show', linewidth=0.85)\n",
    "\n",
    "plt.legend(bbox_to_anchor=(1.01,1))\n",
    "plt.ylabel('the number of contents')\n",
    "plt.xlabel('period(past.. 1--->7 ..now)')\n",
    "\n",
    "plt.show()"
   ]
  },
  {
   "cell_type": "markdown",
   "id": "a70bb7f6",
   "metadata": {},
   "source": [
    "**결론 :** <br>\n",
    "**최근 영화보다 TV 시리즈가 늘고 있다. 귀무가설을 기각합니다.**<br>\n",
    "특히 넷플릭스 서비스 초기보다 현 시점에서 TV 시리즈가 늘고 있는 것에 의미가 있습니다.\n",
    "초기 영화 수급이 어려웠던 때보다 최근 자본이 받쳐주는 상황에서도 TV 시리즈 보유량을 늘리는 것을 보면 TV 시리즈에 대한 강한 시장 수요를 간접적으로 이해할 수 있습니다."
   ]
  },
  {
   "cell_type": "markdown",
   "id": "e78eedec",
   "metadata": {},
   "source": [
    "<br>\n",
    "\n",
    "### 3-2. 특정 국가를 겨냥한 콘텐츠 현황 분석"
   ]
  },
  {
   "cell_type": "markdown",
   "id": "a8132005",
   "metadata": {},
   "source": [
    "콘텐츠 플랫폼의 경우 특정 국가 진입 및 초기 점유율 확보를 위해 해당 국가에서 생산한 콘텐츠를 전략적으로 확보하는 경향이 있습니다.\n",
    "국가별 콘텐츠 비중을 살펴보고 최근 순위나 점유율의 변동이 있는지 살펴보도록 합니다."
   ]
  },
  {
   "cell_type": "markdown",
   "id": "be054e8b",
   "metadata": {},
   "source": [
    "- H0 : 국가별 콘텐츠 수급 비중은 전과 동일하다.\n",
    "- H1 : 최근 특정 국가의 콘텐츠 수급 비중이 늘고 있다. "
   ]
  },
  {
   "cell_type": "code",
   "execution_count": 38,
   "id": "f6dd67ac",
   "metadata": {},
   "outputs": [
    {
     "data": {
      "text/plain": [
       "United States     385\n",
       "India             112\n",
       "United Kingdom     38\n",
       "Japan              31\n",
       "Canada             29\n",
       "Philippines        25\n",
       "South Korea        24\n",
       "Spain              16\n",
       "France             15\n",
       "Indonesia          15\n",
       "Name: country, dtype: int64"
      ]
     },
     "execution_count": 38,
     "metadata": {},
     "output_type": "execute_result"
    }
   ],
   "source": [
    "# 가장 최근 확보한 1111개 콘텐츠의 제작 국가별 비중\n",
    "nflx.loc[nflx['seps']=='7','country'].value_counts()[:10]"
   ]
  },
  {
   "cell_type": "code",
   "execution_count": 39,
   "id": "aff21d82",
   "metadata": {},
   "outputs": [
    {
     "data": {
      "text/plain": [
       "Index(['United States', 'India', 'United Kingdom', 'Japan', 'Canada',\n",
       "       'Philippines', 'South Korea', 'Spain', 'France', 'Indonesia'],\n",
       "      dtype='object')"
      ]
     },
     "execution_count": 39,
     "metadata": {},
     "output_type": "execute_result"
    }
   ],
   "source": [
    "top10_countries = nflx.loc[nflx['seps']=='7','country'].value_counts()[:10].index\n",
    "top10_countries"
   ]
  },
  {
   "cell_type": "code",
   "execution_count": 40,
   "id": "34b84501",
   "metadata": {},
   "outputs": [
    {
     "data": {
      "text/html": [
       "<div>\n",
       "<style scoped>\n",
       "    .dataframe tbody tr th:only-of-type {\n",
       "        vertical-align: middle;\n",
       "    }\n",
       "\n",
       "    .dataframe tbody tr th {\n",
       "        vertical-align: top;\n",
       "    }\n",
       "\n",
       "    .dataframe thead th {\n",
       "        text-align: right;\n",
       "    }\n",
       "</style>\n",
       "<table border=\"1\" class=\"dataframe\">\n",
       "  <thead>\n",
       "    <tr style=\"text-align: right;\">\n",
       "      <th></th>\n",
       "      <th>country</th>\n",
       "      <th>seps</th>\n",
       "    </tr>\n",
       "    <tr>\n",
       "      <th>date_added</th>\n",
       "      <th></th>\n",
       "      <th></th>\n",
       "    </tr>\n",
       "  </thead>\n",
       "  <tbody>\n",
       "    <tr>\n",
       "      <th>2008-01-01</th>\n",
       "      <td>United States</td>\n",
       "      <td>1</td>\n",
       "    </tr>\n",
       "    <tr>\n",
       "      <th>2008-02-04</th>\n",
       "      <td>United States</td>\n",
       "      <td>1</td>\n",
       "    </tr>\n",
       "    <tr>\n",
       "      <th>2009-11-18</th>\n",
       "      <td>United States</td>\n",
       "      <td>1</td>\n",
       "    </tr>\n",
       "    <tr>\n",
       "      <th>2010-11-01</th>\n",
       "      <td>United States</td>\n",
       "      <td>1</td>\n",
       "    </tr>\n",
       "    <tr>\n",
       "      <th>2011-09-27</th>\n",
       "      <td>United States</td>\n",
       "      <td>1</td>\n",
       "    </tr>\n",
       "    <tr>\n",
       "      <th>...</th>\n",
       "      <td>...</td>\n",
       "      <td>...</td>\n",
       "    </tr>\n",
       "    <tr>\n",
       "      <th>2021-01-15</th>\n",
       "      <td>United States</td>\n",
       "      <td>7</td>\n",
       "    </tr>\n",
       "    <tr>\n",
       "      <th>2021-01-15</th>\n",
       "      <td>United States</td>\n",
       "      <td>7</td>\n",
       "    </tr>\n",
       "    <tr>\n",
       "      <th>2021-01-15</th>\n",
       "      <td>United States</td>\n",
       "      <td>7</td>\n",
       "    </tr>\n",
       "    <tr>\n",
       "      <th>2021-01-15</th>\n",
       "      <td>United States</td>\n",
       "      <td>7</td>\n",
       "    </tr>\n",
       "    <tr>\n",
       "      <th>2021-01-16</th>\n",
       "      <td>United States</td>\n",
       "      <td>7</td>\n",
       "    </tr>\n",
       "  </tbody>\n",
       "</table>\n",
       "<p>4843 rows × 2 columns</p>\n",
       "</div>"
      ],
      "text/plain": [
       "                  country seps\n",
       "date_added                    \n",
       "2008-01-01  United States    1\n",
       "2008-02-04  United States    1\n",
       "2009-11-18  United States    1\n",
       "2010-11-01  United States    1\n",
       "2011-09-27  United States    1\n",
       "...                   ...  ...\n",
       "2021-01-15  United States    7\n",
       "2021-01-15  United States    7\n",
       "2021-01-15  United States    7\n",
       "2021-01-15  United States    7\n",
       "2021-01-16  United States    7\n",
       "\n",
       "[4843 rows x 2 columns]"
      ]
     },
     "execution_count": 40,
     "metadata": {},
     "output_type": "execute_result"
    }
   ],
   "source": [
    "seps_by_top10 = nflx.loc[nflx['country'].isin(top10_countries),['country','seps']]\n",
    "seps_by_top10"
   ]
  },
  {
   "cell_type": "code",
   "execution_count": 41,
   "id": "2c71440b",
   "metadata": {},
   "outputs": [
    {
     "data": {
      "text/html": [
       "<div>\n",
       "<style scoped>\n",
       "    .dataframe tbody tr th:only-of-type {\n",
       "        vertical-align: middle;\n",
       "    }\n",
       "\n",
       "    .dataframe tbody tr th {\n",
       "        vertical-align: top;\n",
       "    }\n",
       "\n",
       "    .dataframe thead th {\n",
       "        text-align: right;\n",
       "    }\n",
       "</style>\n",
       "<table border=\"1\" class=\"dataframe\">\n",
       "  <thead>\n",
       "    <tr style=\"text-align: right;\">\n",
       "      <th></th>\n",
       "      <th>country</th>\n",
       "    </tr>\n",
       "    <tr>\n",
       "      <th>seps</th>\n",
       "      <th></th>\n",
       "    </tr>\n",
       "  </thead>\n",
       "  <tbody>\n",
       "    <tr>\n",
       "      <th>1</th>\n",
       "      <td>415</td>\n",
       "    </tr>\n",
       "    <tr>\n",
       "      <th>2</th>\n",
       "      <td>332</td>\n",
       "    </tr>\n",
       "    <tr>\n",
       "      <th>3</th>\n",
       "      <td>285</td>\n",
       "    </tr>\n",
       "    <tr>\n",
       "      <th>4</th>\n",
       "      <td>336</td>\n",
       "    </tr>\n",
       "    <tr>\n",
       "      <th>5</th>\n",
       "      <td>434</td>\n",
       "    </tr>\n",
       "    <tr>\n",
       "      <th>6</th>\n",
       "      <td>362</td>\n",
       "    </tr>\n",
       "    <tr>\n",
       "      <th>7</th>\n",
       "      <td>385</td>\n",
       "    </tr>\n",
       "  </tbody>\n",
       "</table>\n",
       "</div>"
      ],
      "text/plain": [
       "      country\n",
       "seps         \n",
       "1         415\n",
       "2         332\n",
       "3         285\n",
       "4         336\n",
       "5         434\n",
       "6         362\n",
       "7         385"
      ]
     },
     "execution_count": 41,
     "metadata": {},
     "output_type": "execute_result"
    }
   ],
   "source": [
    "seps_by_top10.loc[seps_by_top10['country'] == top10_countries[0]].groupby('seps').count()"
   ]
  },
  {
   "cell_type": "code",
   "execution_count": 42,
   "id": "6f4b8b95",
   "metadata": {},
   "outputs": [
    {
     "data": {
      "text/plain": [
       "Index(['United States', 'India', 'United Kingdom', 'Japan', 'Canada',\n",
       "       'Philippines', 'South Korea', 'Spain', 'France', 'Indonesia'],\n",
       "      dtype='object')"
      ]
     },
     "execution_count": 42,
     "metadata": {},
     "output_type": "execute_result"
    }
   ],
   "source": [
    "top10_countries"
   ]
  },
  {
   "cell_type": "code",
   "execution_count": 111,
   "id": "86109431",
   "metadata": {},
   "outputs": [
    {
     "data": {
      "image/png": "[encoded data removed]",
      "text/plain": [
       "<Figure size 864x432 with 1 Axes>"
      ]
     },
     "metadata": {},
     "output_type": "display_data"
    }
   ],
   "source": [
    "plt.figure(figsize=(12,6))\n",
    "for country in list(top10_countries):\n",
    "    count_country = seps_by_top10.loc[seps_by_top10['country'] == country].groupby('seps').count()\n",
    "    sns.lineplot(data=count_country, x=count_country.index, y=count_country['country'], label=country, linewidth=0.85)\n",
    "    \n",
    "plt.legend(bbox_to_anchor=(1.005,1))\n",
    "\n",
    "plt.ylabel('The Count of Countries')\n",
    "plt.xlabel('period(past.. 1--->7 ..now)')\n",
    "\n",
    "plt.show()"
   ]
  },
  {
   "cell_type": "markdown",
   "id": "2e6d7d8d",
   "metadata": {},
   "source": [
    "**결론 :**<br>\n",
    "**국가별 콘텐츠 수급 비중은 전과 다릅니다. 귀무가설을 기각합니다.**\n",
    "한 때, 인도 영화 수급 비중이 미국 본토 콘텐츠 수급 비중과 유사했던 적도 있으나 현재 미국 콘텐츠에 더 집중하고 있는 것으로 보입니다.\n",
    "동시에 영국 콘텐츠 수급 비중을 점차 줄여나가고 있습니다.\n"
   ]
  },
  {
   "cell_type": "markdown",
   "id": "868ec9d5",
   "metadata": {},
   "source": [
    "<br>\n",
    "\n",
    "### 3-3. 콘텐츠 수급 대상 연도 분석"
   ]
  },
  {
   "cell_type": "markdown",
   "id": "bbfce6be",
   "metadata": {},
   "source": [
    "최근 국내에서는 과거 히트작이 재상영되거나 유튜브 등을 통해 다시 회자되는 시청 트랜드가 생겨나고 있습니다.\n",
    "전 세계적으로 이러한 현상이 나타나고 있다면 넷플릭스에서도 최신 영화, 최신 드라마만 집중하지 않고 더 넓은 범위의 연도를 고려할 수 있겠습니다.\n",
    "\n",
    "- H0 : 최근 옛날(오래된) 콘텐츠 수급 비중이 늘고 있다.\n",
    "- H1 : 최근 옛날(오래된) 콘텐츠 수급 비중이 늘고 있다."
   ]
  },
  {
   "cell_type": "code",
   "execution_count": 44,
   "id": "ed3851f4",
   "metadata": {},
   "outputs": [
    {
     "data": {
      "text/html": [
       "<div>\n",
       "<style scoped>\n",
       "    .dataframe tbody tr th:only-of-type {\n",
       "        vertical-align: middle;\n",
       "    }\n",
       "\n",
       "    .dataframe tbody tr th {\n",
       "        vertical-align: top;\n",
       "    }\n",
       "\n",
       "    .dataframe thead th {\n",
       "        text-align: right;\n",
       "    }\n",
       "</style>\n",
       "<table border=\"1\" class=\"dataframe\">\n",
       "  <thead>\n",
       "    <tr style=\"text-align: right;\">\n",
       "      <th></th>\n",
       "      <th>type</th>\n",
       "      <th>title</th>\n",
       "      <th>country</th>\n",
       "      <th>release_year</th>\n",
       "      <th>rating</th>\n",
       "      <th>duration</th>\n",
       "      <th>listed_in</th>\n",
       "      <th>description</th>\n",
       "      <th>seps</th>\n",
       "    </tr>\n",
       "    <tr>\n",
       "      <th>date_added</th>\n",
       "      <th></th>\n",
       "      <th></th>\n",
       "      <th></th>\n",
       "      <th></th>\n",
       "      <th></th>\n",
       "      <th></th>\n",
       "      <th></th>\n",
       "      <th></th>\n",
       "      <th></th>\n",
       "    </tr>\n",
       "  </thead>\n",
       "  <tbody>\n",
       "    <tr>\n",
       "      <th>2008-01-01</th>\n",
       "      <td>Movie</td>\n",
       "      <td>To and From New York</td>\n",
       "      <td>United States</td>\n",
       "      <td>2006-01-01</td>\n",
       "      <td>TV-MA</td>\n",
       "      <td>81</td>\n",
       "      <td>Dramas, Independent Movies, Thrillers</td>\n",
       "      <td>While covering a story in New York City, a Sea...</td>\n",
       "      <td>1</td>\n",
       "    </tr>\n",
       "    <tr>\n",
       "      <th>2008-02-04</th>\n",
       "      <td>TV Show</td>\n",
       "      <td>Dinner for Five</td>\n",
       "      <td>United States</td>\n",
       "      <td>2007-01-01</td>\n",
       "      <td>TV-MA</td>\n",
       "      <td>1</td>\n",
       "      <td>Stand-Up Comedy &amp; Talk Shows</td>\n",
       "      <td>In each episode, four celebrities join host Jo...</td>\n",
       "      <td>1</td>\n",
       "    </tr>\n",
       "    <tr>\n",
       "      <th>2009-05-05</th>\n",
       "      <td>Movie</td>\n",
       "      <td>Just Another Love Story</td>\n",
       "      <td>Denmark</td>\n",
       "      <td>2007-01-01</td>\n",
       "      <td>TV-MA</td>\n",
       "      <td>104</td>\n",
       "      <td>Dramas, International Movies</td>\n",
       "      <td>When he causes a car accident that leaves a yo...</td>\n",
       "      <td>1</td>\n",
       "    </tr>\n",
       "    <tr>\n",
       "      <th>2009-11-18</th>\n",
       "      <td>Movie</td>\n",
       "      <td>Splatter</td>\n",
       "      <td>United States</td>\n",
       "      <td>2009-01-01</td>\n",
       "      <td>TV-MA</td>\n",
       "      <td>29</td>\n",
       "      <td>Horror Movies</td>\n",
       "      <td>After committing suicide, a washed-up rocker r...</td>\n",
       "      <td>1</td>\n",
       "    </tr>\n",
       "    <tr>\n",
       "      <th>2010-11-01</th>\n",
       "      <td>Movie</td>\n",
       "      <td>Mad Ron's Prevues from Hell</td>\n",
       "      <td>United States</td>\n",
       "      <td>1987-01-01</td>\n",
       "      <td>NR</td>\n",
       "      <td>84</td>\n",
       "      <td>Cult Movies, Horror Movies</td>\n",
       "      <td>This collection cherry-picks trailers, forgott...</td>\n",
       "      <td>1</td>\n",
       "    </tr>\n",
       "    <tr>\n",
       "      <th>...</th>\n",
       "      <td>...</td>\n",
       "      <td>...</td>\n",
       "      <td>...</td>\n",
       "      <td>...</td>\n",
       "      <td>...</td>\n",
       "      <td>...</td>\n",
       "      <td>...</td>\n",
       "      <td>...</td>\n",
       "      <td>...</td>\n",
       "    </tr>\n",
       "    <tr>\n",
       "      <th>2021-01-15</th>\n",
       "      <td>Movie</td>\n",
       "      <td>Wish You</td>\n",
       "      <td>NaN</td>\n",
       "      <td>2021-01-01</td>\n",
       "      <td>TV-PG</td>\n",
       "      <td>102</td>\n",
       "      <td>Dramas, International Movies, LGBTQ Movies</td>\n",
       "      <td>Singing and dreaming together, a talented sing...</td>\n",
       "      <td>7</td>\n",
       "    </tr>\n",
       "    <tr>\n",
       "      <th>2021-01-15</th>\n",
       "      <td>TV Show</td>\n",
       "      <td>The Magicians</td>\n",
       "      <td>United States, Canada</td>\n",
       "      <td>2020-01-01</td>\n",
       "      <td>TV-MA</td>\n",
       "      <td>5</td>\n",
       "      <td>TV Dramas, TV Sci-Fi &amp; Fantasy</td>\n",
       "      <td>When grad student Quentin Coldwater enters a c...</td>\n",
       "      <td>7</td>\n",
       "    </tr>\n",
       "    <tr>\n",
       "      <th>2021-01-16</th>\n",
       "      <td>Movie</td>\n",
       "      <td>Death of Me</td>\n",
       "      <td>United States, Thailand</td>\n",
       "      <td>2020-01-01</td>\n",
       "      <td>R</td>\n",
       "      <td>94</td>\n",
       "      <td>Horror Movies</td>\n",
       "      <td>With no memory of the previous night, a vacati...</td>\n",
       "      <td>7</td>\n",
       "    </tr>\n",
       "    <tr>\n",
       "      <th>2021-01-16</th>\n",
       "      <td>Movie</td>\n",
       "      <td>Radium Girls</td>\n",
       "      <td>United States</td>\n",
       "      <td>2018-01-01</td>\n",
       "      <td>TV-14</td>\n",
       "      <td>103</td>\n",
       "      <td>Dramas, Independent Movies</td>\n",
       "      <td>When the women at a radium factory begin to fa...</td>\n",
       "      <td>7</td>\n",
       "    </tr>\n",
       "    <tr>\n",
       "      <th>2021-01-16</th>\n",
       "      <td>Movie</td>\n",
       "      <td>A Monster Calls</td>\n",
       "      <td>United Kingdom, Spain, United States</td>\n",
       "      <td>2016-01-01</td>\n",
       "      <td>PG-13</td>\n",
       "      <td>108</td>\n",
       "      <td>Dramas, Sci-Fi &amp; Fantasy</td>\n",
       "      <td>Overwhelmed by his mother’s illness, a young b...</td>\n",
       "      <td>7</td>\n",
       "    </tr>\n",
       "  </tbody>\n",
       "</table>\n",
       "<p>7777 rows × 9 columns</p>\n",
       "</div>"
      ],
      "text/plain": [
       "               type                        title  \\\n",
       "date_added                                         \n",
       "2008-01-01    Movie         To and From New York   \n",
       "2008-02-04  TV Show              Dinner for Five   \n",
       "2009-05-05    Movie      Just Another Love Story   \n",
       "2009-11-18    Movie                     Splatter   \n",
       "2010-11-01    Movie  Mad Ron's Prevues from Hell   \n",
       "...             ...                          ...   \n",
       "2021-01-15    Movie                     Wish You   \n",
       "2021-01-15  TV Show                The Magicians   \n",
       "2021-01-16    Movie                  Death of Me   \n",
       "2021-01-16    Movie                 Radium Girls   \n",
       "2021-01-16    Movie              A Monster Calls   \n",
       "\n",
       "                                         country release_year rating  \\\n",
       "date_added                                                             \n",
       "2008-01-01                         United States   2006-01-01  TV-MA   \n",
       "2008-02-04                         United States   2007-01-01  TV-MA   \n",
       "2009-05-05                               Denmark   2007-01-01  TV-MA   \n",
       "2009-11-18                         United States   2009-01-01  TV-MA   \n",
       "2010-11-01                         United States   1987-01-01     NR   \n",
       "...                                          ...          ...    ...   \n",
       "2021-01-15                                   NaN   2021-01-01  TV-PG   \n",
       "2021-01-15                 United States, Canada   2020-01-01  TV-MA   \n",
       "2021-01-16               United States, Thailand   2020-01-01      R   \n",
       "2021-01-16                         United States   2018-01-01  TV-14   \n",
       "2021-01-16  United Kingdom, Spain, United States   2016-01-01  PG-13   \n",
       "\n",
       "            duration                                   listed_in  \\\n",
       "date_added                                                         \n",
       "2008-01-01        81       Dramas, Independent Movies, Thrillers   \n",
       "2008-02-04         1                Stand-Up Comedy & Talk Shows   \n",
       "2009-05-05       104                Dramas, International Movies   \n",
       "2009-11-18        29                               Horror Movies   \n",
       "2010-11-01        84                  Cult Movies, Horror Movies   \n",
       "...              ...                                         ...   \n",
       "2021-01-15       102  Dramas, International Movies, LGBTQ Movies   \n",
       "2021-01-15         5              TV Dramas, TV Sci-Fi & Fantasy   \n",
       "2021-01-16        94                               Horror Movies   \n",
       "2021-01-16       103                  Dramas, Independent Movies   \n",
       "2021-01-16       108                    Dramas, Sci-Fi & Fantasy   \n",
       "\n",
       "                                                  description seps  \n",
       "date_added                                                          \n",
       "2008-01-01  While covering a story in New York City, a Sea...    1  \n",
       "2008-02-04  In each episode, four celebrities join host Jo...    1  \n",
       "2009-05-05  When he causes a car accident that leaves a yo...    1  \n",
       "2009-11-18  After committing suicide, a washed-up rocker r...    1  \n",
       "2010-11-01  This collection cherry-picks trailers, forgott...    1  \n",
       "...                                                       ...  ...  \n",
       "2021-01-15  Singing and dreaming together, a talented sing...    7  \n",
       "2021-01-15  When grad student Quentin Coldwater enters a c...    7  \n",
       "2021-01-16  With no memory of the previous night, a vacati...    7  \n",
       "2021-01-16  When the women at a radium factory begin to fa...    7  \n",
       "2021-01-16  Overwhelmed by his mother’s illness, a young b...    7  \n",
       "\n",
       "[7777 rows x 9 columns]"
      ]
     },
     "execution_count": 44,
     "metadata": {},
     "output_type": "execute_result"
    }
   ],
   "source": [
    "nflx"
   ]
  },
  {
   "cell_type": "markdown",
   "id": "50c5acfe",
   "metadata": {},
   "source": [
    "'출시일로부터 얼마나 지난 콘텐츠를 수급했는가?' 에 대한 데이터를 확보합니다."
   ]
  },
  {
   "cell_type": "code",
   "execution_count": 45,
   "id": "25767b4d",
   "metadata": {},
   "outputs": [
    {
     "data": {
      "text/html": [
       "<div>\n",
       "<style scoped>\n",
       "    .dataframe tbody tr th:only-of-type {\n",
       "        vertical-align: middle;\n",
       "    }\n",
       "\n",
       "    .dataframe tbody tr th {\n",
       "        vertical-align: top;\n",
       "    }\n",
       "\n",
       "    .dataframe thead th {\n",
       "        text-align: right;\n",
       "    }\n",
       "</style>\n",
       "<table border=\"1\" class=\"dataframe\">\n",
       "  <thead>\n",
       "    <tr style=\"text-align: right;\">\n",
       "      <th></th>\n",
       "      <th>days</th>\n",
       "    </tr>\n",
       "    <tr>\n",
       "      <th>date_added</th>\n",
       "      <th></th>\n",
       "    </tr>\n",
       "  </thead>\n",
       "  <tbody>\n",
       "    <tr>\n",
       "      <th>2008-01-01</th>\n",
       "      <td>730 days</td>\n",
       "    </tr>\n",
       "    <tr>\n",
       "      <th>2008-02-04</th>\n",
       "      <td>399 days</td>\n",
       "    </tr>\n",
       "    <tr>\n",
       "      <th>2009-05-05</th>\n",
       "      <td>855 days</td>\n",
       "    </tr>\n",
       "    <tr>\n",
       "      <th>2009-11-18</th>\n",
       "      <td>321 days</td>\n",
       "    </tr>\n",
       "    <tr>\n",
       "      <th>2010-11-01</th>\n",
       "      <td>8705 days</td>\n",
       "    </tr>\n",
       "    <tr>\n",
       "      <th>...</th>\n",
       "      <td>...</td>\n",
       "    </tr>\n",
       "    <tr>\n",
       "      <th>2021-01-15</th>\n",
       "      <td>14 days</td>\n",
       "    </tr>\n",
       "    <tr>\n",
       "      <th>2021-01-15</th>\n",
       "      <td>380 days</td>\n",
       "    </tr>\n",
       "    <tr>\n",
       "      <th>2021-01-16</th>\n",
       "      <td>381 days</td>\n",
       "    </tr>\n",
       "    <tr>\n",
       "      <th>2021-01-16</th>\n",
       "      <td>1111 days</td>\n",
       "    </tr>\n",
       "    <tr>\n",
       "      <th>2021-01-16</th>\n",
       "      <td>1842 days</td>\n",
       "    </tr>\n",
       "  </tbody>\n",
       "</table>\n",
       "<p>7777 rows × 1 columns</p>\n",
       "</div>"
      ],
      "text/plain": [
       "                days\n",
       "date_added          \n",
       "2008-01-01  730 days\n",
       "2008-02-04  399 days\n",
       "2009-05-05  855 days\n",
       "2009-11-18  321 days\n",
       "2010-11-01 8705 days\n",
       "...              ...\n",
       "2021-01-15   14 days\n",
       "2021-01-15  380 days\n",
       "2021-01-16  381 days\n",
       "2021-01-16 1111 days\n",
       "2021-01-16 1842 days\n",
       "\n",
       "[7777 rows x 1 columns]"
      ]
     },
     "execution_count": 45,
     "metadata": {},
     "output_type": "execute_result"
    }
   ],
   "source": [
    "add_from_release = pd.DataFrame(nflx.index - nflx['release_year'])\n",
    "add_from_release.columns = ['days']\n",
    "add_from_release"
   ]
  },
  {
   "cell_type": "code",
   "execution_count": 46,
   "id": "16e63d09",
   "metadata": {},
   "outputs": [
    {
     "data": {
      "text/html": [
       "<div>\n",
       "<style scoped>\n",
       "    .dataframe tbody tr th:only-of-type {\n",
       "        vertical-align: middle;\n",
       "    }\n",
       "\n",
       "    .dataframe tbody tr th {\n",
       "        vertical-align: top;\n",
       "    }\n",
       "\n",
       "    .dataframe thead th {\n",
       "        text-align: right;\n",
       "    }\n",
       "</style>\n",
       "<table border=\"1\" class=\"dataframe\">\n",
       "  <thead>\n",
       "    <tr style=\"text-align: right;\">\n",
       "      <th></th>\n",
       "      <th>days</th>\n",
       "    </tr>\n",
       "    <tr>\n",
       "      <th>date_added</th>\n",
       "      <th></th>\n",
       "    </tr>\n",
       "  </thead>\n",
       "  <tbody>\n",
       "    <tr>\n",
       "      <th>2008-01-01</th>\n",
       "      <td>730</td>\n",
       "    </tr>\n",
       "    <tr>\n",
       "      <th>2008-02-04</th>\n",
       "      <td>399</td>\n",
       "    </tr>\n",
       "    <tr>\n",
       "      <th>2009-05-05</th>\n",
       "      <td>855</td>\n",
       "    </tr>\n",
       "    <tr>\n",
       "      <th>2009-11-18</th>\n",
       "      <td>321</td>\n",
       "    </tr>\n",
       "    <tr>\n",
       "      <th>2010-11-01</th>\n",
       "      <td>8705</td>\n",
       "    </tr>\n",
       "    <tr>\n",
       "      <th>...</th>\n",
       "      <td>...</td>\n",
       "    </tr>\n",
       "    <tr>\n",
       "      <th>2021-01-15</th>\n",
       "      <td>14</td>\n",
       "    </tr>\n",
       "    <tr>\n",
       "      <th>2021-01-15</th>\n",
       "      <td>380</td>\n",
       "    </tr>\n",
       "    <tr>\n",
       "      <th>2021-01-16</th>\n",
       "      <td>381</td>\n",
       "    </tr>\n",
       "    <tr>\n",
       "      <th>2021-01-16</th>\n",
       "      <td>1111</td>\n",
       "    </tr>\n",
       "    <tr>\n",
       "      <th>2021-01-16</th>\n",
       "      <td>1842</td>\n",
       "    </tr>\n",
       "  </tbody>\n",
       "</table>\n",
       "<p>7777 rows × 1 columns</p>\n",
       "</div>"
      ],
      "text/plain": [
       "            days\n",
       "date_added      \n",
       "2008-01-01   730\n",
       "2008-02-04   399\n",
       "2009-05-05   855\n",
       "2009-11-18   321\n",
       "2010-11-01  8705\n",
       "...          ...\n",
       "2021-01-15    14\n",
       "2021-01-15   380\n",
       "2021-01-16   381\n",
       "2021-01-16  1111\n",
       "2021-01-16  1842\n",
       "\n",
       "[7777 rows x 1 columns]"
      ]
     },
     "execution_count": 46,
     "metadata": {},
     "output_type": "execute_result"
    }
   ],
   "source": [
    "# 숫자만 남긴다.\n",
    "add_from_release['days'] = add_from_release['days'].apply(lambda x : str(x).split(' ')[0])\n",
    "add_from_release['days'] = add_from_release['days'].astype('int64')\n",
    "add_from_release"
   ]
  },
  {
   "cell_type": "code",
   "execution_count": 88,
   "metadata": {},
   "outputs": [
    {
     "data": {
      "text/html": [
       "<div>\n",
       "<style scoped>\n",
       "    .dataframe tbody tr th:only-of-type {\n",
       "        vertical-align: middle;\n",
       "    }\n",
       "\n",
       "    .dataframe tbody tr th {\n",
       "        vertical-align: top;\n",
       "    }\n",
       "\n",
       "    .dataframe thead th {\n",
       "        text-align: right;\n",
       "    }\n",
       "</style>\n",
       "<table border=\"1\" class=\"dataframe\">\n",
       "  <thead>\n",
       "    <tr style=\"text-align: right;\">\n",
       "      <th></th>\n",
       "      <th>days</th>\n",
       "      <th>seps</th>\n",
       "    </tr>\n",
       "    <tr>\n",
       "      <th>date_added</th>\n",
       "      <th></th>\n",
       "      <th></th>\n",
       "    </tr>\n",
       "  </thead>\n",
       "  <tbody>\n",
       "    <tr>\n",
       "      <th>2008-01-01</th>\n",
       "      <td>730</td>\n",
       "      <td>1</td>\n",
       "    </tr>\n",
       "    <tr>\n",
       "      <th>2008-02-04</th>\n",
       "      <td>399</td>\n",
       "      <td>1</td>\n",
       "    </tr>\n",
       "    <tr>\n",
       "      <th>2009-05-05</th>\n",
       "      <td>855</td>\n",
       "      <td>1</td>\n",
       "    </tr>\n",
       "    <tr>\n",
       "      <th>2009-11-18</th>\n",
       "      <td>321</td>\n",
       "      <td>1</td>\n",
       "    </tr>\n",
       "    <tr>\n",
       "      <th>2010-11-01</th>\n",
       "      <td>8705</td>\n",
       "      <td>1</td>\n",
       "    </tr>\n",
       "    <tr>\n",
       "      <th>...</th>\n",
       "      <td>...</td>\n",
       "      <td>...</td>\n",
       "    </tr>\n",
       "    <tr>\n",
       "      <th>2021-01-15</th>\n",
       "      <td>14</td>\n",
       "      <td>7</td>\n",
       "    </tr>\n",
       "    <tr>\n",
       "      <th>2021-01-15</th>\n",
       "      <td>380</td>\n",
       "      <td>7</td>\n",
       "    </tr>\n",
       "    <tr>\n",
       "      <th>2021-01-16</th>\n",
       "      <td>381</td>\n",
       "      <td>7</td>\n",
       "    </tr>\n",
       "    <tr>\n",
       "      <th>2021-01-16</th>\n",
       "      <td>1111</td>\n",
       "      <td>7</td>\n",
       "    </tr>\n",
       "    <tr>\n",
       "      <th>2021-01-16</th>\n",
       "      <td>1842</td>\n",
       "      <td>7</td>\n",
       "    </tr>\n",
       "  </tbody>\n",
       "</table>\n",
       "<p>7777 rows × 2 columns</p>\n",
       "</div>"
      ],
      "text/plain": [
       "            days seps\n",
       "date_added           \n",
       "2008-01-01   730    1\n",
       "2008-02-04   399    1\n",
       "2009-05-05   855    1\n",
       "2009-11-18   321    1\n",
       "2010-11-01  8705    1\n",
       "...          ...  ...\n",
       "2021-01-15    14    7\n",
       "2021-01-15   380    7\n",
       "2021-01-16   381    7\n",
       "2021-01-16  1111    7\n",
       "2021-01-16  1842    7\n",
       "\n",
       "[7777 rows x 2 columns]"
      ]
     },
     "execution_count": 88,
     "metadata": {},
     "output_type": "execute_result"
    }
   ],
   "source": [
    "add_from_release"
   ]
  },
  {
   "cell_type": "code",
   "execution_count": 107,
   "id": "a9549720",
   "metadata": {},
   "outputs": [
    {
     "data": {
      "image/png": "[encoded data removed]",
      "text/plain": [
       "<Figure size 864x288 with 1 Axes>"
      ]
     },
     "metadata": {},
     "output_type": "display_data"
    }
   ],
   "source": [
    "# 시계열 그래프 확인\n",
    "plt.figure(figsize=(12,4))\n",
    "plt.plot(add_from_release['days'], linewidth=0.64)\n",
    "plt.show()"
   ]
  },
  {
   "cell_type": "markdown",
   "id": "7b1fa4bd",
   "metadata": {},
   "source": [
    "역시나 데이터가 '최근'에 밀집되어 있어서 시계열 그대로 데이터 분포를 분석하기는 어렵습니다.\n",
    "이번에도 `seps` 컬럼을 붙여서 사용하도록 합니다."
   ]
  },
  {
   "cell_type": "code",
   "execution_count": 48,
   "id": "47a2f32d",
   "metadata": {},
   "outputs": [
    {
     "data": {
      "text/html": [
       "<div>\n",
       "<style scoped>\n",
       "    .dataframe tbody tr th:only-of-type {\n",
       "        vertical-align: middle;\n",
       "    }\n",
       "\n",
       "    .dataframe tbody tr th {\n",
       "        vertical-align: top;\n",
       "    }\n",
       "\n",
       "    .dataframe thead th {\n",
       "        text-align: right;\n",
       "    }\n",
       "</style>\n",
       "<table border=\"1\" class=\"dataframe\">\n",
       "  <thead>\n",
       "    <tr style=\"text-align: right;\">\n",
       "      <th></th>\n",
       "      <th>days</th>\n",
       "      <th>seps</th>\n",
       "    </tr>\n",
       "    <tr>\n",
       "      <th>date_added</th>\n",
       "      <th></th>\n",
       "      <th></th>\n",
       "    </tr>\n",
       "  </thead>\n",
       "  <tbody>\n",
       "    <tr>\n",
       "      <th>2008-01-01</th>\n",
       "      <td>730</td>\n",
       "      <td>1</td>\n",
       "    </tr>\n",
       "    <tr>\n",
       "      <th>2008-02-04</th>\n",
       "      <td>399</td>\n",
       "      <td>1</td>\n",
       "    </tr>\n",
       "    <tr>\n",
       "      <th>2009-05-05</th>\n",
       "      <td>855</td>\n",
       "      <td>1</td>\n",
       "    </tr>\n",
       "    <tr>\n",
       "      <th>2009-11-18</th>\n",
       "      <td>321</td>\n",
       "      <td>1</td>\n",
       "    </tr>\n",
       "    <tr>\n",
       "      <th>2010-11-01</th>\n",
       "      <td>8705</td>\n",
       "      <td>1</td>\n",
       "    </tr>\n",
       "    <tr>\n",
       "      <th>...</th>\n",
       "      <td>...</td>\n",
       "      <td>...</td>\n",
       "    </tr>\n",
       "    <tr>\n",
       "      <th>2021-01-15</th>\n",
       "      <td>14</td>\n",
       "      <td>7</td>\n",
       "    </tr>\n",
       "    <tr>\n",
       "      <th>2021-01-15</th>\n",
       "      <td>380</td>\n",
       "      <td>7</td>\n",
       "    </tr>\n",
       "    <tr>\n",
       "      <th>2021-01-16</th>\n",
       "      <td>381</td>\n",
       "      <td>7</td>\n",
       "    </tr>\n",
       "    <tr>\n",
       "      <th>2021-01-16</th>\n",
       "      <td>1111</td>\n",
       "      <td>7</td>\n",
       "    </tr>\n",
       "    <tr>\n",
       "      <th>2021-01-16</th>\n",
       "      <td>1842</td>\n",
       "      <td>7</td>\n",
       "    </tr>\n",
       "  </tbody>\n",
       "</table>\n",
       "<p>7777 rows × 2 columns</p>\n",
       "</div>"
      ],
      "text/plain": [
       "            days seps\n",
       "date_added           \n",
       "2008-01-01   730    1\n",
       "2008-02-04   399    1\n",
       "2009-05-05   855    1\n",
       "2009-11-18   321    1\n",
       "2010-11-01  8705    1\n",
       "...          ...  ...\n",
       "2021-01-15    14    7\n",
       "2021-01-15   380    7\n",
       "2021-01-16   381    7\n",
       "2021-01-16  1111    7\n",
       "2021-01-16  1842    7\n",
       "\n",
       "[7777 rows x 2 columns]"
      ]
     },
     "execution_count": 48,
     "metadata": {},
     "output_type": "execute_result"
    }
   ],
   "source": [
    "add_from_release['seps'] = nflx['seps']\n",
    "add_from_release"
   ]
  },
  {
   "cell_type": "code",
   "execution_count": 95,
   "id": "8be5e008",
   "metadata": {},
   "outputs": [
    {
     "data": {
      "text/html": [
       "<div>\n",
       "<style scoped>\n",
       "    .dataframe tbody tr th:only-of-type {\n",
       "        vertical-align: middle;\n",
       "    }\n",
       "\n",
       "    .dataframe tbody tr th {\n",
       "        vertical-align: top;\n",
       "    }\n",
       "\n",
       "    .dataframe thead th {\n",
       "        text-align: right;\n",
       "    }\n",
       "</style>\n",
       "<table border=\"1\" class=\"dataframe\">\n",
       "  <thead>\n",
       "    <tr style=\"text-align: right;\">\n",
       "      <th></th>\n",
       "      <th>days</th>\n",
       "    </tr>\n",
       "    <tr>\n",
       "      <th>seps</th>\n",
       "      <th></th>\n",
       "    </tr>\n",
       "  </thead>\n",
       "  <tbody>\n",
       "    <tr>\n",
       "      <th>1</th>\n",
       "      <td>1620.840684</td>\n",
       "    </tr>\n",
       "    <tr>\n",
       "      <th>2</th>\n",
       "      <td>1533.819082</td>\n",
       "    </tr>\n",
       "    <tr>\n",
       "      <th>3</th>\n",
       "      <td>1693.895590</td>\n",
       "    </tr>\n",
       "    <tr>\n",
       "      <th>4</th>\n",
       "      <td>1470.170117</td>\n",
       "    </tr>\n",
       "    <tr>\n",
       "      <th>5</th>\n",
       "      <td>2354.061206</td>\n",
       "    </tr>\n",
       "    <tr>\n",
       "      <th>6</th>\n",
       "      <td>2468.386139</td>\n",
       "    </tr>\n",
       "    <tr>\n",
       "      <th>7</th>\n",
       "      <td>1818.285329</td>\n",
       "    </tr>\n",
       "  </tbody>\n",
       "</table>\n",
       "</div>"
      ],
      "text/plain": [
       "             days\n",
       "seps             \n",
       "1     1620.840684\n",
       "2     1533.819082\n",
       "3     1693.895590\n",
       "4     1470.170117\n",
       "5     2354.061206\n",
       "6     2468.386139\n",
       "7     1818.285329"
      ]
     },
     "execution_count": 95,
     "metadata": {},
     "output_type": "execute_result"
    }
   ],
   "source": [
    "data"
   ]
  },
  {
   "cell_type": "code",
   "execution_count": 102,
   "id": "b2ed965c",
   "metadata": {},
   "outputs": [
    {
     "data": {
      "image/png": "[encoded data removed]",
      "text/plain": [
       "<Figure size 864x288 with 1 Axes>"
      ]
     },
     "metadata": {},
     "output_type": "display_data"
    }
   ],
   "source": [
    "# 각 시계열 구간 별 평균 집계\n",
    "plt.figure(figsize=(12,4))\n",
    "\n",
    "data = add_from_release.groupby('seps').mean()\n",
    "plt.plot(data, linewidth=0.85)\n",
    "plt.bar(height=data['days'], x=data.index, width=0.2, alpha=0.6, color='pink')\n",
    "plt.axvline(x=3, color='r', linestyle='--', linewidth=0.85)\n",
    "\n",
    "plt.show()"
   ]
  },
  {
   "cell_type": "markdown",
   "id": "108e5833",
   "metadata": {},
   "source": [
    "**결론 :**<br>\n",
    "넷플릭스는 과거(1,2,3,4)에 비해 최근(5,6,7) 출시일이 오래 지난 콘텐츠를 많이 수급한 경향이 있습니다. 따라서 귀무가설을 기각합니다.  \n",
    "넷플릭스 수급 현황을 보면서 국내와 마찬가지로 세계적으로 시간이 흐른 명작들을 다시 보고자 하는 소비자 수요도 확인해볼 수 있었습니다."
   ]
  },
  {
   "cell_type": "markdown",
   "id": "31ce406a",
   "metadata": {},
   "source": [
    "<br>\n",
    "\n",
    "### 3-4. 넷플릭스의 주요 소비자 타겟(연령대) 분석"
   ]
  },
  {
   "cell_type": "markdown",
   "id": "fee49301",
   "metadata": {},
   "source": [
    "넷플릭스 사용자가 늘어나면서, 이탈율 관리를 위해 주 타겟층을 확실하게 확보하고자 하는 움직임을 보일 수 있습니다.  \n",
    "콘텐츠 플랫폼은 2~30대 사용자 수가 가장 많습니다.  \n",
    "따라서 어린이 연령대의 비중이 낮아지는지, 반대로 성인 연령대 콘텐츠 비중이 높아지는지 함께 확인하는 것을 통해 넷플릭스가 집중하고 있는 타겟층을 분석할 수 있겠습니다."
   ]
  },
  {
   "cell_type": "markdown",
   "id": "3bdff416",
   "metadata": {},
   "source": [
    "- H0 : 어린이 콘텐츠 비중은 일정하게 유지되고 있다.\n",
    "- H1 : 최근 어린이 콘텐츠 비중이 줄고 있다."
   ]
  },
  {
   "cell_type": "markdown",
   "id": "990e0c1d",
   "metadata": {},
   "source": [
    "[(참고) 영화, TV 관람 등급 표](https://www.primevideo.com/help/ref=atv_hp_nd_cnt?language=ko_KR&nodeId=GFGQU3WYEG6FSJFJ)"
   ]
  },
  {
   "cell_type": "code",
   "execution_count": 50,
   "id": "878739b7",
   "metadata": {},
   "outputs": [
    {
     "data": {
      "text/plain": [
       "array(['TV-MA', 'NR', 'TV-PG', 'TV-14', 'PG', 'R', 'TV-G', 'G', 'TV-Y',\n",
       "       'TV-Y7-FV', 'TV-Y7', 'PG-13', nan, 'NC-17', 'UR'], dtype=object)"
      ]
     },
     "execution_count": 50,
     "metadata": {},
     "output_type": "execute_result"
    }
   ],
   "source": [
    "nflx['rating'].unique()"
   ]
  },
  {
   "cell_type": "code",
   "execution_count": 51,
   "id": "b4838ef6",
   "metadata": {},
   "outputs": [],
   "source": [
    "rating_dict = {\n",
    "    'kids' : ['G','TV-G','TV-Y'], # 전체관람가\n",
    "    'elem' : ['PG','TV-Y7','TV-Y7-FV','TV-PG'], # 7세 이상\n",
    "    'teen' : ['PG-13'], # 13세 이상\n",
    "    'youth' : ['TV-14'], # 16세 이상\n",
    "    'adult' : ['NC-17','R','TV-MA','NR','UR'] # 18세 이상, 청불 포함\n",
    "}"
   ]
  },
  {
   "cell_type": "code",
   "execution_count": 52,
   "id": "720dd0e3",
   "metadata": {},
   "outputs": [
    {
     "data": {
      "text/html": [
       "<div>\n",
       "<style scoped>\n",
       "    .dataframe tbody tr th:only-of-type {\n",
       "        vertical-align: middle;\n",
       "    }\n",
       "\n",
       "    .dataframe tbody tr th {\n",
       "        vertical-align: top;\n",
       "    }\n",
       "\n",
       "    .dataframe thead th {\n",
       "        text-align: right;\n",
       "    }\n",
       "</style>\n",
       "<table border=\"1\" class=\"dataframe\">\n",
       "  <thead>\n",
       "    <tr style=\"text-align: right;\">\n",
       "      <th></th>\n",
       "      <th>kids</th>\n",
       "      <th>elem</th>\n",
       "      <th>teen</th>\n",
       "      <th>youth</th>\n",
       "      <th>adult</th>\n",
       "    </tr>\n",
       "  </thead>\n",
       "  <tbody>\n",
       "    <tr>\n",
       "      <th>0</th>\n",
       "      <td>316</td>\n",
       "      <td>253</td>\n",
       "      <td>16</td>\n",
       "      <td>271</td>\n",
       "      <td>518</td>\n",
       "    </tr>\n",
       "    <tr>\n",
       "      <th>1</th>\n",
       "      <td>307</td>\n",
       "      <td>248</td>\n",
       "      <td>30</td>\n",
       "      <td>298</td>\n",
       "      <td>505</td>\n",
       "    </tr>\n",
       "    <tr>\n",
       "      <th>2</th>\n",
       "      <td>285</td>\n",
       "      <td>215</td>\n",
       "      <td>36</td>\n",
       "      <td>316</td>\n",
       "      <td>510</td>\n",
       "    </tr>\n",
       "    <tr>\n",
       "      <th>3</th>\n",
       "      <td>255</td>\n",
       "      <td>219</td>\n",
       "      <td>51</td>\n",
       "      <td>278</td>\n",
       "      <td>578</td>\n",
       "    </tr>\n",
       "    <tr>\n",
       "      <th>4</th>\n",
       "      <td>358</td>\n",
       "      <td>282</td>\n",
       "      <td>93</td>\n",
       "      <td>237</td>\n",
       "      <td>516</td>\n",
       "    </tr>\n",
       "    <tr>\n",
       "      <th>5</th>\n",
       "      <td>316</td>\n",
       "      <td>233</td>\n",
       "      <td>79</td>\n",
       "      <td>282</td>\n",
       "      <td>513</td>\n",
       "    </tr>\n",
       "    <tr>\n",
       "      <th>6</th>\n",
       "      <td>388</td>\n",
       "      <td>263</td>\n",
       "      <td>81</td>\n",
       "      <td>246</td>\n",
       "      <td>477</td>\n",
       "    </tr>\n",
       "  </tbody>\n",
       "</table>\n",
       "</div>"
      ],
      "text/plain": [
       "   kids  elem  teen  youth  adult\n",
       "0   316   253    16    271    518\n",
       "1   307   248    30    298    505\n",
       "2   285   215    36    316    510\n",
       "3   255   219    51    278    578\n",
       "4   358   282    93    237    516\n",
       "5   316   233    79    282    513\n",
       "6   388   263    81    246    477"
      ]
     },
     "execution_count": 52,
     "metadata": {},
     "output_type": "execute_result"
    }
   ],
   "source": [
    "ratings = rating_dict.keys()\n",
    "rating_df = pd.DataFrame(columns=ratings)\n",
    "rating_list = []\n",
    "\n",
    "for i in range(1,8): # seps : 1~7\n",
    "    rating_list = []\n",
    "    for key in rating_dict.keys(): # rating : kids / elem / teen / youth / adult\n",
    "        rating_list.append(nflx.loc[nflx['seps']==str(i),'rating'].str.contains('|'.join(rating_dict[key])).sum())\n",
    "    rating_df = rating_df.append(pd.Series(rating_list,index=rating_df.columns), ignore_index=True)\n",
    "rating_df = rating_df.astype('int64')\n",
    "rating_df"
   ]
  },
  {
   "cell_type": "code",
   "execution_count": 80,
   "id": "68e480ae",
   "metadata": {},
   "outputs": [
    {
     "data": {
      "image/png": "[encoded data removed]",
      "text/plain": [
       "<Figure size 864x288 with 1 Axes>"
      ]
     },
     "metadata": {},
     "output_type": "display_data"
    }
   ],
   "source": [
    "plt.figure(figsize=(12,4))\n",
    "for col in list(rating_df.columns):\n",
    "    sns.lineplot(data=rating_df, x=rating_df.index, y=rating_df[col], label=col, linewidth=0.85)\n",
    "\n",
    "plt.legend(bbox_to_anchor=(1.01,1))\n",
    "\n",
    "plt.ylabel('The Count of Ratings')\n",
    "plt.xlabel('period(past.. 1--->7 ..now)')\n",
    "\n",
    "plt.show()    \n"
   ]
  },
  {
   "cell_type": "markdown",
   "id": "bd43a95d",
   "metadata": {},
   "source": [
    "**결론 :**<br>\n",
    "**adult 등급의 콘텐츠 수급은 줄어드는 반면 kids와 teen 등급 수급은 늘고 있습니다. 연구가설을 기각하고 귀무가설을 채택합니다.  \n",
    "- 가장 활발한 콘텐츠 이용자가 2~30대라는 점에서 전략적으로 해당 연령층에 집중할 것이라는 예상을 했으나 예상과 다른 결과를 확인했습니다.  \n",
    "- 넷플릭스는 2-30대 뿐만아니라 더 젋은 세대까지 확보하고자 합니다.  \n",
    "- 이는 IT 기술과 영상 콘텐츠가 익숙한 Z세대를 고려했을때 충분히 납득가능한 결과입니다.\n",
    "- (국내에서도 초등학생들이 네이버보다 유튜브로 먼저 검색한다네요.)"
   ]
  },
  {
   "cell_type": "markdown",
   "id": "ed4e5b64",
   "metadata": {},
   "source": [
    "<br>\n",
    "\n",
    "### 3-5. 콘텐츠 평균 재생 시간 분석"
   ]
  },
  {
   "cell_type": "markdown",
   "id": "0f9ec0cd",
   "metadata": {},
   "source": [
    "세계적으로 틱톡과 같은 숏폼 콘텐츠가 유행입니다.  \n",
    "또한, 왕좌의게임과 같은 드넓은 세계관의 장기 시리즈가 과거 인기였다면 최근에는 킹덤, 스위트홈처럼 짧고 자극적인 시리즈가 주목을 받고 있습니다.  \n",
    "이에 따라 최근 넷플릭스에서 콘텐츠를 수급할 때 재생 시간을 고려하는 경향이 있는지 여부를 확인하고자 합니다.\n",
    "\n",
    "- H0 : 평균 콘텐츠 재생 시간은 전과 동일하거나 더 길어지고 있다.\n",
    "- H1 : 최근 재생 시간이 짧은 콘텐츠 비중이 늘고 있다."
   ]
  },
  {
   "cell_type": "code",
   "execution_count": 54,
   "id": "0603fc11",
   "metadata": {},
   "outputs": [
    {
     "data": {
      "text/html": [
       "<div>\n",
       "<style scoped>\n",
       "    .dataframe tbody tr th:only-of-type {\n",
       "        vertical-align: middle;\n",
       "    }\n",
       "\n",
       "    .dataframe tbody tr th {\n",
       "        vertical-align: top;\n",
       "    }\n",
       "\n",
       "    .dataframe thead th {\n",
       "        text-align: right;\n",
       "    }\n",
       "</style>\n",
       "<table border=\"1\" class=\"dataframe\">\n",
       "  <thead>\n",
       "    <tr style=\"text-align: right;\">\n",
       "      <th></th>\n",
       "      <th></th>\n",
       "      <th>duration</th>\n",
       "    </tr>\n",
       "    <tr>\n",
       "      <th>seps</th>\n",
       "      <th>type</th>\n",
       "      <th></th>\n",
       "    </tr>\n",
       "  </thead>\n",
       "  <tbody>\n",
       "    <tr>\n",
       "      <th rowspan=\"2\" valign=\"top\">1</th>\n",
       "      <th>Movie</th>\n",
       "      <td>88.951613</td>\n",
       "    </tr>\n",
       "    <tr>\n",
       "      <th>TV Show</th>\n",
       "      <td>1.662125</td>\n",
       "    </tr>\n",
       "    <tr>\n",
       "      <th rowspan=\"2\" valign=\"top\">2</th>\n",
       "      <th>Movie</th>\n",
       "      <td>99.214464</td>\n",
       "    </tr>\n",
       "    <tr>\n",
       "      <th>TV Show</th>\n",
       "      <td>1.915858</td>\n",
       "    </tr>\n",
       "    <tr>\n",
       "      <th rowspan=\"2\" valign=\"top\">3</th>\n",
       "      <th>Movie</th>\n",
       "      <td>102.677925</td>\n",
       "    </tr>\n",
       "    <tr>\n",
       "      <th>TV Show</th>\n",
       "      <td>1.627660</td>\n",
       "    </tr>\n",
       "    <tr>\n",
       "      <th rowspan=\"2\" valign=\"top\">4</th>\n",
       "      <th>Movie</th>\n",
       "      <td>98.812580</td>\n",
       "    </tr>\n",
       "    <tr>\n",
       "      <th>TV Show</th>\n",
       "      <td>1.617470</td>\n",
       "    </tr>\n",
       "    <tr>\n",
       "      <th rowspan=\"2\" valign=\"top\">5</th>\n",
       "      <th>Movie</th>\n",
       "      <td>98.291498</td>\n",
       "    </tr>\n",
       "    <tr>\n",
       "      <th>TV Show</th>\n",
       "      <td>1.624324</td>\n",
       "    </tr>\n",
       "    <tr>\n",
       "      <th rowspan=\"2\" valign=\"top\">6</th>\n",
       "      <th>Movie</th>\n",
       "      <td>106.675393</td>\n",
       "    </tr>\n",
       "    <tr>\n",
       "      <th>TV Show</th>\n",
       "      <td>1.878963</td>\n",
       "    </tr>\n",
       "    <tr>\n",
       "      <th rowspan=\"2\" valign=\"top\">7</th>\n",
       "      <th>Movie</th>\n",
       "      <td>100.000000</td>\n",
       "    </tr>\n",
       "    <tr>\n",
       "      <th>TV Show</th>\n",
       "      <td>1.972010</td>\n",
       "    </tr>\n",
       "  </tbody>\n",
       "</table>\n",
       "</div>"
      ],
      "text/plain": [
       "                duration\n",
       "seps type               \n",
       "1    Movie     88.951613\n",
       "     TV Show    1.662125\n",
       "2    Movie     99.214464\n",
       "     TV Show    1.915858\n",
       "3    Movie    102.677925\n",
       "     TV Show    1.627660\n",
       "4    Movie     98.812580\n",
       "     TV Show    1.617470\n",
       "5    Movie     98.291498\n",
       "     TV Show    1.624324\n",
       "6    Movie    106.675393\n",
       "     TV Show    1.878963\n",
       "7    Movie    100.000000\n",
       "     TV Show    1.972010"
      ]
     },
     "execution_count": 54,
     "metadata": {},
     "output_type": "execute_result"
    }
   ],
   "source": [
    "duration_df = pd.DataFrame(nflx.groupby(['seps','type'])['duration'].mean())\n",
    "duration_df"
   ]
  },
  {
   "cell_type": "code",
   "execution_count": 55,
   "id": "46b10584",
   "metadata": {},
   "outputs": [
    {
     "data": {
      "text/html": [
       "<div>\n",
       "<style scoped>\n",
       "    .dataframe tbody tr th:only-of-type {\n",
       "        vertical-align: middle;\n",
       "    }\n",
       "\n",
       "    .dataframe tbody tr th {\n",
       "        vertical-align: top;\n",
       "    }\n",
       "\n",
       "    .dataframe thead th {\n",
       "        text-align: right;\n",
       "    }\n",
       "</style>\n",
       "<table border=\"1\" class=\"dataframe\">\n",
       "  <thead>\n",
       "    <tr style=\"text-align: right;\">\n",
       "      <th></th>\n",
       "      <th>movie</th>\n",
       "      <th>tv</th>\n",
       "    </tr>\n",
       "    <tr>\n",
       "      <th>seps</th>\n",
       "      <th></th>\n",
       "      <th></th>\n",
       "    </tr>\n",
       "  </thead>\n",
       "  <tbody>\n",
       "    <tr>\n",
       "      <th>1</th>\n",
       "      <td>88.951613</td>\n",
       "      <td>1.662125</td>\n",
       "    </tr>\n",
       "    <tr>\n",
       "      <th>2</th>\n",
       "      <td>99.214464</td>\n",
       "      <td>1.915858</td>\n",
       "    </tr>\n",
       "    <tr>\n",
       "      <th>3</th>\n",
       "      <td>102.677925</td>\n",
       "      <td>1.627660</td>\n",
       "    </tr>\n",
       "    <tr>\n",
       "      <th>4</th>\n",
       "      <td>98.812580</td>\n",
       "      <td>1.617470</td>\n",
       "    </tr>\n",
       "    <tr>\n",
       "      <th>5</th>\n",
       "      <td>98.291498</td>\n",
       "      <td>1.624324</td>\n",
       "    </tr>\n",
       "    <tr>\n",
       "      <th>6</th>\n",
       "      <td>106.675393</td>\n",
       "      <td>1.878963</td>\n",
       "    </tr>\n",
       "    <tr>\n",
       "      <th>7</th>\n",
       "      <td>100.000000</td>\n",
       "      <td>1.972010</td>\n",
       "    </tr>\n",
       "  </tbody>\n",
       "</table>\n",
       "</div>"
      ],
      "text/plain": [
       "           movie        tv\n",
       "seps                      \n",
       "1      88.951613  1.662125\n",
       "2      99.214464  1.915858\n",
       "3     102.677925  1.627660\n",
       "4      98.812580  1.617470\n",
       "5      98.291498  1.624324\n",
       "6     106.675393  1.878963\n",
       "7     100.000000  1.972010"
      ]
     },
     "execution_count": 55,
     "metadata": {},
     "output_type": "execute_result"
    }
   ],
   "source": [
    "duration_df = pd.pivot_table(duration_df, index='seps', columns='type')\n",
    "duration_df.columns = ['movie','tv']\n",
    "duration_df"
   ]
  },
  {
   "cell_type": "code",
   "execution_count": 71,
   "id": "19db178d",
   "metadata": {},
   "outputs": [
    {
     "data": {
      "image/png": "[encoded data removed]",
      "text/plain": [
       "<Figure size 864x432 with 2 Axes>"
      ]
     },
     "metadata": {},
     "output_type": "display_data"
    }
   ],
   "source": [
    "fig,axes = plt.subplots(2,1, figsize=(12,6))\n",
    "\n",
    "sns.lineplot(data=duration_df, x=duration_df.index, y=duration_df['movie'], ax=axes[0], linewidth=0.85)\n",
    "sns.lineplot(data=duration_df, x=duration_df.index, y=duration_df['tv'], ax=axes[1], linewidth=0.85)\n",
    "\n",
    "axes[0].set_title('Movie')\n",
    "axes[1].set_title('TV Show')\n",
    "\n",
    "axes[0].set_ylabel('The Mean of Durations')\n",
    "axes[1].set_ylabel('The Mean of Durations')\n",
    "\n",
    "axes[0].set_xlabel('Period')\n",
    "axes[1].set_xlabel('Period')\n",
    "\n",
    "plt.tight_layout()\n",
    "plt.show()"
   ]
  },
  {
   "cell_type": "code",
   "execution_count": 57,
   "id": "cf5925da",
   "metadata": {},
   "outputs": [
    {
     "data": {
      "text/plain": [
       "1     1608\n",
       "2      378\n",
       "3      183\n",
       "4       86\n",
       "5       57\n",
       "6       30\n",
       "7       19\n",
       "8       18\n",
       "9        8\n",
       "10       5\n",
       "12       2\n",
       "11       2\n",
       "15       2\n",
       "13       1\n",
       "16       1\n",
       "Name: duration, dtype: int64"
      ]
     },
     "execution_count": 57,
     "metadata": {},
     "output_type": "execute_result"
    }
   ],
   "source": [
    "# 급격히 늘고 있는 TV Show 방영 차수 빈도 확인\n",
    "nflx.loc[nflx['type']=='TV Show','duration'].value_counts()"
   ]
  },
  {
   "cell_type": "markdown",
   "id": "ad13cf42",
   "metadata": {},
   "source": [
    "**결론 :**<br>\n",
    "오히려 최근 평균 콘텐츠 재생 시간이 증가하고 있다. 연구가설을 기각하고 귀무가설을 채택합니다.  \n",
    "특히 TV Show의 경우 시리즈물에 대한 수요가 더 커지는 것을 확인할 수 있습니다. 다만, 수치상 큰 차이가 없기 때문에 넷플릭스에서 전략적으로 의도했다기보다는 최근 제작되는 콘텐츠들이 더 풍성하고 퀄리티있게 제작되면서 자연스럽게 시리즈물이 많아지고, 영화 시간이 길어진 것으로 보입니다."
   ]
  },
  {
   "cell_type": "markdown",
   "id": "c3e057fe",
   "metadata": {},
   "source": [
    "<br>\n",
    "\n",
    "### 3-6. 넷플릭스에서 주로 수급하는 콘텐츠 장르 분석"
   ]
  },
  {
   "cell_type": "markdown",
   "id": "05f9c0d8",
   "metadata": {},
   "source": [
    "콘텐츠, OTT시장의 고도화된 개인화 추천서비스로 대중적인 취향보다 개별적 취향을 더 심도깊게 고민하고 기술적으로 분석하고 있습니다.\n",
    "넷플릭스는 추천서비스를 비즈니스에 적극적으로 활용하면서 가파른 성장을 이뤄낸 경험이 있다.\n",
    "따라서 넷플릭스는 고객을 더 세분화하고 이에 따라 콘텐츠 장르를 더 다양하게 분류하고 수급하는 전략을 취할 수 있습니다. 이에 따라 다음과 같은 가설을 설정합니다.\n",
    "\n",
    "- H0 : 최근 유통하는 콘텐츠 장르는 그 수가 과거와 같거나 적다.\n",
    "- H1 : 최근 유통하는 콘텐츠 장르가 더 다양해지고 있다."
   ]
  },
  {
   "cell_type": "code",
   "execution_count": 58,
   "id": "c330a351",
   "metadata": {},
   "outputs": [
    {
     "data": {
      "text/plain": [
       "Documentaries                                                   334\n",
       "Stand-Up Comedy                                                 321\n",
       "Dramas, International Movies                                    320\n",
       "Comedies, Dramas, International Movies                          243\n",
       "Dramas, Independent Movies, International Movies                215\n",
       "                                                               ... \n",
       "Action & Adventure, Sports Movies                                 1\n",
       "Anime Series, Crime TV Shows, TV Thrillers                        1\n",
       "Comedies, Dramas, Sports Movies                                   1\n",
       "International TV Shows, Spanish-Language TV Shows, TV Horror      1\n",
       "TV Action & Adventure, TV Comedies, TV Sci-Fi & Fantasy           1\n",
       "Name: listed_in, Length: 491, dtype: int64"
      ]
     },
     "execution_count": 58,
     "metadata": {},
     "output_type": "execute_result"
    }
   ],
   "source": [
    "# 전체 기간 중 장르별 콘텐츠 수\n",
    "nflx['listed_in'].value_counts()"
   ]
  },
  {
   "cell_type": "markdown",
   "id": "87cca0f1",
   "metadata": {},
   "source": [
    "넷플릭스에는 다큐멘터리가 가장 많고, 스탠드업코디미가 그 다음 순이네요."
   ]
  },
  {
   "cell_type": "code",
   "execution_count": 69,
   "id": "f87130fe",
   "metadata": {},
   "outputs": [
    {
     "data": {
      "image/png": "[encoded data removed]",
      "text/plain": [
       "<Figure size 864x288 with 1 Axes>"
      ]
     },
     "metadata": {},
     "output_type": "display_data"
    }
   ],
   "source": [
    "plt.figure(figsize=(12,4))\n",
    "nflx.groupby('seps')['listed_in'].nunique().plot(linewidth=0.85)\n",
    "\n",
    "plt.xlabel('Period')\n",
    "plt.ylabel('Count of Contents')\n",
    "plt.show()"
   ]
  },
  {
   "cell_type": "markdown",
   "id": "95a352bf",
   "metadata": {},
   "source": [
    "**최근으로 올수록 더 다양한 장르를 보유하는 추세를 보입니다. 콘텐츠 장르가 더 다양하지고 있으므로(1,2,3,4 Period < 5,6,7 Period) 귀무가설을 기각합니다.**  \n",
    "해당 데이터에서는 추가로 더 많은 정보를 얻어낼 수 있을 것 같습니다. 과거에는 어떤 장르를 주로 수급했고, 최근 어떤 장르를 주로 수급하는지 알아보도록 합니다."
   ]
  },
  {
   "cell_type": "code",
   "execution_count": 67,
   "id": "616d303a",
   "metadata": {},
   "outputs": [
    {
     "data": {
      "image/png": "[encoded data removed]",
      "text/plain": [
       "<Figure size 864x288 with 1 Axes>"
      ]
     },
     "metadata": {},
     "output_type": "display_data"
    }
   ],
   "source": [
    "docum_count = nflx.loc[nflx['listed_in']=='Documentaries'].groupby('seps').count()['listed_in']\n",
    "\n",
    "plt.figure(figsize=(12,4))\n",
    "docum_count.plot(linewidth=0.85)\n",
    "plt.ylabel('the count of documentary genre')\n",
    "plt.xlabel('Period')\n",
    "\n",
    "plt.show()"
   ]
  },
  {
   "cell_type": "markdown",
   "id": "635c7b36",
   "metadata": {},
   "source": [
    "전체 콘텐츠 수에서 다큐멘터리 장르가 차지하는 비중이 가장 높았는데, 이는 넷플릭스 초기에 많이 수급했던 것에 원인이 있었습니다. \n",
    "최근 넷플릭스는 다큐멘터리 수급에 집중하지 않고 있습니다."
   ]
  },
  {
   "cell_type": "code",
   "execution_count": 61,
   "id": "c4a6e6c2",
   "metadata": {},
   "outputs": [
    {
     "data": {
      "text/plain": [
       "Dramas, International Movies                            45\n",
       "Kids' TV                                                41\n",
       "Children & Family Movies, Comedies                      38\n",
       "Children & Family Movies                                35\n",
       "Comedies, Dramas, International Movies                  34\n",
       "                                                        ..\n",
       "Cult Movies, Dramas, International Movies                1\n",
       "Crime TV Shows, International TV Shows, TV Mysteries     1\n",
       "Crime TV Shows, International TV Shows, TV Comedies      1\n",
       "Classic Movies, Thrillers                                1\n",
       "TV Dramas, TV Sci-Fi & Fantasy                           1\n",
       "Name: listed_in, Length: 229, dtype: int64"
      ]
     },
     "execution_count": 61,
     "metadata": {},
     "output_type": "execute_result"
    }
   ],
   "source": [
    "# 최근 집중적으로 수급하는 장르 확인\n",
    "nflx.loc[nflx['seps']=='7','listed_in'].value_counts()"
   ]
  },
  {
   "cell_type": "code",
   "execution_count": 65,
   "id": "8d772dfc",
   "metadata": {},
   "outputs": [
    {
     "data": {
      "image/png": "[encoded data removed]",
      "text/plain": [
       "<Figure size 864x360 with 1 Axes>"
      ]
     },
     "metadata": {},
     "output_type": "display_data"
    }
   ],
   "source": [
    "top5_genre = nflx.loc[nflx['seps']=='7','listed_in'].value_counts().index[:5]\n",
    "\n",
    "plt.figure(figsize=(12,5))\n",
    "for genre in list(top5_genre):\n",
    "    genre_count = nflx.loc[nflx['listed_in']==genre].groupby('seps').count()['listed_in']\n",
    "    sns.lineplot(x=genre_count.index, y=genre_count.values, label=genre, linewidth=0.85)\n",
    "    \n",
    "plt.xlabel('Period')\n",
    "plt.ylabel('The Count of Each Genre')\n",
    "plt.axvline(x=3, linestyle='--', color='r', linewidth=0.85)\n",
    "plt.show()"
   ]
  },
  {
   "cell_type": "markdown",
   "id": "8360e36f",
   "metadata": {},
   "source": [
    "\n",
    "키즈 콘텐츠, 가족 콘텐츠의 비중이 4 `Period` 부터 꾸준히 상승하고 있네요.\n",
    "\n",
    "**결론 :**<br>\n",
    "과거 대비 다양한 장르를 확보하면서 다큐멘터리와 같은 콘텐츠 점유율이 높았던 장르의 비중이 낮아지고,\n",
    "더 다양한 고객층의 니즈를 반영하고자 하는 것을 확인할 수 있습니다."
   ]
  },
  {
   "cell_type": "markdown",
   "id": "6401280c",
   "metadata": {},
   "source": [
    "<br>\n",
    "<br>\n",
    "\n",
    "---\n",
    "## 4. 종합 결론"
   ]
  },
  {
   "cell_type": "markdown",
   "id": "8f1dcca0",
   "metadata": {},
   "source": [
    "아래 6가지 가설 검정 과정을 통해 **넷플릭스가 시장 점유를 위해 취하고 있는 콘텐츠 수급 전략**을 분석해보았습니다.\n",
    "\n",
    "1. H1 : 최근 특정 콘텐츠 유형(TV show or Movie)이 늘고 있다. (주요 컬럼 : type)\n",
    "2. H1 : 최근 특정 국가의 콘텐츠 수급 비중이 늘고 있다. (주요 컬럼 : country)\n",
    "3. H1 : 최근 옛날(오래된) 콘텐츠 수급 비중이 늘고 있다. (주요 컬럼 : release_year)\n",
    "4. H1 : 최근 어린이 콘텐츠 비중이 줄고 있다. (주요 컬럼 : rating)\n",
    "5. H1 : 최근 길이(시리즈, 시간)가 짧은 콘텐츠 비중이 늘고 있다. (주요 컬럼 : duration)\n",
    "6. H1 : 최근 유통하는 콘텐츠 장르가 더 다양해지고 있다. (주요 컬럼 : listed_in, description)\n",
    "\n",
    "종합하면,\n",
    "\n",
    "- 넷플릭스는 영화보다 **TV 시리즈 수급**을 늘리고 있고, **자국(미국) 콘텐츠 확보**에 힘을 싣고 있습니다.\n",
    "- 또한 소비자 수요를 반영해 최신 콘텐츠뿐만 아니라 **시간이 흐른 콘텐츠**들을 함께 확보하고 있고,\n",
    "- 2~30대 주요 고객층 이외 **어린이를 포함해 더 다양한 고객을 타겟**으로 하고 있었습니다.\n",
    "- 숏폼 콘텐츠가 유행하고 있지만 영화 산업이나 TV 드라마 산업에서 자체 콘텐츠의 길이를 줄이려는 시도를 하는 경향은 없으며,\n",
    "- 넷플릭스 역시 영상물의 **재생 시간에 대해서는 수급 기준으로 고려하지 않는** 것으로 보입니다.\n",
    "- 마지막으로 다양한 고객들의 수요를 맞추기 위해 **다양한 콘텐츠 장르**를 선보이면서,\n",
    "- 특히 **어린이 및 가족 콘텐츠** 보유량을 늘려 다양한 고객층의 니즈를 반영하는 모습을 보입니다."
   ]
  }
 ],
 "metadata": {
  "interpreter": {
   "hash": "946e70462398da2b7d5146f365841ff0dae0fe6e2f7c4e5ed0a8dd78c4677798"
  },
  "kernelspec": {
   "display_name": "datascience",
   "language": "python",
   "name": "python3"
  },
  "language_info": {
   "codemirror_mode": {
    "name": "ipython",
    "version": 3
   },
   "file_extension": ".py",
   "mimetype": "text/x-python",
   "name": "python",
   "nbconvert_exporter": "python",
   "pygments_lexer": "ipython3",
   "version": "3.7.7"
  },
  "toc": {
   "base_numbering": 1,
   "nav_menu": {},
   "number_sections": true,
   "sideBar": true,
   "skip_h1_title": false,
   "title_cell": "Table of Contents",
   "title_sidebar": "Contents",
   "toc_cell": true,
   "toc_position": {},
   "toc_section_display": true,
   "toc_window_display": true
  },
  "toc-autonumbering": false,
  "toc-showcode": false,
  "toc-showmarkdowntxt": false,
  "toc-showtags": false,
  "widgets": {
   "application/vnd.jupyter.widget-state+json": {
    "state": {},
    "version_major": 2,
    "version_minor": 0
   }
  }
 },
 "nbformat": 4,
 "nbformat_minor": 5
}
