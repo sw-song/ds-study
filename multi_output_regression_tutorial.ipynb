{
 "cells": [
  {
   "cell_type": "markdown",
   "metadata": {},
   "source": [
    "# Tutorial : Multi-Output Regression\n",
    "\n",
    "reference : [Deep Learning Models for Multi-Output Regression](https://machinelearningmastery.com/deep-learning-models-for-multi-output-regression/)"
   ]
  },
  {
   "cell_type": "markdown",
   "metadata": {},
   "source": [
    "\n",
    "```\n",
    "Step 1. Get the dataset\n",
    "Step 2. Get the model\n",
    "Step 3. Evaluate a model using repeated k-fold cross-validation\n",
    "Step 4. Load dataset\n",
    "Step 5. Evaluate model\n",
    "Step 6. Practical Application\n",
    "```"
   ]
  },
  {
   "cell_type": "markdown",
   "metadata": {},
   "source": [
    "## Step 1. Get the dataset"
   ]
  },
  {
   "cell_type": "code",
   "execution_count": 32,
   "metadata": {},
   "outputs": [],
   "source": [
    "# example of a multi-output regression problem\n",
    "from sklearn.datasets import make_regression\n",
    "def get_dataset(samples, features, targets):    \n",
    "    # create dataset\n",
    "    X, y = make_regression(n_samples=samples, n_features=features, n_targets=targets, n_informative=5, random_state=22)\n",
    "    return X, y"
   ]
  },
  {
   "cell_type": "markdown",
   "metadata": {},
   "source": [
    "## Step 2. Get the model"
   ]
  },
  {
   "cell_type": "code",
   "execution_count": 33,
   "metadata": {},
   "outputs": [],
   "source": [
    "from tensorflow.keras.models import Sequential\n",
    "from tensorflow.keras.layers import Dense\n",
    "def get_model(n_inputs, n_outputs):\n",
    "    # define the model\n",
    "    model = Sequential([\n",
    "        Dense(20, input_dim=n_inputs, kernel_initializer='he_uniform', activation='relu'),\n",
    "        Dense(n_outputs),\n",
    "    ])\n",
    "    model.compile(loss='mae', optimizer='adam')\n",
    "    return model\n"
   ]
  },
  {
   "cell_type": "markdown",
   "metadata": {},
   "source": [
    "## Step 3. Evaluate a model using repeated k-fold cross-validation"
   ]
  },
  {
   "cell_type": "code",
   "execution_count": 34,
   "metadata": {},
   "outputs": [],
   "source": [
    "from sklearn.model_selection import RepeatedKFold\n",
    "# evaluate a model using repeated k-fold cross-validation\n",
    "def evaluate_model(X, y, splits, repeats):\n",
    "    results = list()\n",
    "    n_inputs, n_outputs = X.shape[1], y.shape[1] # shape[0] : rows, shape[1] : columns\n",
    "    # define evaluation precedure\n",
    "    cv = RepeatedKFold(n_splits=splits, n_repeats=repeats, random_state=1)\n",
    "    i = 0\n",
    "    # enumerate folds\n",
    "    for train_ix, test_ix in cv.split(X):\n",
    "        # prepare data\n",
    "        X_train, X_test = X[train_ix], X[test_ix]\n",
    "        y_train, y_test = y[train_ix], y[test_ix]\n",
    "        # define model\n",
    "        model = get_model(n_inputs, n_outputs)\n",
    "        # fit model\n",
    "        model.fit(X_train, y_train, verbose=0, epochs=100)\n",
    "        # evaluate model on test set\n",
    "        mae = model.evaluate(X_test, y_test, verbose=0)\n",
    "        # store result\n",
    "        i += 1\n",
    "        print('> {:.3f}  - result stored ({}/{})'.format(mae,i,splits*repeats))\n",
    "        results.append(mae)\n",
    "    return results\n"
   ]
  },
  {
   "cell_type": "markdown",
   "metadata": {},
   "source": [
    "## Step 4. Load dataset"
   ]
  },
  {
   "cell_type": "code",
   "execution_count": 35,
   "metadata": {},
   "outputs": [
    {
     "name": "stdout",
     "output_type": "stream",
     "text": [
      "the shape of dataset :  (1000, 10) (1000, 3)\n"
     ]
    }
   ],
   "source": [
    "X, y = get_dataset(samples=1000, features=10, targets=3)\n",
    "print(\"the shape of dataset : \", X.shape, y.shape)"
   ]
  },
  {
   "cell_type": "markdown",
   "metadata": {},
   "source": [
    "## Step 5. Evaluate model"
   ]
  },
  {
   "cell_type": "code",
   "execution_count": 36,
   "metadata": {},
   "outputs": [
    {
     "name": "stdout",
     "output_type": "stream",
     "text": [
      "> 18.751  - result stored (1/30)\n",
      "> 18.186  - result stored (2/30)\n",
      "> 16.442  - result stored (3/30)\n",
      "> 17.955  - result stored (4/30)\n",
      "> 17.989  - result stored (5/30)\n",
      "> 16.154  - result stored (6/30)\n",
      "> 15.584  - result stored (7/30)\n",
      "> 19.616  - result stored (8/30)\n",
      "> 19.018  - result stored (9/30)\n",
      "> 19.124  - result stored (10/30)\n",
      "> 19.616  - result stored (11/30)\n",
      "> 18.227  - result stored (12/30)\n",
      "> 20.663  - result stored (13/30)\n",
      "> 23.980  - result stored (14/30)\n",
      "> 15.727  - result stored (15/30)\n",
      "> 18.468  - result stored (16/30)\n",
      "> 19.475  - result stored (17/30)\n",
      "> 24.205  - result stored (18/30)\n",
      "> 21.411  - result stored (19/30)\n",
      "> 16.960  - result stored (20/30)\n",
      "> 19.457  - result stored (21/30)\n",
      "> 19.266  - result stored (22/30)\n",
      "> 15.922  - result stored (23/30)\n",
      "> 14.702  - result stored (24/30)\n",
      "> 15.989  - result stored (25/30)\n",
      "> 18.465  - result stored (26/30)\n",
      "> 17.353  - result stored (27/30)\n",
      "> 17.994  - result stored (28/30)\n",
      "> 23.572  - result stored (29/30)\n",
      "> 17.223  - result stored (30/30)\n",
      "[18.75133514404297, 18.185564041137695, 16.441650390625, 17.954971313476562, 17.988908767700195, 16.154388427734375, 15.583952903747559, 19.615938186645508, 19.017955780029297, 19.124170303344727, 19.616086959838867, 18.227018356323242, 20.662673950195312, 23.979639053344727, 15.726690292358398, 18.467626571655273, 19.475296020507812, 24.205434799194336, 21.411212921142578, 16.959775924682617, 19.457494735717773, 19.26587677001953, 15.921613693237305, 14.701510429382324, 15.989317893981934, 18.46459197998047, 17.35308837890625, 17.993942260742188, 23.571928024291992, 17.222816467285156]\n"
     ]
    }
   ],
   "source": [
    "results = evaluate_model(X,y, splits=10, repeats=3)\n",
    "print(results)"
   ]
  },
  {
   "cell_type": "code",
   "execution_count": 39,
   "metadata": {},
   "outputs": [
    {
     "name": "stdout",
     "output_type": "stream",
     "text": [
      "mean of results :  18.5830823580424\n",
      "std of results :  2.3561058329508917\n"
     ]
    }
   ],
   "source": [
    "from numpy import mean, std\n",
    "print('mean of results : ',mean(results))\n",
    "print('std of results : ',std(results))"
   ]
  },
  {
   "cell_type": "markdown",
   "metadata": {},
   "source": [
    "## Step 6. Practical Application"
   ]
  },
  {
   "cell_type": "code",
   "execution_count": 47,
   "metadata": {},
   "outputs": [],
   "source": [
    "from numpy import mean, std, asarray\n",
    "from sklearn.datasets import make_regression\n",
    "from tensorflow.keras.models import Sequential\n",
    "from tensorflow.keras.layers import Dense"
   ]
  },
  {
   "cell_type": "code",
   "execution_count": 49,
   "metadata": {},
   "outputs": [
    {
     "name": "stdout",
     "output_type": "stream",
     "text": [
      "Predicted : [ -6.636642 -20.6922    -4.068348]\n"
     ]
    }
   ],
   "source": [
    "# load dataset\n",
    "X, y = get_dataset(samples=1000, features=10, targets=3)\n",
    "n_inputs, n_outputs = X.shape[1], y.shape[1]\n",
    "\n",
    "# get model\n",
    "model = get_model(n_inputs=n_inputs, n_outputs=n_outputs)\n",
    "\n",
    "# fit the model on all data\n",
    "model.fit(X, y, verbose=0, epochs=100)\n",
    "\n",
    "# make a prediction for new data\n",
    "test_X = asarray([[-0.99859353,2.19284309,-0.42632569,-0.21043258,-1.13655612,-0.55671602,-0.63169045,-0.87625098,-0.99445578,-0.3677487]])\n",
    "y_hat = model.predict(test_X)\n",
    "print('Predicted : {}'.format(y_hat[0]))\n"
   ]
  },
  {
   "cell_type": "code",
   "execution_count": 54,
   "metadata": {},
   "outputs": [
    {
     "data": {
      "text/plain": "array([[ -6.636642, -20.6922  ,  -4.068348]], dtype=float32)"
     },
     "execution_count": 54,
     "metadata": {},
     "output_type": "execute_result"
    }
   ],
   "source": [
    "y_hat"
   ]
  }
 ],
 "metadata": {
  "kernelspec": {
   "display_name": "Python 3.7.7 64-bit ('dataScience': conda)",
   "name": "python377jvsc74a57bd088212c6b79be9b544bafe6735d74fe8c206b1cc2a4f62e98b323686df1ed5be2"
  },
  "language_info": {
   "codemirror_mode": {
    "name": "ipython",
    "version": 3
   },
   "file_extension": ".py",
   "mimetype": "text/x-python",
   "name": "python",
   "nbconvert_exporter": "python",
   "pygments_lexer": "ipython3",
   "version": "3.7.7"
  },
  "orig_nbformat": 2
 },
 "nbformat": 4,
 "nbformat_minor": 2
}