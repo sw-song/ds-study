{
 "cells": [
  {
   "cell_type": "code",
   "execution_count": 1,
   "metadata": {},
   "outputs": [],
   "source": [
    "from datetime import datetime\n",
    "import pandas as pd\n",
    "import warnings\n",
    "warnings.filterwarnings(action='ignore')\n",
    "\n",
    "import matplotlib.pyplot as plt\n",
    "import seaborn as sns\n",
    "plt.style.use('seaborn')"
   ]
  },
  {
   "cell_type": "code",
   "execution_count": 2,
   "metadata": {},
   "outputs": [],
   "source": [
    "import pandas_datareader.data as web"
   ]
  },
  {
   "cell_type": "code",
   "execution_count": 6,
   "metadata": {},
   "outputs": [],
   "source": [
    "import yfinance as yf"
   ]
  },
  {
   "cell_type": "code",
   "execution_count": 5,
   "metadata": {},
   "outputs": [
    {
     "data": {
      "text/html": [
       "<div>\n",
       "<style scoped>\n",
       "    .dataframe tbody tr th:only-of-type {\n",
       "        vertical-align: middle;\n",
       "    }\n",
       "\n",
       "    .dataframe tbody tr th {\n",
       "        vertical-align: top;\n",
       "    }\n",
       "\n",
       "    .dataframe thead th {\n",
       "        text-align: right;\n",
       "    }\n",
       "</style>\n",
       "<table border=\"1\" class=\"dataframe\">\n",
       "  <thead>\n",
       "    <tr style=\"text-align: right;\">\n",
       "      <th></th>\n",
       "      <th>High</th>\n",
       "      <th>Low</th>\n",
       "      <th>Open</th>\n",
       "      <th>Close</th>\n",
       "      <th>Volume</th>\n",
       "      <th>Adj Close</th>\n",
       "    </tr>\n",
       "    <tr>\n",
       "      <th>Date</th>\n",
       "      <th></th>\n",
       "      <th></th>\n",
       "      <th></th>\n",
       "      <th></th>\n",
       "      <th></th>\n",
       "      <th></th>\n",
       "    </tr>\n",
       "  </thead>\n",
       "  <tbody>\n",
       "    <tr>\n",
       "      <th>2009-12-31</th>\n",
       "      <td>30.990000</td>\n",
       "      <td>30.480000</td>\n",
       "      <td>30.980000</td>\n",
       "      <td>30.480000</td>\n",
       "      <td>31929700.0</td>\n",
       "      <td>23.438795</td>\n",
       "    </tr>\n",
       "    <tr>\n",
       "      <th>2010-01-04</th>\n",
       "      <td>31.100000</td>\n",
       "      <td>30.590000</td>\n",
       "      <td>30.620001</td>\n",
       "      <td>30.950001</td>\n",
       "      <td>38409100.0</td>\n",
       "      <td>23.800222</td>\n",
       "    </tr>\n",
       "    <tr>\n",
       "      <th>2010-01-05</th>\n",
       "      <td>31.100000</td>\n",
       "      <td>30.639999</td>\n",
       "      <td>30.850000</td>\n",
       "      <td>30.959999</td>\n",
       "      <td>49749600.0</td>\n",
       "      <td>23.807915</td>\n",
       "    </tr>\n",
       "    <tr>\n",
       "      <th>2010-01-06</th>\n",
       "      <td>31.080000</td>\n",
       "      <td>30.520000</td>\n",
       "      <td>30.879999</td>\n",
       "      <td>30.770000</td>\n",
       "      <td>58182400.0</td>\n",
       "      <td>23.661810</td>\n",
       "    </tr>\n",
       "    <tr>\n",
       "      <th>2010-01-07</th>\n",
       "      <td>30.700001</td>\n",
       "      <td>30.190001</td>\n",
       "      <td>30.629999</td>\n",
       "      <td>30.450001</td>\n",
       "      <td>50559700.0</td>\n",
       "      <td>23.415730</td>\n",
       "    </tr>\n",
       "    <tr>\n",
       "      <th>...</th>\n",
       "      <td>...</td>\n",
       "      <td>...</td>\n",
       "      <td>...</td>\n",
       "      <td>...</td>\n",
       "      <td>...</td>\n",
       "      <td>...</td>\n",
       "    </tr>\n",
       "    <tr>\n",
       "      <th>2022-06-02</th>\n",
       "      <td>274.649994</td>\n",
       "      <td>261.600006</td>\n",
       "      <td>264.450012</td>\n",
       "      <td>274.579987</td>\n",
       "      <td>44008200.0</td>\n",
       "      <td>274.579987</td>\n",
       "    </tr>\n",
       "    <tr>\n",
       "      <th>2022-06-03</th>\n",
       "      <td>273.450012</td>\n",
       "      <td>268.410004</td>\n",
       "      <td>270.309998</td>\n",
       "      <td>270.019989</td>\n",
       "      <td>28048000.0</td>\n",
       "      <td>270.019989</td>\n",
       "    </tr>\n",
       "    <tr>\n",
       "      <th>2022-06-06</th>\n",
       "      <td>274.179993</td>\n",
       "      <td>267.220001</td>\n",
       "      <td>272.059998</td>\n",
       "      <td>268.750000</td>\n",
       "      <td>22400300.0</td>\n",
       "      <td>268.750000</td>\n",
       "    </tr>\n",
       "    <tr>\n",
       "      <th>2022-06-07</th>\n",
       "      <td>273.130005</td>\n",
       "      <td>265.940002</td>\n",
       "      <td>266.640015</td>\n",
       "      <td>272.500000</td>\n",
       "      <td>22860700.0</td>\n",
       "      <td>272.500000</td>\n",
       "    </tr>\n",
       "    <tr>\n",
       "      <th>2022-06-08</th>\n",
       "      <td>273.000000</td>\n",
       "      <td>269.615509</td>\n",
       "      <td>271.709991</td>\n",
       "      <td>270.410004</td>\n",
       "      <td>16397278.0</td>\n",
       "      <td>270.410004</td>\n",
       "    </tr>\n",
       "  </tbody>\n",
       "</table>\n",
       "<p>3131 rows × 6 columns</p>\n",
       "</div>"
      ],
      "text/plain": [
       "                  High         Low        Open       Close      Volume  \\\n",
       "Date                                                                     \n",
       "2009-12-31   30.990000   30.480000   30.980000   30.480000  31929700.0   \n",
       "2010-01-04   31.100000   30.590000   30.620001   30.950001  38409100.0   \n",
       "2010-01-05   31.100000   30.639999   30.850000   30.959999  49749600.0   \n",
       "2010-01-06   31.080000   30.520000   30.879999   30.770000  58182400.0   \n",
       "2010-01-07   30.700001   30.190001   30.629999   30.450001  50559700.0   \n",
       "...                ...         ...         ...         ...         ...   \n",
       "2022-06-02  274.649994  261.600006  264.450012  274.579987  44008200.0   \n",
       "2022-06-03  273.450012  268.410004  270.309998  270.019989  28048000.0   \n",
       "2022-06-06  274.179993  267.220001  272.059998  268.750000  22400300.0   \n",
       "2022-06-07  273.130005  265.940002  266.640015  272.500000  22860700.0   \n",
       "2022-06-08  273.000000  269.615509  271.709991  270.410004  16397278.0   \n",
       "\n",
       "             Adj Close  \n",
       "Date                    \n",
       "2009-12-31   23.438795  \n",
       "2010-01-04   23.800222  \n",
       "2010-01-05   23.807915  \n",
       "2010-01-06   23.661810  \n",
       "2010-01-07   23.415730  \n",
       "...                ...  \n",
       "2022-06-02  274.579987  \n",
       "2022-06-03  270.019989  \n",
       "2022-06-06  268.750000  \n",
       "2022-06-07  272.500000  \n",
       "2022-06-08  270.410004  \n",
       "\n",
       "[3131 rows x 6 columns]"
      ]
     },
     "execution_count": 5,
     "metadata": {},
     "output_type": "execute_result"
    }
   ],
   "source": [
    "web.DataReader('MSFT', 'yahoo', start='2010-01')"
   ]
  },
  {
   "cell_type": "code",
   "execution_count": 9,
   "metadata": {},
   "outputs": [
    {
     "data": {
      "text/html": [
       "<div>\n",
       "<style scoped>\n",
       "    .dataframe tbody tr th:only-of-type {\n",
       "        vertical-align: middle;\n",
       "    }\n",
       "\n",
       "    .dataframe tbody tr th {\n",
       "        vertical-align: top;\n",
       "    }\n",
       "\n",
       "    .dataframe thead th {\n",
       "        text-align: right;\n",
       "    }\n",
       "</style>\n",
       "<table border=\"1\" class=\"dataframe\">\n",
       "  <thead>\n",
       "    <tr style=\"text-align: right;\">\n",
       "      <th></th>\n",
       "      <th>Open</th>\n",
       "      <th>High</th>\n",
       "      <th>Low</th>\n",
       "      <th>Close</th>\n",
       "      <th>Volume</th>\n",
       "      <th>Dividends</th>\n",
       "      <th>Stock Splits</th>\n",
       "    </tr>\n",
       "    <tr>\n",
       "      <th>Date</th>\n",
       "      <th></th>\n",
       "      <th></th>\n",
       "      <th></th>\n",
       "      <th></th>\n",
       "      <th></th>\n",
       "      <th></th>\n",
       "      <th></th>\n",
       "    </tr>\n",
       "  </thead>\n",
       "  <tbody>\n",
       "    <tr>\n",
       "      <th>2009-12-31</th>\n",
       "      <td>23.823298</td>\n",
       "      <td>23.830988</td>\n",
       "      <td>23.438803</td>\n",
       "      <td>23.438803</td>\n",
       "      <td>31929700</td>\n",
       "      <td>0.0</td>\n",
       "      <td>0</td>\n",
       "    </tr>\n",
       "    <tr>\n",
       "      <th>2010-01-04</th>\n",
       "      <td>23.546456</td>\n",
       "      <td>23.915571</td>\n",
       "      <td>23.523386</td>\n",
       "      <td>23.800222</td>\n",
       "      <td>38409100</td>\n",
       "      <td>0.0</td>\n",
       "      <td>0</td>\n",
       "    </tr>\n",
       "    <tr>\n",
       "      <th>2010-01-05</th>\n",
       "      <td>23.723321</td>\n",
       "      <td>23.915569</td>\n",
       "      <td>23.561833</td>\n",
       "      <td>23.807909</td>\n",
       "      <td>49749600</td>\n",
       "      <td>0.0</td>\n",
       "      <td>0</td>\n",
       "    </tr>\n",
       "    <tr>\n",
       "      <th>2010-01-06</th>\n",
       "      <td>23.746392</td>\n",
       "      <td>23.900191</td>\n",
       "      <td>23.469557</td>\n",
       "      <td>23.661804</td>\n",
       "      <td>58182400</td>\n",
       "      <td>0.0</td>\n",
       "      <td>0</td>\n",
       "    </tr>\n",
       "    <tr>\n",
       "      <th>2010-01-07</th>\n",
       "      <td>23.554146</td>\n",
       "      <td>23.607977</td>\n",
       "      <td>23.215792</td>\n",
       "      <td>23.415730</td>\n",
       "      <td>50559700</td>\n",
       "      <td>0.0</td>\n",
       "      <td>0</td>\n",
       "    </tr>\n",
       "    <tr>\n",
       "      <th>...</th>\n",
       "      <td>...</td>\n",
       "      <td>...</td>\n",
       "      <td>...</td>\n",
       "      <td>...</td>\n",
       "      <td>...</td>\n",
       "      <td>...</td>\n",
       "      <td>...</td>\n",
       "    </tr>\n",
       "    <tr>\n",
       "      <th>2022-06-02</th>\n",
       "      <td>264.450012</td>\n",
       "      <td>274.649994</td>\n",
       "      <td>261.600006</td>\n",
       "      <td>274.579987</td>\n",
       "      <td>44008200</td>\n",
       "      <td>0.0</td>\n",
       "      <td>0</td>\n",
       "    </tr>\n",
       "    <tr>\n",
       "      <th>2022-06-03</th>\n",
       "      <td>270.309998</td>\n",
       "      <td>273.450012</td>\n",
       "      <td>268.410004</td>\n",
       "      <td>270.019989</td>\n",
       "      <td>28048000</td>\n",
       "      <td>0.0</td>\n",
       "      <td>0</td>\n",
       "    </tr>\n",
       "    <tr>\n",
       "      <th>2022-06-06</th>\n",
       "      <td>272.059998</td>\n",
       "      <td>274.179993</td>\n",
       "      <td>267.220001</td>\n",
       "      <td>268.750000</td>\n",
       "      <td>22400300</td>\n",
       "      <td>0.0</td>\n",
       "      <td>0</td>\n",
       "    </tr>\n",
       "    <tr>\n",
       "      <th>2022-06-07</th>\n",
       "      <td>266.640015</td>\n",
       "      <td>273.130005</td>\n",
       "      <td>265.940002</td>\n",
       "      <td>272.500000</td>\n",
       "      <td>22860700</td>\n",
       "      <td>0.0</td>\n",
       "      <td>0</td>\n",
       "    </tr>\n",
       "    <tr>\n",
       "      <th>2022-06-08</th>\n",
       "      <td>271.709991</td>\n",
       "      <td>273.000000</td>\n",
       "      <td>269.615509</td>\n",
       "      <td>270.410004</td>\n",
       "      <td>16397278</td>\n",
       "      <td>0.0</td>\n",
       "      <td>0</td>\n",
       "    </tr>\n",
       "  </tbody>\n",
       "</table>\n",
       "<p>3131 rows × 7 columns</p>\n",
       "</div>"
      ],
      "text/plain": [
       "                  Open        High         Low       Close    Volume  \\\n",
       "Date                                                                   \n",
       "2009-12-31   23.823298   23.830988   23.438803   23.438803  31929700   \n",
       "2010-01-04   23.546456   23.915571   23.523386   23.800222  38409100   \n",
       "2010-01-05   23.723321   23.915569   23.561833   23.807909  49749600   \n",
       "2010-01-06   23.746392   23.900191   23.469557   23.661804  58182400   \n",
       "2010-01-07   23.554146   23.607977   23.215792   23.415730  50559700   \n",
       "...                ...         ...         ...         ...       ...   \n",
       "2022-06-02  264.450012  274.649994  261.600006  274.579987  44008200   \n",
       "2022-06-03  270.309998  273.450012  268.410004  270.019989  28048000   \n",
       "2022-06-06  272.059998  274.179993  267.220001  268.750000  22400300   \n",
       "2022-06-07  266.640015  273.130005  265.940002  272.500000  22860700   \n",
       "2022-06-08  271.709991  273.000000  269.615509  270.410004  16397278   \n",
       "\n",
       "            Dividends  Stock Splits  \n",
       "Date                                 \n",
       "2009-12-31        0.0             0  \n",
       "2010-01-04        0.0             0  \n",
       "2010-01-05        0.0             0  \n",
       "2010-01-06        0.0             0  \n",
       "2010-01-07        0.0             0  \n",
       "...               ...           ...  \n",
       "2022-06-02        0.0             0  \n",
       "2022-06-03        0.0             0  \n",
       "2022-06-06        0.0             0  \n",
       "2022-06-07        0.0             0  \n",
       "2022-06-08        0.0             0  \n",
       "\n",
       "[3131 rows x 7 columns]"
      ]
     },
     "execution_count": 9,
     "metadata": {},
     "output_type": "execute_result"
    }
   ],
   "source": [
    "yf.Ticker('MSFT').history(start='2010-01-01')"
   ]
  },
  {
   "cell_type": "code",
   "execution_count": 16,
   "metadata": {},
   "outputs": [],
   "source": [
    "\n",
    "class YFinance():\n",
    "    def __init__(self, tickers, period):\n",
    "        self.tickers = tickers\n",
    "        self.period = period\n",
    "            \n",
    "    def get_price(self):\n",
    "        df = pd.DataFrame()\n",
    "        for ticker in self.tickers:\n",
    "            df[ticker] = yf.Ticker(ticker).history(start=self.period[0], end=self.period[1])['Close']\n",
    "        return df\n",
    "        \n",
    "    def get_dividence(self):\n",
    "        df = pd.DataFrame()\n",
    "        for ticker in self.tickers:\n",
    "            df[ticker] = yf.Ticker(ticker).history(start=self.period[0], end=self.period[1])['Dividends']\n",
    "        return df\n",
    "        \n",
    "        \n",
    "    "
   ]
  },
  {
   "cell_type": "code",
   "execution_count": 93,
   "metadata": {},
   "outputs": [],
   "source": [
    "us_tickers = ['MSFT', 'NFLX', 'FB', 'AMZN']\n",
    "kr_tickers = ['005930.KS', '000660.KS', '035420.KS', '035720.KS']\n",
    "\n",
    "us_finance = YFinance(us_tickers, period=('2010-01-01', '2022-06-01'))\n",
    "kr_finance = YFinance(kr_tickers, period=('2010-01-01', '2022-06-01'))\n",
    "\n",
    "df_us_price = us_finance.get_price()\n",
    "df_kr_price = kr_finance.get_price()"
   ]
  },
  {
   "cell_type": "code",
   "execution_count": 18,
   "metadata": {},
   "outputs": [
    {
     "data": {
      "text/html": [
       "<div>\n",
       "<style scoped>\n",
       "    .dataframe tbody tr th:only-of-type {\n",
       "        vertical-align: middle;\n",
       "    }\n",
       "\n",
       "    .dataframe tbody tr th {\n",
       "        vertical-align: top;\n",
       "    }\n",
       "\n",
       "    .dataframe thead th {\n",
       "        text-align: right;\n",
       "    }\n",
       "</style>\n",
       "<table border=\"1\" class=\"dataframe\">\n",
       "  <thead>\n",
       "    <tr style=\"text-align: right;\">\n",
       "      <th></th>\n",
       "      <th>MSFT</th>\n",
       "      <th>NFLX</th>\n",
       "      <th>FB</th>\n",
       "      <th>AMZN</th>\n",
       "    </tr>\n",
       "    <tr>\n",
       "      <th>Date</th>\n",
       "      <th></th>\n",
       "      <th></th>\n",
       "      <th></th>\n",
       "      <th></th>\n",
       "    </tr>\n",
       "  </thead>\n",
       "  <tbody>\n",
       "    <tr>\n",
       "      <th>2009-12-31</th>\n",
       "      <td>23.438797</td>\n",
       "      <td>7.870000</td>\n",
       "      <td>NaN</td>\n",
       "      <td>6.726000</td>\n",
       "    </tr>\n",
       "    <tr>\n",
       "      <th>2010-01-04</th>\n",
       "      <td>23.800226</td>\n",
       "      <td>7.640000</td>\n",
       "      <td>NaN</td>\n",
       "      <td>6.695000</td>\n",
       "    </tr>\n",
       "    <tr>\n",
       "      <th>2010-01-05</th>\n",
       "      <td>23.807911</td>\n",
       "      <td>7.358571</td>\n",
       "      <td>NaN</td>\n",
       "      <td>6.734500</td>\n",
       "    </tr>\n",
       "    <tr>\n",
       "      <th>2010-01-06</th>\n",
       "      <td>23.661804</td>\n",
       "      <td>7.617143</td>\n",
       "      <td>NaN</td>\n",
       "      <td>6.612500</td>\n",
       "    </tr>\n",
       "    <tr>\n",
       "      <th>2010-01-07</th>\n",
       "      <td>23.415730</td>\n",
       "      <td>7.485714</td>\n",
       "      <td>NaN</td>\n",
       "      <td>6.500000</td>\n",
       "    </tr>\n",
       "    <tr>\n",
       "      <th>...</th>\n",
       "      <td>...</td>\n",
       "      <td>...</td>\n",
       "      <td>...</td>\n",
       "      <td>...</td>\n",
       "    </tr>\n",
       "    <tr>\n",
       "      <th>2022-05-24</th>\n",
       "      <td>259.619995</td>\n",
       "      <td>180.339996</td>\n",
       "      <td>181.279999</td>\n",
       "      <td>104.099998</td>\n",
       "    </tr>\n",
       "    <tr>\n",
       "      <th>2022-05-25</th>\n",
       "      <td>262.519989</td>\n",
       "      <td>187.830002</td>\n",
       "      <td>183.830002</td>\n",
       "      <td>106.775002</td>\n",
       "    </tr>\n",
       "    <tr>\n",
       "      <th>2022-05-26</th>\n",
       "      <td>265.899994</td>\n",
       "      <td>191.399994</td>\n",
       "      <td>191.630005</td>\n",
       "      <td>111.077499</td>\n",
       "    </tr>\n",
       "    <tr>\n",
       "      <th>2022-05-27</th>\n",
       "      <td>273.239990</td>\n",
       "      <td>195.190002</td>\n",
       "      <td>195.130005</td>\n",
       "      <td>115.146500</td>\n",
       "    </tr>\n",
       "    <tr>\n",
       "      <th>2022-05-31</th>\n",
       "      <td>271.869995</td>\n",
       "      <td>197.440002</td>\n",
       "      <td>193.639999</td>\n",
       "      <td>120.209503</td>\n",
       "    </tr>\n",
       "  </tbody>\n",
       "</table>\n",
       "<p>3125 rows × 4 columns</p>\n",
       "</div>"
      ],
      "text/plain": [
       "                  MSFT        NFLX          FB        AMZN\n",
       "Date                                                      \n",
       "2009-12-31   23.438797    7.870000         NaN    6.726000\n",
       "2010-01-04   23.800226    7.640000         NaN    6.695000\n",
       "2010-01-05   23.807911    7.358571         NaN    6.734500\n",
       "2010-01-06   23.661804    7.617143         NaN    6.612500\n",
       "2010-01-07   23.415730    7.485714         NaN    6.500000\n",
       "...                ...         ...         ...         ...\n",
       "2022-05-24  259.619995  180.339996  181.279999  104.099998\n",
       "2022-05-25  262.519989  187.830002  183.830002  106.775002\n",
       "2022-05-26  265.899994  191.399994  191.630005  111.077499\n",
       "2022-05-27  273.239990  195.190002  195.130005  115.146500\n",
       "2022-05-31  271.869995  197.440002  193.639999  120.209503\n",
       "\n",
       "[3125 rows x 4 columns]"
      ]
     },
     "execution_count": 18,
     "metadata": {},
     "output_type": "execute_result"
    }
   ],
   "source": [
    "df_us_price"
   ]
  },
  {
   "cell_type": "code",
   "execution_count": 19,
   "metadata": {},
   "outputs": [
    {
     "data": {
      "text/html": [
       "<div>\n",
       "<style scoped>\n",
       "    .dataframe tbody tr th:only-of-type {\n",
       "        vertical-align: middle;\n",
       "    }\n",
       "\n",
       "    .dataframe tbody tr th {\n",
       "        vertical-align: top;\n",
       "    }\n",
       "\n",
       "    .dataframe thead th {\n",
       "        text-align: right;\n",
       "    }\n",
       "</style>\n",
       "<table border=\"1\" class=\"dataframe\">\n",
       "  <thead>\n",
       "    <tr style=\"text-align: right;\">\n",
       "      <th></th>\n",
       "      <th>005930.KS</th>\n",
       "      <th>000660.KS</th>\n",
       "      <th>035420.KS</th>\n",
       "      <th>035720.KS</th>\n",
       "    </tr>\n",
       "    <tr>\n",
       "      <th>Date</th>\n",
       "      <th></th>\n",
       "      <th></th>\n",
       "      <th></th>\n",
       "      <th></th>\n",
       "    </tr>\n",
       "  </thead>\n",
       "  <tbody>\n",
       "    <tr>\n",
       "      <th>2010-01-04</th>\n",
       "      <td>12889.119141</td>\n",
       "      <td>21212.414062</td>\n",
       "      <td>46347.308594</td>\n",
       "      <td>13948.366211</td>\n",
       "    </tr>\n",
       "    <tr>\n",
       "      <th>2010-01-05</th>\n",
       "      <td>13096.236328</td>\n",
       "      <td>20552.271484</td>\n",
       "      <td>46347.308594</td>\n",
       "      <td>14062.385742</td>\n",
       "    </tr>\n",
       "    <tr>\n",
       "      <th>2010-01-06</th>\n",
       "      <td>13398.950195</td>\n",
       "      <td>21608.492188</td>\n",
       "      <td>46107.160156</td>\n",
       "      <td>14119.394531</td>\n",
       "    </tr>\n",
       "    <tr>\n",
       "      <th>2010-01-07</th>\n",
       "      <td>12952.850586</td>\n",
       "      <td>21476.464844</td>\n",
       "      <td>46227.234375</td>\n",
       "      <td>13948.366211</td>\n",
       "    </tr>\n",
       "    <tr>\n",
       "      <th>2010-01-08</th>\n",
       "      <td>13080.307617</td>\n",
       "      <td>21696.513672</td>\n",
       "      <td>44666.312500</td>\n",
       "      <td>13853.348633</td>\n",
       "    </tr>\n",
       "    <tr>\n",
       "      <th>...</th>\n",
       "      <td>...</td>\n",
       "      <td>...</td>\n",
       "      <td>...</td>\n",
       "      <td>...</td>\n",
       "    </tr>\n",
       "    <tr>\n",
       "      <th>2022-05-25</th>\n",
       "      <td>66400.000000</td>\n",
       "      <td>108000.000000</td>\n",
       "      <td>266000.000000</td>\n",
       "      <td>81800.000000</td>\n",
       "    </tr>\n",
       "    <tr>\n",
       "      <th>2022-05-26</th>\n",
       "      <td>65900.000000</td>\n",
       "      <td>103000.000000</td>\n",
       "      <td>266000.000000</td>\n",
       "      <td>81500.000000</td>\n",
       "    </tr>\n",
       "    <tr>\n",
       "      <th>2022-05-27</th>\n",
       "      <td>66500.000000</td>\n",
       "      <td>106000.000000</td>\n",
       "      <td>270000.000000</td>\n",
       "      <td>81700.000000</td>\n",
       "    </tr>\n",
       "    <tr>\n",
       "      <th>2022-05-30</th>\n",
       "      <td>67700.000000</td>\n",
       "      <td>107000.000000</td>\n",
       "      <td>281000.000000</td>\n",
       "      <td>83900.000000</td>\n",
       "    </tr>\n",
       "    <tr>\n",
       "      <th>2022-05-31</th>\n",
       "      <td>67400.000000</td>\n",
       "      <td>108000.000000</td>\n",
       "      <td>288000.000000</td>\n",
       "      <td>85000.000000</td>\n",
       "    </tr>\n",
       "  </tbody>\n",
       "</table>\n",
       "<p>3060 rows × 4 columns</p>\n",
       "</div>"
      ],
      "text/plain": [
       "               005930.KS      000660.KS      035420.KS     035720.KS\n",
       "Date                                                                \n",
       "2010-01-04  12889.119141   21212.414062   46347.308594  13948.366211\n",
       "2010-01-05  13096.236328   20552.271484   46347.308594  14062.385742\n",
       "2010-01-06  13398.950195   21608.492188   46107.160156  14119.394531\n",
       "2010-01-07  12952.850586   21476.464844   46227.234375  13948.366211\n",
       "2010-01-08  13080.307617   21696.513672   44666.312500  13853.348633\n",
       "...                  ...            ...            ...           ...\n",
       "2022-05-25  66400.000000  108000.000000  266000.000000  81800.000000\n",
       "2022-05-26  65900.000000  103000.000000  266000.000000  81500.000000\n",
       "2022-05-27  66500.000000  106000.000000  270000.000000  81700.000000\n",
       "2022-05-30  67700.000000  107000.000000  281000.000000  83900.000000\n",
       "2022-05-31  67400.000000  108000.000000  288000.000000  85000.000000\n",
       "\n",
       "[3060 rows x 4 columns]"
      ]
     },
     "execution_count": 19,
     "metadata": {},
     "output_type": "execute_result"
    }
   ],
   "source": [
    "df_kr_price"
   ]
  },
  {
   "cell_type": "code",
   "execution_count": 110,
   "metadata": {},
   "outputs": [
    {
     "data": {
      "text/html": [
       "<div>\n",
       "<style scoped>\n",
       "    .dataframe tbody tr th:only-of-type {\n",
       "        vertical-align: middle;\n",
       "    }\n",
       "\n",
       "    .dataframe tbody tr th {\n",
       "        vertical-align: top;\n",
       "    }\n",
       "\n",
       "    .dataframe thead th {\n",
       "        text-align: right;\n",
       "    }\n",
       "</style>\n",
       "<table border=\"1\" class=\"dataframe\">\n",
       "  <thead>\n",
       "    <tr style=\"text-align: right;\">\n",
       "      <th></th>\n",
       "      <th>Samsung</th>\n",
       "      <th>SKHY</th>\n",
       "      <th>NAVER</th>\n",
       "      <th>KAKAO</th>\n",
       "    </tr>\n",
       "    <tr>\n",
       "      <th>Date</th>\n",
       "      <th></th>\n",
       "      <th></th>\n",
       "      <th></th>\n",
       "      <th></th>\n",
       "    </tr>\n",
       "  </thead>\n",
       "  <tbody>\n",
       "    <tr>\n",
       "      <th>2010-01-04</th>\n",
       "      <td>12889.122070</td>\n",
       "      <td>21212.412109</td>\n",
       "      <td>46347.300781</td>\n",
       "      <td>13948.365234</td>\n",
       "    </tr>\n",
       "    <tr>\n",
       "      <th>2010-01-05</th>\n",
       "      <td>13096.241211</td>\n",
       "      <td>20552.273438</td>\n",
       "      <td>46347.300781</td>\n",
       "      <td>14062.385742</td>\n",
       "    </tr>\n",
       "    <tr>\n",
       "      <th>2010-01-06</th>\n",
       "      <td>13398.951172</td>\n",
       "      <td>21608.496094</td>\n",
       "      <td>46107.164062</td>\n",
       "      <td>14119.394531</td>\n",
       "    </tr>\n",
       "    <tr>\n",
       "      <th>2010-01-07</th>\n",
       "      <td>12952.850586</td>\n",
       "      <td>21476.464844</td>\n",
       "      <td>46227.234375</td>\n",
       "      <td>13948.365234</td>\n",
       "    </tr>\n",
       "    <tr>\n",
       "      <th>2010-01-08</th>\n",
       "      <td>13080.309570</td>\n",
       "      <td>21696.515625</td>\n",
       "      <td>44666.320312</td>\n",
       "      <td>13853.350586</td>\n",
       "    </tr>\n",
       "    <tr>\n",
       "      <th>...</th>\n",
       "      <td>...</td>\n",
       "      <td>...</td>\n",
       "      <td>...</td>\n",
       "      <td>...</td>\n",
       "    </tr>\n",
       "    <tr>\n",
       "      <th>2022-05-25</th>\n",
       "      <td>66400.000000</td>\n",
       "      <td>108000.000000</td>\n",
       "      <td>266000.000000</td>\n",
       "      <td>81800.000000</td>\n",
       "    </tr>\n",
       "    <tr>\n",
       "      <th>2022-05-26</th>\n",
       "      <td>65900.000000</td>\n",
       "      <td>103000.000000</td>\n",
       "      <td>266000.000000</td>\n",
       "      <td>81500.000000</td>\n",
       "    </tr>\n",
       "    <tr>\n",
       "      <th>2022-05-27</th>\n",
       "      <td>66500.000000</td>\n",
       "      <td>106000.000000</td>\n",
       "      <td>270000.000000</td>\n",
       "      <td>81700.000000</td>\n",
       "    </tr>\n",
       "    <tr>\n",
       "      <th>2022-05-30</th>\n",
       "      <td>67700.000000</td>\n",
       "      <td>107000.000000</td>\n",
       "      <td>281000.000000</td>\n",
       "      <td>83900.000000</td>\n",
       "    </tr>\n",
       "    <tr>\n",
       "      <th>2022-05-31</th>\n",
       "      <td>67400.000000</td>\n",
       "      <td>108000.000000</td>\n",
       "      <td>288000.000000</td>\n",
       "      <td>85000.000000</td>\n",
       "    </tr>\n",
       "  </tbody>\n",
       "</table>\n",
       "<p>3060 rows × 4 columns</p>\n",
       "</div>"
      ],
      "text/plain": [
       "                 Samsung           SKHY          NAVER         KAKAO\n",
       "Date                                                                \n",
       "2010-01-04  12889.122070   21212.412109   46347.300781  13948.365234\n",
       "2010-01-05  13096.241211   20552.273438   46347.300781  14062.385742\n",
       "2010-01-06  13398.951172   21608.496094   46107.164062  14119.394531\n",
       "2010-01-07  12952.850586   21476.464844   46227.234375  13948.365234\n",
       "2010-01-08  13080.309570   21696.515625   44666.320312  13853.350586\n",
       "...                  ...            ...            ...           ...\n",
       "2022-05-25  66400.000000  108000.000000  266000.000000  81800.000000\n",
       "2022-05-26  65900.000000  103000.000000  266000.000000  81500.000000\n",
       "2022-05-27  66500.000000  106000.000000  270000.000000  81700.000000\n",
       "2022-05-30  67700.000000  107000.000000  281000.000000  83900.000000\n",
       "2022-05-31  67400.000000  108000.000000  288000.000000  85000.000000\n",
       "\n",
       "[3060 rows x 4 columns]"
      ]
     },
     "execution_count": 110,
     "metadata": {},
     "output_type": "execute_result"
    }
   ],
   "source": [
    "df_kr_price.columns = ['Samsung','SKHY', 'NAVER', 'KAKAO']\n",
    "df_kr_price"
   ]
  },
  {
   "cell_type": "code",
   "execution_count": 111,
   "metadata": {},
   "outputs": [],
   "source": [
    "df_us_div = us_finance.get_dividence()\n",
    "df_kr_div = kr_finance.get_dividence()\n",
    "df_kr_div.columns = df_kr_price.columns"
   ]
  },
  {
   "cell_type": "code",
   "execution_count": 107,
   "metadata": {},
   "outputs": [
    {
     "data": {
      "text/html": [
       "<div>\n",
       "<style scoped>\n",
       "    .dataframe tbody tr th:only-of-type {\n",
       "        vertical-align: middle;\n",
       "    }\n",
       "\n",
       "    .dataframe tbody tr th {\n",
       "        vertical-align: top;\n",
       "    }\n",
       "\n",
       "    .dataframe thead th {\n",
       "        text-align: right;\n",
       "    }\n",
       "</style>\n",
       "<table border=\"1\" class=\"dataframe\">\n",
       "  <thead>\n",
       "    <tr style=\"text-align: right;\">\n",
       "      <th></th>\n",
       "      <th>MSFT</th>\n",
       "      <th>NFLX</th>\n",
       "      <th>FB</th>\n",
       "      <th>AMZN</th>\n",
       "    </tr>\n",
       "    <tr>\n",
       "      <th>Date</th>\n",
       "      <th></th>\n",
       "      <th></th>\n",
       "      <th></th>\n",
       "      <th></th>\n",
       "    </tr>\n",
       "  </thead>\n",
       "  <tbody>\n",
       "    <tr>\n",
       "      <th>2012-05-18</th>\n",
       "      <td>23.898617</td>\n",
       "      <td>9.994286</td>\n",
       "      <td>38.230000</td>\n",
       "      <td>10.692500</td>\n",
       "    </tr>\n",
       "    <tr>\n",
       "      <th>2012-05-21</th>\n",
       "      <td>24.290531</td>\n",
       "      <td>10.248571</td>\n",
       "      <td>34.029999</td>\n",
       "      <td>10.905500</td>\n",
       "    </tr>\n",
       "    <tr>\n",
       "      <th>2012-05-22</th>\n",
       "      <td>24.298698</td>\n",
       "      <td>9.672857</td>\n",
       "      <td>31.000000</td>\n",
       "      <td>10.766500</td>\n",
       "    </tr>\n",
       "    <tr>\n",
       "      <th>2012-05-23</th>\n",
       "      <td>23.767982</td>\n",
       "      <td>10.272857</td>\n",
       "      <td>32.000000</td>\n",
       "      <td>10.864000</td>\n",
       "    </tr>\n",
       "    <tr>\n",
       "      <th>2012-05-24</th>\n",
       "      <td>23.735323</td>\n",
       "      <td>10.038571</td>\n",
       "      <td>33.029999</td>\n",
       "      <td>10.762000</td>\n",
       "    </tr>\n",
       "    <tr>\n",
       "      <th>...</th>\n",
       "      <td>...</td>\n",
       "      <td>...</td>\n",
       "      <td>...</td>\n",
       "      <td>...</td>\n",
       "    </tr>\n",
       "    <tr>\n",
       "      <th>2022-05-24</th>\n",
       "      <td>259.619995</td>\n",
       "      <td>180.339996</td>\n",
       "      <td>181.279999</td>\n",
       "      <td>104.099998</td>\n",
       "    </tr>\n",
       "    <tr>\n",
       "      <th>2022-05-25</th>\n",
       "      <td>262.519989</td>\n",
       "      <td>187.830002</td>\n",
       "      <td>183.830002</td>\n",
       "      <td>106.775002</td>\n",
       "    </tr>\n",
       "    <tr>\n",
       "      <th>2022-05-26</th>\n",
       "      <td>265.899994</td>\n",
       "      <td>191.399994</td>\n",
       "      <td>191.630005</td>\n",
       "      <td>111.077499</td>\n",
       "    </tr>\n",
       "    <tr>\n",
       "      <th>2022-05-27</th>\n",
       "      <td>273.239990</td>\n",
       "      <td>195.190002</td>\n",
       "      <td>195.130005</td>\n",
       "      <td>115.146500</td>\n",
       "    </tr>\n",
       "    <tr>\n",
       "      <th>2022-05-31</th>\n",
       "      <td>271.869995</td>\n",
       "      <td>197.440002</td>\n",
       "      <td>193.639999</td>\n",
       "      <td>120.209503</td>\n",
       "    </tr>\n",
       "  </tbody>\n",
       "</table>\n",
       "<p>2525 rows × 4 columns</p>\n",
       "</div>"
      ],
      "text/plain": [
       "                  MSFT        NFLX          FB        AMZN\n",
       "Date                                                      \n",
       "2012-05-18   23.898617    9.994286   38.230000   10.692500\n",
       "2012-05-21   24.290531   10.248571   34.029999   10.905500\n",
       "2012-05-22   24.298698    9.672857   31.000000   10.766500\n",
       "2012-05-23   23.767982   10.272857   32.000000   10.864000\n",
       "2012-05-24   23.735323   10.038571   33.029999   10.762000\n",
       "...                ...         ...         ...         ...\n",
       "2022-05-24  259.619995  180.339996  181.279999  104.099998\n",
       "2022-05-25  262.519989  187.830002  183.830002  106.775002\n",
       "2022-05-26  265.899994  191.399994  191.630005  111.077499\n",
       "2022-05-27  273.239990  195.190002  195.130005  115.146500\n",
       "2022-05-31  271.869995  197.440002  193.639999  120.209503\n",
       "\n",
       "[2525 rows x 4 columns]"
      ]
     },
     "execution_count": 107,
     "metadata": {},
     "output_type": "execute_result"
    }
   ],
   "source": [
    "df_us_price = df_us_price.dropna()\n",
    "df_us_price"
   ]
  },
  {
   "cell_type": "code",
   "execution_count": 26,
   "metadata": {},
   "outputs": [
    {
     "data": {
      "text/plain": [
       "<AxesSubplot:xlabel='Date'>"
      ]
     },
     "execution_count": 26,
     "metadata": {},
     "output_type": "execute_result"
    },
    {
     "data": {
      "image/png": "[encoded data removed]",
      "text/plain": [
       "<Figure size 576x396 with 1 Axes>"
      ]
     },
     "metadata": {},
     "output_type": "display_data"
    }
   ],
   "source": [
    "(df_us_price / df_us_price.iloc[0]).plot()"
   ]
  },
  {
   "cell_type": "code",
   "execution_count": 28,
   "metadata": {},
   "outputs": [
    {
     "data": {
      "text/plain": [
       "<AxesSubplot:xlabel='Date'>"
      ]
     },
     "execution_count": 28,
     "metadata": {},
     "output_type": "execute_result"
    },
    {
     "data": {
      "image/png": "[encoded data removed]",
      "text/plain": [
       "<Figure size 1080x360 with 1 Axes>"
      ]
     },
     "metadata": {},
     "output_type": "display_data"
    }
   ],
   "source": [
    "\n",
    "(df_kr_price/df_kr_price.iloc[0]).plot(figsize=(15,5))"
   ]
  },
  {
   "cell_type": "code",
   "execution_count": 30,
   "metadata": {},
   "outputs": [
    {
     "data": {
      "text/html": [
       "<div>\n",
       "<style scoped>\n",
       "    .dataframe tbody tr th:only-of-type {\n",
       "        vertical-align: middle;\n",
       "    }\n",
       "\n",
       "    .dataframe tbody tr th {\n",
       "        vertical-align: top;\n",
       "    }\n",
       "\n",
       "    .dataframe thead th {\n",
       "        text-align: right;\n",
       "    }\n",
       "</style>\n",
       "<table border=\"1\" class=\"dataframe\">\n",
       "  <thead>\n",
       "    <tr style=\"text-align: right;\">\n",
       "      <th></th>\n",
       "      <th>Samsung</th>\n",
       "      <th>SKHY</th>\n",
       "      <th>NAVER</th>\n",
       "      <th>KAKAO</th>\n",
       "    </tr>\n",
       "    <tr>\n",
       "      <th>Date</th>\n",
       "      <th></th>\n",
       "      <th></th>\n",
       "      <th></th>\n",
       "      <th></th>\n",
       "    </tr>\n",
       "  </thead>\n",
       "  <tbody>\n",
       "    <tr>\n",
       "      <th>2010-01-04</th>\n",
       "      <td>12889.119141</td>\n",
       "      <td>21212.414062</td>\n",
       "      <td>46347.308594</td>\n",
       "      <td>13948.366211</td>\n",
       "    </tr>\n",
       "    <tr>\n",
       "      <th>2010-01-05</th>\n",
       "      <td>13096.236328</td>\n",
       "      <td>20552.271484</td>\n",
       "      <td>46347.308594</td>\n",
       "      <td>14062.385742</td>\n",
       "    </tr>\n",
       "    <tr>\n",
       "      <th>2010-01-06</th>\n",
       "      <td>13398.950195</td>\n",
       "      <td>21608.492188</td>\n",
       "      <td>46107.160156</td>\n",
       "      <td>14119.394531</td>\n",
       "    </tr>\n",
       "    <tr>\n",
       "      <th>2010-01-07</th>\n",
       "      <td>12952.850586</td>\n",
       "      <td>21476.464844</td>\n",
       "      <td>46227.234375</td>\n",
       "      <td>13948.366211</td>\n",
       "    </tr>\n",
       "    <tr>\n",
       "      <th>2010-01-08</th>\n",
       "      <td>13080.307617</td>\n",
       "      <td>21696.513672</td>\n",
       "      <td>44666.312500</td>\n",
       "      <td>13853.348633</td>\n",
       "    </tr>\n",
       "    <tr>\n",
       "      <th>...</th>\n",
       "      <td>...</td>\n",
       "      <td>...</td>\n",
       "      <td>...</td>\n",
       "      <td>...</td>\n",
       "    </tr>\n",
       "    <tr>\n",
       "      <th>2022-05-25</th>\n",
       "      <td>66400.000000</td>\n",
       "      <td>108000.000000</td>\n",
       "      <td>266000.000000</td>\n",
       "      <td>81800.000000</td>\n",
       "    </tr>\n",
       "    <tr>\n",
       "      <th>2022-05-26</th>\n",
       "      <td>65900.000000</td>\n",
       "      <td>103000.000000</td>\n",
       "      <td>266000.000000</td>\n",
       "      <td>81500.000000</td>\n",
       "    </tr>\n",
       "    <tr>\n",
       "      <th>2022-05-27</th>\n",
       "      <td>66500.000000</td>\n",
       "      <td>106000.000000</td>\n",
       "      <td>270000.000000</td>\n",
       "      <td>81700.000000</td>\n",
       "    </tr>\n",
       "    <tr>\n",
       "      <th>2022-05-30</th>\n",
       "      <td>67700.000000</td>\n",
       "      <td>107000.000000</td>\n",
       "      <td>281000.000000</td>\n",
       "      <td>83900.000000</td>\n",
       "    </tr>\n",
       "    <tr>\n",
       "      <th>2022-05-31</th>\n",
       "      <td>67400.000000</td>\n",
       "      <td>108000.000000</td>\n",
       "      <td>288000.000000</td>\n",
       "      <td>85000.000000</td>\n",
       "    </tr>\n",
       "  </tbody>\n",
       "</table>\n",
       "<p>3060 rows × 4 columns</p>\n",
       "</div>"
      ],
      "text/plain": [
       "                 Samsung           SKHY          NAVER         KAKAO\n",
       "Date                                                                \n",
       "2010-01-04  12889.119141   21212.414062   46347.308594  13948.366211\n",
       "2010-01-05  13096.236328   20552.271484   46347.308594  14062.385742\n",
       "2010-01-06  13398.950195   21608.492188   46107.160156  14119.394531\n",
       "2010-01-07  12952.850586   21476.464844   46227.234375  13948.366211\n",
       "2010-01-08  13080.307617   21696.513672   44666.312500  13853.348633\n",
       "...                  ...            ...            ...           ...\n",
       "2022-05-25  66400.000000  108000.000000  266000.000000  81800.000000\n",
       "2022-05-26  65900.000000  103000.000000  266000.000000  81500.000000\n",
       "2022-05-27  66500.000000  106000.000000  270000.000000  81700.000000\n",
       "2022-05-30  67700.000000  107000.000000  281000.000000  83900.000000\n",
       "2022-05-31  67400.000000  108000.000000  288000.000000  85000.000000\n",
       "\n",
       "[3060 rows x 4 columns]"
      ]
     },
     "execution_count": 30,
     "metadata": {},
     "output_type": "execute_result"
    }
   ],
   "source": [
    "df_kr_price"
   ]
  },
  {
   "cell_type": "code",
   "execution_count": 29,
   "metadata": {},
   "outputs": [
    {
     "data": {
      "text/html": [
       "<div>\n",
       "<style scoped>\n",
       "    .dataframe tbody tr th:only-of-type {\n",
       "        vertical-align: middle;\n",
       "    }\n",
       "\n",
       "    .dataframe tbody tr th {\n",
       "        vertical-align: top;\n",
       "    }\n",
       "\n",
       "    .dataframe thead th {\n",
       "        text-align: right;\n",
       "    }\n",
       "</style>\n",
       "<table border=\"1\" class=\"dataframe\">\n",
       "  <thead>\n",
       "    <tr style=\"text-align: right;\">\n",
       "      <th></th>\n",
       "      <th>Samsung</th>\n",
       "      <th>SKHY</th>\n",
       "      <th>NAVER</th>\n",
       "      <th>KAKAO</th>\n",
       "    </tr>\n",
       "    <tr>\n",
       "      <th>Date</th>\n",
       "      <th></th>\n",
       "      <th></th>\n",
       "      <th></th>\n",
       "      <th></th>\n",
       "    </tr>\n",
       "  </thead>\n",
       "  <tbody>\n",
       "    <tr>\n",
       "      <th>2010-01-04</th>\n",
       "      <td>NaN</td>\n",
       "      <td>NaN</td>\n",
       "      <td>NaN</td>\n",
       "      <td>NaN</td>\n",
       "    </tr>\n",
       "    <tr>\n",
       "      <th>2010-01-05</th>\n",
       "      <td>12889.119141</td>\n",
       "      <td>21212.414062</td>\n",
       "      <td>46347.308594</td>\n",
       "      <td>13948.366211</td>\n",
       "    </tr>\n",
       "    <tr>\n",
       "      <th>2010-01-06</th>\n",
       "      <td>13096.236328</td>\n",
       "      <td>20552.271484</td>\n",
       "      <td>46347.308594</td>\n",
       "      <td>14062.385742</td>\n",
       "    </tr>\n",
       "    <tr>\n",
       "      <th>2010-01-07</th>\n",
       "      <td>13398.950195</td>\n",
       "      <td>21608.492188</td>\n",
       "      <td>46107.160156</td>\n",
       "      <td>14119.394531</td>\n",
       "    </tr>\n",
       "    <tr>\n",
       "      <th>2010-01-08</th>\n",
       "      <td>12952.850586</td>\n",
       "      <td>21476.464844</td>\n",
       "      <td>46227.234375</td>\n",
       "      <td>13948.366211</td>\n",
       "    </tr>\n",
       "    <tr>\n",
       "      <th>...</th>\n",
       "      <td>...</td>\n",
       "      <td>...</td>\n",
       "      <td>...</td>\n",
       "      <td>...</td>\n",
       "    </tr>\n",
       "    <tr>\n",
       "      <th>2022-05-25</th>\n",
       "      <td>66500.000000</td>\n",
       "      <td>108500.000000</td>\n",
       "      <td>266000.000000</td>\n",
       "      <td>80600.000000</td>\n",
       "    </tr>\n",
       "    <tr>\n",
       "      <th>2022-05-26</th>\n",
       "      <td>66400.000000</td>\n",
       "      <td>108000.000000</td>\n",
       "      <td>266000.000000</td>\n",
       "      <td>81800.000000</td>\n",
       "    </tr>\n",
       "    <tr>\n",
       "      <th>2022-05-27</th>\n",
       "      <td>65900.000000</td>\n",
       "      <td>103000.000000</td>\n",
       "      <td>266000.000000</td>\n",
       "      <td>81500.000000</td>\n",
       "    </tr>\n",
       "    <tr>\n",
       "      <th>2022-05-30</th>\n",
       "      <td>66500.000000</td>\n",
       "      <td>106000.000000</td>\n",
       "      <td>270000.000000</td>\n",
       "      <td>81700.000000</td>\n",
       "    </tr>\n",
       "    <tr>\n",
       "      <th>2022-05-31</th>\n",
       "      <td>67700.000000</td>\n",
       "      <td>107000.000000</td>\n",
       "      <td>281000.000000</td>\n",
       "      <td>83900.000000</td>\n",
       "    </tr>\n",
       "  </tbody>\n",
       "</table>\n",
       "<p>3060 rows × 4 columns</p>\n",
       "</div>"
      ],
      "text/plain": [
       "                 Samsung           SKHY          NAVER         KAKAO\n",
       "Date                                                                \n",
       "2010-01-04           NaN            NaN            NaN           NaN\n",
       "2010-01-05  12889.119141   21212.414062   46347.308594  13948.366211\n",
       "2010-01-06  13096.236328   20552.271484   46347.308594  14062.385742\n",
       "2010-01-07  13398.950195   21608.492188   46107.160156  14119.394531\n",
       "2010-01-08  12952.850586   21476.464844   46227.234375  13948.366211\n",
       "...                  ...            ...            ...           ...\n",
       "2022-05-25  66500.000000  108500.000000  266000.000000  80600.000000\n",
       "2022-05-26  66400.000000  108000.000000  266000.000000  81800.000000\n",
       "2022-05-27  65900.000000  103000.000000  266000.000000  81500.000000\n",
       "2022-05-30  66500.000000  106000.000000  270000.000000  81700.000000\n",
       "2022-05-31  67700.000000  107000.000000  281000.000000  83900.000000\n",
       "\n",
       "[3060 rows x 4 columns]"
      ]
     },
     "execution_count": 29,
     "metadata": {},
     "output_type": "execute_result"
    }
   ],
   "source": [
    "df_kr_price.shift()"
   ]
  },
  {
   "cell_type": "code",
   "execution_count": 32,
   "metadata": {},
   "outputs": [
    {
     "data": {
      "text/html": [
       "<div>\n",
       "<style scoped>\n",
       "    .dataframe tbody tr th:only-of-type {\n",
       "        vertical-align: middle;\n",
       "    }\n",
       "\n",
       "    .dataframe tbody tr th {\n",
       "        vertical-align: top;\n",
       "    }\n",
       "\n",
       "    .dataframe thead th {\n",
       "        text-align: right;\n",
       "    }\n",
       "</style>\n",
       "<table border=\"1\" class=\"dataframe\">\n",
       "  <thead>\n",
       "    <tr style=\"text-align: right;\">\n",
       "      <th></th>\n",
       "      <th>Samsung</th>\n",
       "      <th>SKHY</th>\n",
       "      <th>NAVER</th>\n",
       "      <th>KAKAO</th>\n",
       "    </tr>\n",
       "    <tr>\n",
       "      <th>Date</th>\n",
       "      <th></th>\n",
       "      <th></th>\n",
       "      <th></th>\n",
       "      <th></th>\n",
       "    </tr>\n",
       "  </thead>\n",
       "  <tbody>\n",
       "    <tr>\n",
       "      <th>2010-01-04</th>\n",
       "      <td>NaN</td>\n",
       "      <td>NaN</td>\n",
       "      <td>NaN</td>\n",
       "      <td>NaN</td>\n",
       "    </tr>\n",
       "    <tr>\n",
       "      <th>2010-01-05</th>\n",
       "      <td>0.016069</td>\n",
       "      <td>-0.031121</td>\n",
       "      <td>0.000000</td>\n",
       "      <td>0.008174</td>\n",
       "    </tr>\n",
       "    <tr>\n",
       "      <th>2010-01-06</th>\n",
       "      <td>0.023115</td>\n",
       "      <td>0.051392</td>\n",
       "      <td>-0.005181</td>\n",
       "      <td>0.004054</td>\n",
       "    </tr>\n",
       "    <tr>\n",
       "      <th>2010-01-07</th>\n",
       "      <td>-0.033294</td>\n",
       "      <td>-0.006110</td>\n",
       "      <td>0.002604</td>\n",
       "      <td>-0.012113</td>\n",
       "    </tr>\n",
       "    <tr>\n",
       "      <th>2010-01-08</th>\n",
       "      <td>0.009840</td>\n",
       "      <td>0.010246</td>\n",
       "      <td>-0.033766</td>\n",
       "      <td>-0.006812</td>\n",
       "    </tr>\n",
       "    <tr>\n",
       "      <th>...</th>\n",
       "      <td>...</td>\n",
       "      <td>...</td>\n",
       "      <td>...</td>\n",
       "      <td>...</td>\n",
       "    </tr>\n",
       "    <tr>\n",
       "      <th>2022-05-25</th>\n",
       "      <td>-0.001504</td>\n",
       "      <td>-0.004608</td>\n",
       "      <td>0.000000</td>\n",
       "      <td>0.014888</td>\n",
       "    </tr>\n",
       "    <tr>\n",
       "      <th>2022-05-26</th>\n",
       "      <td>-0.007530</td>\n",
       "      <td>-0.046296</td>\n",
       "      <td>0.000000</td>\n",
       "      <td>-0.003667</td>\n",
       "    </tr>\n",
       "    <tr>\n",
       "      <th>2022-05-27</th>\n",
       "      <td>0.009105</td>\n",
       "      <td>0.029126</td>\n",
       "      <td>0.015038</td>\n",
       "      <td>0.002454</td>\n",
       "    </tr>\n",
       "    <tr>\n",
       "      <th>2022-05-30</th>\n",
       "      <td>0.018045</td>\n",
       "      <td>0.009434</td>\n",
       "      <td>0.040741</td>\n",
       "      <td>0.026928</td>\n",
       "    </tr>\n",
       "    <tr>\n",
       "      <th>2022-05-31</th>\n",
       "      <td>-0.004431</td>\n",
       "      <td>0.009346</td>\n",
       "      <td>0.024911</td>\n",
       "      <td>0.013111</td>\n",
       "    </tr>\n",
       "  </tbody>\n",
       "</table>\n",
       "<p>3060 rows × 4 columns</p>\n",
       "</div>"
      ],
      "text/plain": [
       "             Samsung      SKHY     NAVER     KAKAO\n",
       "Date                                              \n",
       "2010-01-04       NaN       NaN       NaN       NaN\n",
       "2010-01-05  0.016069 -0.031121  0.000000  0.008174\n",
       "2010-01-06  0.023115  0.051392 -0.005181  0.004054\n",
       "2010-01-07 -0.033294 -0.006110  0.002604 -0.012113\n",
       "2010-01-08  0.009840  0.010246 -0.033766 -0.006812\n",
       "...              ...       ...       ...       ...\n",
       "2022-05-25 -0.001504 -0.004608  0.000000  0.014888\n",
       "2022-05-26 -0.007530 -0.046296  0.000000 -0.003667\n",
       "2022-05-27  0.009105  0.029126  0.015038  0.002454\n",
       "2022-05-30  0.018045  0.009434  0.040741  0.026928\n",
       "2022-05-31 -0.004431  0.009346  0.024911  0.013111\n",
       "\n",
       "[3060 rows x 4 columns]"
      ]
     },
     "execution_count": 32,
     "metadata": {},
     "output_type": "execute_result"
    }
   ],
   "source": [
    "df_kr_price / df_kr_price.shift() - 1"
   ]
  },
  {
   "cell_type": "code",
   "execution_count": 33,
   "metadata": {},
   "outputs": [],
   "source": [
    "return_kr = df_kr_price.pct_change()\n",
    "return_us = df_us_price.pct_change()"
   ]
  },
  {
   "cell_type": "code",
   "execution_count": 44,
   "metadata": {},
   "outputs": [],
   "source": [
    "r_a_kr = (df_kr_price.iloc[-1]+df_kr_div.sum()) / df_kr_price.iloc[0] - 1\n",
    "r_a_us = (df_us_price.iloc[-1]+df_us_div.sum()) / df_us_price.iloc[0] - 1"
   ]
  },
  {
   "cell_type": "code",
   "execution_count": 46,
   "metadata": {},
   "outputs": [
    {
     "data": {
      "text/plain": [
       "Samsung    5.053711\n",
       "SKHY       4.483110\n",
       "NAVER      5.278207\n",
       "KAKAO      5.179181\n",
       "dtype: float64"
      ]
     },
     "execution_count": 46,
     "metadata": {},
     "output_type": "execute_result"
    }
   ],
   "source": [
    "r_a_kr"
   ]
  },
  {
   "cell_type": "code",
   "execution_count": 47,
   "metadata": {},
   "outputs": [
    {
     "data": {
      "text/plain": [
       "MSFT    11.119531\n",
       "NFLX    18.755289\n",
       "FB       4.065132\n",
       "AMZN    10.242413\n",
       "dtype: float64"
      ]
     },
     "execution_count": 47,
     "metadata": {},
     "output_type": "execute_result"
    }
   ],
   "source": [
    "r_a_us"
   ]
  },
  {
   "cell_type": "code",
   "execution_count": 53,
   "metadata": {},
   "outputs": [
    {
     "data": {
      "text/plain": [
       "2525"
      ]
     },
     "execution_count": 53,
     "metadata": {},
     "output_type": "execute_result"
    }
   ],
   "source": [
    "df_us_price.shape[0]"
   ]
  },
  {
   "cell_type": "code",
   "execution_count": 56,
   "metadata": {},
   "outputs": [
    {
     "data": {
      "text/plain": [
       "MSFT    0.000989\n",
       "NFLX    0.001182\n",
       "FB      0.000643\n",
       "AMZN    0.000959\n",
       "dtype: float64"
      ]
     },
     "execution_count": 56,
     "metadata": {},
     "output_type": "execute_result"
    }
   ],
   "source": [
    "r_a_us_daily = (1+r_a_us)**(1/df_us_price.shape[0]) - 1\n",
    "r_a_us_daily    "
   ]
  },
  {
   "cell_type": "code",
   "execution_count": 57,
   "metadata": {},
   "outputs": [
    {
     "data": {
      "text/plain": [
       "Samsung    0.000589\n",
       "SKHY       0.000556\n",
       "NAVER      0.000601\n",
       "KAKAO      0.000595\n",
       "dtype: float64"
      ]
     },
     "execution_count": 57,
     "metadata": {},
     "output_type": "execute_result"
    }
   ],
   "source": [
    "r_a_kr_daily = (1+r_a_kr)**(1/df_kr_price.shape[0]) - 1\n",
    "r_a_kr_daily    "
   ]
  },
  {
   "cell_type": "code",
   "execution_count": 62,
   "metadata": {},
   "outputs": [
    {
     "data": {
      "text/plain": [
       "array([0.25, 0.25, 0.25, 0.25])"
      ]
     },
     "execution_count": 62,
     "metadata": {},
     "output_type": "execute_result"
    }
   ],
   "source": [
    "import numpy as np\n",
    "\n",
    "weights = np.ones(4) * 0.25\n",
    "weights"
   ]
  },
  {
   "cell_type": "code",
   "execution_count": 63,
   "metadata": {},
   "outputs": [
    {
     "data": {
      "text/plain": [
       "MSFT    0.000989\n",
       "NFLX    0.001182\n",
       "FB      0.000643\n",
       "AMZN    0.000959\n",
       "dtype: float64"
      ]
     },
     "execution_count": 63,
     "metadata": {},
     "output_type": "execute_result"
    }
   ],
   "source": [
    "r_a_us_daily"
   ]
  },
  {
   "cell_type": "code",
   "execution_count": 66,
   "metadata": {},
   "outputs": [
    {
     "data": {
      "text/plain": [
       "11.045591273207428"
      ]
     },
     "execution_count": 66,
     "metadata": {},
     "output_type": "execute_result"
    }
   ],
   "source": [
    "port_return_us = np.dot(weights, r_a_us)\n",
    "port_return_us"
   ]
  },
  {
   "cell_type": "code",
   "execution_count": 67,
   "metadata": {},
   "outputs": [
    {
     "data": {
      "text/plain": [
       "4.998552288001594"
      ]
     },
     "execution_count": 67,
     "metadata": {},
     "output_type": "execute_result"
    }
   ],
   "source": [
    "port_return_kr = np.dot(weights, r_a_kr)\n",
    "port_return_kr"
   ]
  },
  {
   "cell_type": "code",
   "execution_count": 69,
   "metadata": {},
   "outputs": [
    {
     "data": {
      "text/html": [
       "<div>\n",
       "<style scoped>\n",
       "    .dataframe tbody tr th:only-of-type {\n",
       "        vertical-align: middle;\n",
       "    }\n",
       "\n",
       "    .dataframe tbody tr th {\n",
       "        vertical-align: top;\n",
       "    }\n",
       "\n",
       "    .dataframe thead th {\n",
       "        text-align: right;\n",
       "    }\n",
       "</style>\n",
       "<table border=\"1\" class=\"dataframe\">\n",
       "  <thead>\n",
       "    <tr style=\"text-align: right;\">\n",
       "      <th></th>\n",
       "      <th>MSFT</th>\n",
       "      <th>NFLX</th>\n",
       "      <th>FB</th>\n",
       "      <th>AMZN</th>\n",
       "    </tr>\n",
       "  </thead>\n",
       "  <tbody>\n",
       "    <tr>\n",
       "      <th>MSFT</th>\n",
       "      <td>1.000000</td>\n",
       "      <td>0.364644</td>\n",
       "      <td>0.440689</td>\n",
       "      <td>0.569155</td>\n",
       "    </tr>\n",
       "    <tr>\n",
       "      <th>NFLX</th>\n",
       "      <td>0.364644</td>\n",
       "      <td>1.000000</td>\n",
       "      <td>0.329135</td>\n",
       "      <td>0.449834</td>\n",
       "    </tr>\n",
       "    <tr>\n",
       "      <th>FB</th>\n",
       "      <td>0.440689</td>\n",
       "      <td>0.329135</td>\n",
       "      <td>1.000000</td>\n",
       "      <td>0.474841</td>\n",
       "    </tr>\n",
       "    <tr>\n",
       "      <th>AMZN</th>\n",
       "      <td>0.569155</td>\n",
       "      <td>0.449834</td>\n",
       "      <td>0.474841</td>\n",
       "      <td>1.000000</td>\n",
       "    </tr>\n",
       "  </tbody>\n",
       "</table>\n",
       "</div>"
      ],
      "text/plain": [
       "          MSFT      NFLX        FB      AMZN\n",
       "MSFT  1.000000  0.364644  0.440689  0.569155\n",
       "NFLX  0.364644  1.000000  0.329135  0.449834\n",
       "FB    0.440689  0.329135  1.000000  0.474841\n",
       "AMZN  0.569155  0.449834  0.474841  1.000000"
      ]
     },
     "execution_count": 69,
     "metadata": {},
     "output_type": "execute_result"
    }
   ],
   "source": [
    "return_us.corr()"
   ]
  },
  {
   "cell_type": "code",
   "execution_count": 70,
   "metadata": {},
   "outputs": [
    {
     "data": {
      "text/html": [
       "<div>\n",
       "<style scoped>\n",
       "    .dataframe tbody tr th:only-of-type {\n",
       "        vertical-align: middle;\n",
       "    }\n",
       "\n",
       "    .dataframe tbody tr th {\n",
       "        vertical-align: top;\n",
       "    }\n",
       "\n",
       "    .dataframe thead th {\n",
       "        text-align: right;\n",
       "    }\n",
       "</style>\n",
       "<table border=\"1\" class=\"dataframe\">\n",
       "  <thead>\n",
       "    <tr style=\"text-align: right;\">\n",
       "      <th></th>\n",
       "      <th>MSFT</th>\n",
       "      <th>NFLX</th>\n",
       "      <th>FB</th>\n",
       "      <th>AMZN</th>\n",
       "    </tr>\n",
       "  </thead>\n",
       "  <tbody>\n",
       "    <tr>\n",
       "      <th>MSFT</th>\n",
       "      <td>0.000271</td>\n",
       "      <td>0.000184</td>\n",
       "      <td>0.000176</td>\n",
       "      <td>0.000184</td>\n",
       "    </tr>\n",
       "    <tr>\n",
       "      <th>NFLX</th>\n",
       "      <td>0.000184</td>\n",
       "      <td>0.000938</td>\n",
       "      <td>0.000245</td>\n",
       "      <td>0.000270</td>\n",
       "    </tr>\n",
       "    <tr>\n",
       "      <th>FB</th>\n",
       "      <td>0.000176</td>\n",
       "      <td>0.000245</td>\n",
       "      <td>0.000589</td>\n",
       "      <td>0.000226</td>\n",
       "    </tr>\n",
       "    <tr>\n",
       "      <th>AMZN</th>\n",
       "      <td>0.000184</td>\n",
       "      <td>0.000270</td>\n",
       "      <td>0.000226</td>\n",
       "      <td>0.000385</td>\n",
       "    </tr>\n",
       "  </tbody>\n",
       "</table>\n",
       "</div>"
      ],
      "text/plain": [
       "          MSFT      NFLX        FB      AMZN\n",
       "MSFT  0.000271  0.000184  0.000176  0.000184\n",
       "NFLX  0.000184  0.000938  0.000245  0.000270\n",
       "FB    0.000176  0.000245  0.000589  0.000226\n",
       "AMZN  0.000184  0.000270  0.000226  0.000385"
      ]
     },
     "execution_count": 70,
     "metadata": {},
     "output_type": "execute_result"
    }
   ],
   "source": [
    "return_us.cov()"
   ]
  },
  {
   "cell_type": "code",
   "execution_count": 72,
   "metadata": {},
   "outputs": [
    {
     "data": {
      "text/html": [
       "<div>\n",
       "<style scoped>\n",
       "    .dataframe tbody tr th:only-of-type {\n",
       "        vertical-align: middle;\n",
       "    }\n",
       "\n",
       "    .dataframe tbody tr th {\n",
       "        vertical-align: top;\n",
       "    }\n",
       "\n",
       "    .dataframe thead th {\n",
       "        text-align: right;\n",
       "    }\n",
       "</style>\n",
       "<table border=\"1\" class=\"dataframe\">\n",
       "  <thead>\n",
       "    <tr style=\"text-align: right;\">\n",
       "      <th></th>\n",
       "      <th>MSFT</th>\n",
       "      <th>NFLX</th>\n",
       "      <th>FB</th>\n",
       "      <th>AMZN</th>\n",
       "    </tr>\n",
       "  </thead>\n",
       "  <tbody>\n",
       "    <tr>\n",
       "      <th>MSFT</th>\n",
       "      <td>0.684428</td>\n",
       "      <td>0.464360</td>\n",
       "      <td>0.444431</td>\n",
       "      <td>0.464390</td>\n",
       "    </tr>\n",
       "    <tr>\n",
       "      <th>NFLX</th>\n",
       "      <td>0.464360</td>\n",
       "      <td>2.369427</td>\n",
       "      <td>0.617596</td>\n",
       "      <td>0.682908</td>\n",
       "    </tr>\n",
       "    <tr>\n",
       "      <th>FB</th>\n",
       "      <td>0.444431</td>\n",
       "      <td>0.617596</td>\n",
       "      <td>1.485995</td>\n",
       "      <td>0.570880</td>\n",
       "    </tr>\n",
       "    <tr>\n",
       "      <th>AMZN</th>\n",
       "      <td>0.464390</td>\n",
       "      <td>0.682908</td>\n",
       "      <td>0.570880</td>\n",
       "      <td>0.972694</td>\n",
       "    </tr>\n",
       "  </tbody>\n",
       "</table>\n",
       "</div>"
      ],
      "text/plain": [
       "          MSFT      NFLX        FB      AMZN\n",
       "MSFT  0.684428  0.464360  0.444431  0.464390\n",
       "NFLX  0.464360  2.369427  0.617596  0.682908\n",
       "FB    0.444431  0.617596  1.485995  0.570880\n",
       "AMZN  0.464390  0.682908  0.570880  0.972694"
      ]
     },
     "execution_count": 72,
     "metadata": {},
     "output_type": "execute_result"
    }
   ],
   "source": [
    "cov_us = return_us.cov()*return_us.shape[0]\n",
    "cov_us"
   ]
  },
  {
   "cell_type": "code",
   "execution_count": 73,
   "metadata": {},
   "outputs": [
    {
     "data": {
      "text/html": [
       "<div>\n",
       "<style scoped>\n",
       "    .dataframe tbody tr th:only-of-type {\n",
       "        vertical-align: middle;\n",
       "    }\n",
       "\n",
       "    .dataframe tbody tr th {\n",
       "        vertical-align: top;\n",
       "    }\n",
       "\n",
       "    .dataframe thead th {\n",
       "        text-align: right;\n",
       "    }\n",
       "</style>\n",
       "<table border=\"1\" class=\"dataframe\">\n",
       "  <thead>\n",
       "    <tr style=\"text-align: right;\">\n",
       "      <th></th>\n",
       "      <th>Samsung</th>\n",
       "      <th>SKHY</th>\n",
       "      <th>NAVER</th>\n",
       "      <th>KAKAO</th>\n",
       "    </tr>\n",
       "  </thead>\n",
       "  <tbody>\n",
       "    <tr>\n",
       "      <th>Samsung</th>\n",
       "      <td>0.880481</td>\n",
       "      <td>0.641910</td>\n",
       "      <td>0.272273</td>\n",
       "      <td>0.196244</td>\n",
       "    </tr>\n",
       "    <tr>\n",
       "      <th>SKHY</th>\n",
       "      <td>0.641910</td>\n",
       "      <td>1.757657</td>\n",
       "      <td>0.288064</td>\n",
       "      <td>0.317923</td>\n",
       "    </tr>\n",
       "    <tr>\n",
       "      <th>NAVER</th>\n",
       "      <td>0.272273</td>\n",
       "      <td>0.288064</td>\n",
       "      <td>1.934970</td>\n",
       "      <td>0.559208</td>\n",
       "    </tr>\n",
       "    <tr>\n",
       "      <th>KAKAO</th>\n",
       "      <td>0.196244</td>\n",
       "      <td>0.317923</td>\n",
       "      <td>0.559208</td>\n",
       "      <td>1.669729</td>\n",
       "    </tr>\n",
       "  </tbody>\n",
       "</table>\n",
       "</div>"
      ],
      "text/plain": [
       "          Samsung      SKHY     NAVER     KAKAO\n",
       "Samsung  0.880481  0.641910  0.272273  0.196244\n",
       "SKHY     0.641910  1.757657  0.288064  0.317923\n",
       "NAVER    0.272273  0.288064  1.934970  0.559208\n",
       "KAKAO    0.196244  0.317923  0.559208  1.669729"
      ]
     },
     "execution_count": 73,
     "metadata": {},
     "output_type": "execute_result"
    }
   ],
   "source": [
    "cov_kr = return_kr.cov()*return_kr.shape[0]\n",
    "cov_kr"
   ]
  },
  {
   "cell_type": "code",
   "execution_count": 75,
   "metadata": {},
   "outputs": [
    {
     "data": {
      "text/plain": [
       "<AxesSubplot:>"
      ]
     },
     "execution_count": 75,
     "metadata": {},
     "output_type": "execute_result"
    },
    {
     "data": {
      "image/png": "[encoded data removed]",
      "text/plain": [
       "<Figure size 576x396 with 2 Axes>"
      ]
     },
     "metadata": {},
     "output_type": "display_data"
    }
   ],
   "source": [
    "sns.heatmap(cov_us, cmap='Blues', linewidth=0.2, annot=True)"
   ]
  },
  {
   "cell_type": "code",
   "execution_count": 77,
   "metadata": {},
   "outputs": [
    {
     "data": {
      "image/png": "[encoded data removed]",
      "text/plain": [
       "<Figure size 576x396 with 2 Axes>"
      ]
     },
     "metadata": {},
     "output_type": "display_data"
    }
   ],
   "source": [
    "sns.heatmap(cov_kr, cmap='Blues', linewidth=0.2, annot=True);"
   ]
  },
  {
   "cell_type": "code",
   "execution_count": 78,
   "metadata": {},
   "outputs": [
    {
     "name": "stdout",
     "output_type": "stream",
     "text": [
      "0.7501048395090871\n",
      "0.6746300584409796\n"
     ]
    }
   ],
   "source": [
    "port_risk_us = np.dot(weights.T, np.dot(cov_us, weights))\n",
    "print(port_risk_us)\n",
    "port_risk_kr = np.dot(weights.T, np.dot(cov_kr, weights))\n",
    "print(port_risk_kr)"
   ]
  },
  {
   "cell_type": "code",
   "execution_count": 79,
   "metadata": {},
   "outputs": [
    {
     "data": {
      "text/plain": [
       "11.045591273207428"
      ]
     },
     "execution_count": 79,
     "metadata": {},
     "output_type": "execute_result"
    }
   ],
   "source": [
    "port_return_us"
   ]
  },
  {
   "cell_type": "code",
   "execution_count": 80,
   "metadata": {},
   "outputs": [],
   "source": [
    "rf = 0.02 # 무위험 자산 평균 수익률\n",
    "port_sr_us = (port_return_us - rf) / port_risk_us  # 초과수익 알파를 리스크로 나눈 값\n",
    "port_sr_kr = (port_return_kr - rf) / port_risk_kr\n"
   ]
  },
  {
   "cell_type": "code",
   "execution_count": 81,
   "metadata": {},
   "outputs": [
    {
     "name": "stdout",
     "output_type": "stream",
     "text": [
      "14.69873368691132\n",
      "7.379677536910618\n"
     ]
    }
   ],
   "source": [
    "print(port_sr_us)\n",
    "print(port_sr_kr)"
   ]
  },
  {
   "cell_type": "code",
   "execution_count": 89,
   "metadata": {},
   "outputs": [
    {
     "data": {
      "text/plain": [
       "1.142857142857143"
      ]
     },
     "execution_count": 89,
     "metadata": {},
     "output_type": "execute_result"
    }
   ],
   "source": [
    "0.8 / (0.7)  # 위험(0.7) 대비 알파(0.8)가 1.1배"
   ]
  },
  {
   "cell_type": "code",
   "execution_count": 88,
   "metadata": {},
   "outputs": [
    {
     "data": {
      "text/plain": [
       "2.666666666666667"
      ]
     },
     "execution_count": 88,
     "metadata": {},
     "output_type": "execute_result"
    }
   ],
   "source": [
    "0.8 / (0.3) # 위험(0.3) 대비 알파(0.8)가 2.6배"
   ]
  },
  {
   "cell_type": "code",
   "execution_count": 90,
   "metadata": {},
   "outputs": [
    {
     "data": {
      "text/plain": [
       "0.19999999999999998"
      ]
     },
     "execution_count": 90,
     "metadata": {},
     "output_type": "execute_result"
    }
   ],
   "source": [
    "0.04 / 0.2"
   ]
  },
  {
   "cell_type": "code",
   "execution_count": 92,
   "metadata": {},
   "outputs": [
    {
     "data": {
      "text/plain": [
       "0.25"
      ]
     },
     "execution_count": 92,
     "metadata": {},
     "output_type": "execute_result"
    }
   ],
   "source": [
    "0.05 / 0.2"
   ]
  },
  {
   "cell_type": "code",
   "execution_count": 94,
   "metadata": {},
   "outputs": [
    {
     "data": {
      "text/html": [
       "<div>\n",
       "<style scoped>\n",
       "    .dataframe tbody tr th:only-of-type {\n",
       "        vertical-align: middle;\n",
       "    }\n",
       "\n",
       "    .dataframe tbody tr th {\n",
       "        vertical-align: top;\n",
       "    }\n",
       "\n",
       "    .dataframe thead th {\n",
       "        text-align: right;\n",
       "    }\n",
       "</style>\n",
       "<table border=\"1\" class=\"dataframe\">\n",
       "  <thead>\n",
       "    <tr style=\"text-align: right;\">\n",
       "      <th></th>\n",
       "      <th>005930.KS</th>\n",
       "      <th>000660.KS</th>\n",
       "      <th>035420.KS</th>\n",
       "      <th>035720.KS</th>\n",
       "    </tr>\n",
       "    <tr>\n",
       "      <th>Date</th>\n",
       "      <th></th>\n",
       "      <th></th>\n",
       "      <th></th>\n",
       "      <th></th>\n",
       "    </tr>\n",
       "  </thead>\n",
       "  <tbody>\n",
       "    <tr>\n",
       "      <th>2010-01-04</th>\n",
       "      <td>12889.122070</td>\n",
       "      <td>21212.412109</td>\n",
       "      <td>46347.300781</td>\n",
       "      <td>13948.365234</td>\n",
       "    </tr>\n",
       "    <tr>\n",
       "      <th>2010-01-05</th>\n",
       "      <td>13096.241211</td>\n",
       "      <td>20552.273438</td>\n",
       "      <td>46347.300781</td>\n",
       "      <td>14062.385742</td>\n",
       "    </tr>\n",
       "    <tr>\n",
       "      <th>2010-01-06</th>\n",
       "      <td>13398.951172</td>\n",
       "      <td>21608.496094</td>\n",
       "      <td>46107.164062</td>\n",
       "      <td>14119.394531</td>\n",
       "    </tr>\n",
       "    <tr>\n",
       "      <th>2010-01-07</th>\n",
       "      <td>12952.850586</td>\n",
       "      <td>21476.464844</td>\n",
       "      <td>46227.234375</td>\n",
       "      <td>13948.365234</td>\n",
       "    </tr>\n",
       "    <tr>\n",
       "      <th>2010-01-08</th>\n",
       "      <td>13080.309570</td>\n",
       "      <td>21696.515625</td>\n",
       "      <td>44666.320312</td>\n",
       "      <td>13853.350586</td>\n",
       "    </tr>\n",
       "    <tr>\n",
       "      <th>...</th>\n",
       "      <td>...</td>\n",
       "      <td>...</td>\n",
       "      <td>...</td>\n",
       "      <td>...</td>\n",
       "    </tr>\n",
       "    <tr>\n",
       "      <th>2022-05-25</th>\n",
       "      <td>66400.000000</td>\n",
       "      <td>108000.000000</td>\n",
       "      <td>266000.000000</td>\n",
       "      <td>81800.000000</td>\n",
       "    </tr>\n",
       "    <tr>\n",
       "      <th>2022-05-26</th>\n",
       "      <td>65900.000000</td>\n",
       "      <td>103000.000000</td>\n",
       "      <td>266000.000000</td>\n",
       "      <td>81500.000000</td>\n",
       "    </tr>\n",
       "    <tr>\n",
       "      <th>2022-05-27</th>\n",
       "      <td>66500.000000</td>\n",
       "      <td>106000.000000</td>\n",
       "      <td>270000.000000</td>\n",
       "      <td>81700.000000</td>\n",
       "    </tr>\n",
       "    <tr>\n",
       "      <th>2022-05-30</th>\n",
       "      <td>67700.000000</td>\n",
       "      <td>107000.000000</td>\n",
       "      <td>281000.000000</td>\n",
       "      <td>83900.000000</td>\n",
       "    </tr>\n",
       "    <tr>\n",
       "      <th>2022-05-31</th>\n",
       "      <td>67400.000000</td>\n",
       "      <td>108000.000000</td>\n",
       "      <td>288000.000000</td>\n",
       "      <td>85000.000000</td>\n",
       "    </tr>\n",
       "  </tbody>\n",
       "</table>\n",
       "<p>3060 rows × 4 columns</p>\n",
       "</div>"
      ],
      "text/plain": [
       "               005930.KS      000660.KS      035420.KS     035720.KS\n",
       "Date                                                                \n",
       "2010-01-04  12889.122070   21212.412109   46347.300781  13948.365234\n",
       "2010-01-05  13096.241211   20552.273438   46347.300781  14062.385742\n",
       "2010-01-06  13398.951172   21608.496094   46107.164062  14119.394531\n",
       "2010-01-07  12952.850586   21476.464844   46227.234375  13948.365234\n",
       "2010-01-08  13080.309570   21696.515625   44666.320312  13853.350586\n",
       "...                  ...            ...            ...           ...\n",
       "2022-05-25  66400.000000  108000.000000  266000.000000  81800.000000\n",
       "2022-05-26  65900.000000  103000.000000  266000.000000  81500.000000\n",
       "2022-05-27  66500.000000  106000.000000  270000.000000  81700.000000\n",
       "2022-05-30  67700.000000  107000.000000  281000.000000  83900.000000\n",
       "2022-05-31  67400.000000  108000.000000  288000.000000  85000.000000\n",
       "\n",
       "[3060 rows x 4 columns]"
      ]
     },
     "execution_count": 94,
     "metadata": {},
     "output_type": "execute_result"
    }
   ],
   "source": [
    "df_kr_price"
   ]
  },
  {
   "cell_type": "code",
   "execution_count": 95,
   "metadata": {},
   "outputs": [
    {
     "data": {
      "text/html": [
       "<div>\n",
       "<style scoped>\n",
       "    .dataframe tbody tr th:only-of-type {\n",
       "        vertical-align: middle;\n",
       "    }\n",
       "\n",
       "    .dataframe tbody tr th {\n",
       "        vertical-align: top;\n",
       "    }\n",
       "\n",
       "    .dataframe thead th {\n",
       "        text-align: right;\n",
       "    }\n",
       "</style>\n",
       "<table border=\"1\" class=\"dataframe\">\n",
       "  <thead>\n",
       "    <tr style=\"text-align: right;\">\n",
       "      <th></th>\n",
       "      <th>MSFT</th>\n",
       "      <th>NFLX</th>\n",
       "      <th>FB</th>\n",
       "      <th>AMZN</th>\n",
       "    </tr>\n",
       "    <tr>\n",
       "      <th>Date</th>\n",
       "      <th></th>\n",
       "      <th></th>\n",
       "      <th></th>\n",
       "      <th></th>\n",
       "    </tr>\n",
       "  </thead>\n",
       "  <tbody>\n",
       "    <tr>\n",
       "      <th>2009-12-31</th>\n",
       "      <td>23.438799</td>\n",
       "      <td>7.870000</td>\n",
       "      <td>NaN</td>\n",
       "      <td>6.726000</td>\n",
       "    </tr>\n",
       "    <tr>\n",
       "      <th>2010-01-04</th>\n",
       "      <td>23.800228</td>\n",
       "      <td>7.640000</td>\n",
       "      <td>NaN</td>\n",
       "      <td>6.695000</td>\n",
       "    </tr>\n",
       "    <tr>\n",
       "      <th>2010-01-05</th>\n",
       "      <td>23.807922</td>\n",
       "      <td>7.358571</td>\n",
       "      <td>NaN</td>\n",
       "      <td>6.734500</td>\n",
       "    </tr>\n",
       "    <tr>\n",
       "      <th>2010-01-06</th>\n",
       "      <td>23.661800</td>\n",
       "      <td>7.617143</td>\n",
       "      <td>NaN</td>\n",
       "      <td>6.612500</td>\n",
       "    </tr>\n",
       "    <tr>\n",
       "      <th>2010-01-07</th>\n",
       "      <td>23.415728</td>\n",
       "      <td>7.485714</td>\n",
       "      <td>NaN</td>\n",
       "      <td>6.500000</td>\n",
       "    </tr>\n",
       "    <tr>\n",
       "      <th>...</th>\n",
       "      <td>...</td>\n",
       "      <td>...</td>\n",
       "      <td>...</td>\n",
       "      <td>...</td>\n",
       "    </tr>\n",
       "    <tr>\n",
       "      <th>2022-05-24</th>\n",
       "      <td>259.619995</td>\n",
       "      <td>180.339996</td>\n",
       "      <td>181.279999</td>\n",
       "      <td>104.099998</td>\n",
       "    </tr>\n",
       "    <tr>\n",
       "      <th>2022-05-25</th>\n",
       "      <td>262.519989</td>\n",
       "      <td>187.830002</td>\n",
       "      <td>183.830002</td>\n",
       "      <td>106.775002</td>\n",
       "    </tr>\n",
       "    <tr>\n",
       "      <th>2022-05-26</th>\n",
       "      <td>265.899994</td>\n",
       "      <td>191.399994</td>\n",
       "      <td>191.630005</td>\n",
       "      <td>111.077499</td>\n",
       "    </tr>\n",
       "    <tr>\n",
       "      <th>2022-05-27</th>\n",
       "      <td>273.239990</td>\n",
       "      <td>195.190002</td>\n",
       "      <td>195.130005</td>\n",
       "      <td>115.146500</td>\n",
       "    </tr>\n",
       "    <tr>\n",
       "      <th>2022-05-31</th>\n",
       "      <td>271.869995</td>\n",
       "      <td>197.440002</td>\n",
       "      <td>193.639999</td>\n",
       "      <td>120.209503</td>\n",
       "    </tr>\n",
       "  </tbody>\n",
       "</table>\n",
       "<p>3125 rows × 4 columns</p>\n",
       "</div>"
      ],
      "text/plain": [
       "                  MSFT        NFLX          FB        AMZN\n",
       "Date                                                      \n",
       "2009-12-31   23.438799    7.870000         NaN    6.726000\n",
       "2010-01-04   23.800228    7.640000         NaN    6.695000\n",
       "2010-01-05   23.807922    7.358571         NaN    6.734500\n",
       "2010-01-06   23.661800    7.617143         NaN    6.612500\n",
       "2010-01-07   23.415728    7.485714         NaN    6.500000\n",
       "...                ...         ...         ...         ...\n",
       "2022-05-24  259.619995  180.339996  181.279999  104.099998\n",
       "2022-05-25  262.519989  187.830002  183.830002  106.775002\n",
       "2022-05-26  265.899994  191.399994  191.630005  111.077499\n",
       "2022-05-27  273.239990  195.190002  195.130005  115.146500\n",
       "2022-05-31  271.869995  197.440002  193.639999  120.209503\n",
       "\n",
       "[3125 rows x 4 columns]"
      ]
     },
     "execution_count": 95,
     "metadata": {},
     "output_type": "execute_result"
    }
   ],
   "source": [
    "df_us_price"
   ]
  },
  {
   "cell_type": "code",
   "execution_count": 100,
   "metadata": {},
   "outputs": [
    {
     "data": {
      "text/plain": [
       "array([0.26777299, 0.12574001, 0.33105336, 0.27543363])"
      ]
     },
     "execution_count": 100,
     "metadata": {},
     "output_type": "execute_result"
    }
   ],
   "source": [
    "weights = np.random.rand(df_kr_price.shape[1])\n",
    "weights = weights / np.sum(weights)\n",
    "weights\n"
   ]
  },
  {
   "cell_type": "code",
   "execution_count": 102,
   "metadata": {},
   "outputs": [
    {
     "data": {
      "text/plain": [
       "Samsung    5.053711\n",
       "SKHY       4.483110\n",
       "NAVER      5.278207\n",
       "KAKAO      5.179181\n",
       "dtype: float64"
      ]
     },
     "execution_count": 102,
     "metadata": {},
     "output_type": "execute_result"
    }
   ],
   "source": [
    "r_a_kr"
   ]
  },
  {
   "cell_type": "code",
   "execution_count": 113,
   "metadata": {},
   "outputs": [
    {
     "data": {
      "text/html": [
       "<div>\n",
       "<style scoped>\n",
       "    .dataframe tbody tr th:only-of-type {\n",
       "        vertical-align: middle;\n",
       "    }\n",
       "\n",
       "    .dataframe tbody tr th {\n",
       "        vertical-align: top;\n",
       "    }\n",
       "\n",
       "    .dataframe thead th {\n",
       "        text-align: right;\n",
       "    }\n",
       "</style>\n",
       "<table border=\"1\" class=\"dataframe\">\n",
       "  <thead>\n",
       "    <tr style=\"text-align: right;\">\n",
       "      <th></th>\n",
       "      <th>Samsung</th>\n",
       "      <th>SKHY</th>\n",
       "      <th>NAVER</th>\n",
       "      <th>KAKAO</th>\n",
       "    </tr>\n",
       "    <tr>\n",
       "      <th>Date</th>\n",
       "      <th></th>\n",
       "      <th></th>\n",
       "      <th></th>\n",
       "      <th></th>\n",
       "    </tr>\n",
       "  </thead>\n",
       "  <tbody>\n",
       "    <tr>\n",
       "      <th>2010-01-04</th>\n",
       "      <td>NaN</td>\n",
       "      <td>NaN</td>\n",
       "      <td>NaN</td>\n",
       "      <td>NaN</td>\n",
       "    </tr>\n",
       "    <tr>\n",
       "      <th>2010-01-05</th>\n",
       "      <td>0.016069</td>\n",
       "      <td>-0.031121</td>\n",
       "      <td>0.000000</td>\n",
       "      <td>0.008174</td>\n",
       "    </tr>\n",
       "    <tr>\n",
       "      <th>2010-01-06</th>\n",
       "      <td>0.023115</td>\n",
       "      <td>0.051392</td>\n",
       "      <td>-0.005181</td>\n",
       "      <td>0.004054</td>\n",
       "    </tr>\n",
       "    <tr>\n",
       "      <th>2010-01-07</th>\n",
       "      <td>-0.033294</td>\n",
       "      <td>-0.006110</td>\n",
       "      <td>0.002604</td>\n",
       "      <td>-0.012113</td>\n",
       "    </tr>\n",
       "    <tr>\n",
       "      <th>2010-01-08</th>\n",
       "      <td>0.009840</td>\n",
       "      <td>0.010246</td>\n",
       "      <td>-0.033766</td>\n",
       "      <td>-0.006812</td>\n",
       "    </tr>\n",
       "    <tr>\n",
       "      <th>...</th>\n",
       "      <td>...</td>\n",
       "      <td>...</td>\n",
       "      <td>...</td>\n",
       "      <td>...</td>\n",
       "    </tr>\n",
       "    <tr>\n",
       "      <th>2022-05-25</th>\n",
       "      <td>-0.001504</td>\n",
       "      <td>-0.004608</td>\n",
       "      <td>0.000000</td>\n",
       "      <td>0.014888</td>\n",
       "    </tr>\n",
       "    <tr>\n",
       "      <th>2022-05-26</th>\n",
       "      <td>-0.007530</td>\n",
       "      <td>-0.046296</td>\n",
       "      <td>0.000000</td>\n",
       "      <td>-0.003667</td>\n",
       "    </tr>\n",
       "    <tr>\n",
       "      <th>2022-05-27</th>\n",
       "      <td>0.009105</td>\n",
       "      <td>0.029126</td>\n",
       "      <td>0.015038</td>\n",
       "      <td>0.002454</td>\n",
       "    </tr>\n",
       "    <tr>\n",
       "      <th>2022-05-30</th>\n",
       "      <td>0.018045</td>\n",
       "      <td>0.009434</td>\n",
       "      <td>0.040741</td>\n",
       "      <td>0.026928</td>\n",
       "    </tr>\n",
       "    <tr>\n",
       "      <th>2022-05-31</th>\n",
       "      <td>-0.004431</td>\n",
       "      <td>0.009346</td>\n",
       "      <td>0.024911</td>\n",
       "      <td>0.013111</td>\n",
       "    </tr>\n",
       "  </tbody>\n",
       "</table>\n",
       "<p>3060 rows × 4 columns</p>\n",
       "</div>"
      ],
      "text/plain": [
       "             Samsung      SKHY     NAVER     KAKAO\n",
       "Date                                              \n",
       "2010-01-04       NaN       NaN       NaN       NaN\n",
       "2010-01-05  0.016069 -0.031121  0.000000  0.008174\n",
       "2010-01-06  0.023115  0.051392 -0.005181  0.004054\n",
       "2010-01-07 -0.033294 -0.006110  0.002604 -0.012113\n",
       "2010-01-08  0.009840  0.010246 -0.033766 -0.006812\n",
       "...              ...       ...       ...       ...\n",
       "2022-05-25 -0.001504 -0.004608  0.000000  0.014888\n",
       "2022-05-26 -0.007530 -0.046296  0.000000 -0.003667\n",
       "2022-05-27  0.009105  0.029126  0.015038  0.002454\n",
       "2022-05-30  0.018045  0.009434  0.040741  0.026928\n",
       "2022-05-31 -0.004431  0.009346  0.024911  0.013111\n",
       "\n",
       "[3060 rows x 4 columns]"
      ]
     },
     "execution_count": 113,
     "metadata": {},
     "output_type": "execute_result"
    }
   ],
   "source": [
    "return_kr"
   ]
  },
  {
   "cell_type": "code",
   "execution_count": 115,
   "metadata": {},
   "outputs": [
    {
     "data": {
      "text/plain": [
       "array([0.26777299, 0.12574001, 0.33105336, 0.27543363])"
      ]
     },
     "execution_count": 115,
     "metadata": {},
     "output_type": "execute_result"
    }
   ],
   "source": [
    "weights"
   ]
  },
  {
   "cell_type": "code",
   "execution_count": 116,
   "metadata": {},
   "outputs": [
    {
     "data": {
      "text/plain": [
       "Samsung    5.053711\n",
       "SKHY       4.483110\n",
       "NAVER      5.278207\n",
       "KAKAO      5.179181\n",
       "dtype: float64"
      ]
     },
     "execution_count": 116,
     "metadata": {},
     "output_type": "execute_result"
    }
   ],
   "source": [
    "r_a_kr"
   ]
  },
  {
   "cell_type": "code",
   "execution_count": 117,
   "metadata": {},
   "outputs": [
    {
     "data": {
      "text/plain": [
       "5.090842480561353"
      ]
     },
     "execution_count": 117,
     "metadata": {},
     "output_type": "execute_result"
    }
   ],
   "source": [
    "port_return_kr = np.dot(weights, r_a_kr)\n",
    "port_return_kr"
   ]
  },
  {
   "cell_type": "code",
   "execution_count": 119,
   "metadata": {},
   "outputs": [
    {
     "data": {
      "text/html": [
       "<div>\n",
       "<style scoped>\n",
       "    .dataframe tbody tr th:only-of-type {\n",
       "        vertical-align: middle;\n",
       "    }\n",
       "\n",
       "    .dataframe tbody tr th {\n",
       "        vertical-align: top;\n",
       "    }\n",
       "\n",
       "    .dataframe thead th {\n",
       "        text-align: right;\n",
       "    }\n",
       "</style>\n",
       "<table border=\"1\" class=\"dataframe\">\n",
       "  <thead>\n",
       "    <tr style=\"text-align: right;\">\n",
       "      <th></th>\n",
       "      <th>Samsung</th>\n",
       "      <th>SKHY</th>\n",
       "      <th>NAVER</th>\n",
       "      <th>KAKAO</th>\n",
       "    </tr>\n",
       "  </thead>\n",
       "  <tbody>\n",
       "    <tr>\n",
       "      <th>Samsung</th>\n",
       "      <td>0.880481</td>\n",
       "      <td>0.641910</td>\n",
       "      <td>0.272273</td>\n",
       "      <td>0.196244</td>\n",
       "    </tr>\n",
       "    <tr>\n",
       "      <th>SKHY</th>\n",
       "      <td>0.641910</td>\n",
       "      <td>1.757657</td>\n",
       "      <td>0.288064</td>\n",
       "      <td>0.317923</td>\n",
       "    </tr>\n",
       "    <tr>\n",
       "      <th>NAVER</th>\n",
       "      <td>0.272273</td>\n",
       "      <td>0.288064</td>\n",
       "      <td>1.934970</td>\n",
       "      <td>0.559208</td>\n",
       "    </tr>\n",
       "    <tr>\n",
       "      <th>KAKAO</th>\n",
       "      <td>0.196244</td>\n",
       "      <td>0.317923</td>\n",
       "      <td>0.559208</td>\n",
       "      <td>1.669729</td>\n",
       "    </tr>\n",
       "  </tbody>\n",
       "</table>\n",
       "</div>"
      ],
      "text/plain": [
       "          Samsung      SKHY     NAVER     KAKAO\n",
       "Samsung  0.880481  0.641910  0.272273  0.196244\n",
       "SKHY     0.641910  1.757657  0.288064  0.317923\n",
       "NAVER    0.272273  0.288064  1.934970  0.559208\n",
       "KAKAO    0.196244  0.317923  0.559208  1.669729"
      ]
     },
     "execution_count": 119,
     "metadata": {},
     "output_type": "execute_result"
    }
   ],
   "source": [
    "cov_kr"
   ]
  },
  {
   "cell_type": "code",
   "execution_count": 121,
   "metadata": {},
   "outputs": [
    {
     "data": {
      "text/plain": [
       "0.6980896938980852"
      ]
     },
     "execution_count": 121,
     "metadata": {},
     "output_type": "execute_result"
    }
   ],
   "source": [
    "port_risk_kr = np.dot(weights.T, np.dot(cov_kr, weights))\n",
    "port_risk_kr"
   ]
  },
  {
   "cell_type": "code",
   "execution_count": 133,
   "metadata": {},
   "outputs": [],
   "source": [
    "kr_port_returns = []\n",
    "kr_port_risks = []\n",
    "for ii in range(3000):\n",
    "    weights = np.random.rand(len(df_kr_price.columns))\n",
    "    weights = weights/np.sum(weights) # 비율\n",
    "    r_a = (df_kr_price.iloc[-1] + df_kr_div.sum()) / df_kr_price.iloc[0] - 1 # 최종 수익률\n",
    "    port_return_kr = np.dot(weights, r_a) # 포트폴리오 최종 수익률\n",
    "    \n",
    "    cov_kr = (df_kr_price.pct_change()).cov()*len(df_kr_price)\n",
    "    port_risk_kr = np.dot(weights.T, np.dot(cov_kr, weights))\n",
    "    kr_port_returns.append(port_return_kr)\n",
    "    kr_port_risks.append(port_risk_kr)"
   ]
  },
  {
   "cell_type": "code",
   "execution_count": 134,
   "metadata": {},
   "outputs": [],
   "source": [
    "kr_port_returns = np.array(kr_port_returns)\n",
    "kr_port_risks = np.array(kr_port_risks)"
   ]
  },
  {
   "cell_type": "code",
   "execution_count": 135,
   "metadata": {},
   "outputs": [
    {
     "data": {
      "image/png": "[encoded data removed]",
      "text/plain": [
       "<Figure size 576x396 with 2 Axes>"
      ]
     },
     "metadata": {},
     "output_type": "display_data"
    }
   ],
   "source": [
    "plt.scatter(kr_port_risks,kr_port_returns, c=kr_port_returns/kr_port_risks)\n",
    "plt.colorbar(label='Shape ratio')\n",
    "plt.show()"
   ]
  },
  {
   "cell_type": "code",
   "execution_count": null,
   "metadata": {},
   "outputs": [],
   "source": []
  }
 ],
 "metadata": {
  "interpreter": {
   "hash": "a8794852b62a4462a96ac80605fc8d43852f76b609fd4223d6b680dd706ed402"
  },
  "kernelspec": {
   "display_name": "Python 3.7.7 ('Datascience')",
   "language": "python",
   "name": "python3"
  },
  "language_info": {
   "codemirror_mode": {
    "name": "ipython",
    "version": 3
   },
   "file_extension": ".py",
   "mimetype": "text/x-python",
   "name": "python",
   "nbconvert_exporter": "python",
   "pygments_lexer": "ipython3",
   "version": "3.7.7"
  },
  "orig_nbformat": 4
 },
 "nbformat": 4,
 "nbformat_minor": 2
}
